{
 "cells": [
  {
   "cell_type": "code",
   "execution_count": 1,
   "metadata": {},
   "outputs": [],
   "source": [
    "%matplotlib inline\n",
    "import sys\n",
    "sys.path.append(\"../../../agnpy\")\n",
    "import numpy as np\n",
    "import astropy.units as u\n",
    "import astropy.constants as const\n",
    "import matplotlib.pyplot as plt\n",
    "from agnpy.emission_regions import Blob\n",
    "from astropy.coordinates import Distance\n",
    "from agnpy.compton import ExternalCompton\n",
    "from agnpy.targets import SSDisk"
   ]
  },
  {
   "cell_type": "markdown",
   "metadata": {},
   "source": [
    "# electron densities"
   ]
  },
  {
   "cell_type": "code",
   "execution_count": 5,
   "metadata": {},
   "outputs": [
    {
     "name": "stdout",
     "output_type": "stream",
     "text": [
      "normalising broken power-law to total particle density: 1.00e-02 1 / cm3\n"
     ]
    }
   ],
   "source": [
    "spectrum_norm = 1e-2 * u.Unit(\"cm-3\")\n",
    "parameters = {\n",
    "    \"p1\": 2.0001,\n",
    "    \"p2\": 3.5,\n",
    "    \"gamma_b\": 1e4,\n",
    "    \"gamma_min\": 20,\n",
    "    \"gamma_max\": 5e7,\n",
    "}\n",
    "spectrum_dict = {\"type\": \"BrokenPowerLaw\", \"parameters\": parameters}\n",
    "R_b = 1e16 * u.cm\n",
    "B = 0.56 * u.G\n",
    "z = 1\n",
    "delta_D = 40\n",
    "Gamma = 40\n",
    "blob = Blob(R_b, z, delta_D, Gamma, B, spectrum_norm, spectrum_dict)\n",
    "blob.set_gamma_size(800)"
   ]
  },
  {
   "cell_type": "code",
   "execution_count": 6,
   "metadata": {},
   "outputs": [
    {
     "name": "stdout",
     "output_type": "stream",
     "text": [
      "-------------------------------------------------------------------------------------------------------------------\n",
      "model parameters:\n",
      " Name             | Type                 | Units            | value         | phys. boundaries              | log\n",
      "-------------------------------------------------------------------------------------------------------------------\n",
      " B                | magnetic_field       | G                | +5.600000e-01 | [+0.000000e+00,No           ] | False \n",
      " N                | electron_density     | cm^-3            | +1.000170e-02 | [+0.000000e+00,No           ] | False \n",
      " R                | region_size          | cm               | +1.600000e+01 | [+0.000000e+00,+3.000000e+01] | True \n",
      " beam_obj         | beaming              |                  | +4.000000e+01 | [+1.000000e+00,No           ] | False \n",
      " gamma_break      | turn-over-energy     | Lorentz-factor   | +1.000000e+04 | [+1.000000e+00,+1.000000e+08] | False \n",
      " gmax             | high-energy-cut-off  | Lorentz-factor   | +5.000000e+07 | [+1.000000e+00,+1.000000e+15] | False \n",
      " gmin             | low-energy-cut-off   | Lorentz-factor   | +2.000000e+01 | [+1.000000e+00,+1.000000e+05] | False \n",
      " p                | LE_spectral_slope    |                  | +2.000100e+00 | [-1.000000e+01,+1.000000e+01] | False \n",
      " p_1              | HE_spectral_slope    |                  | +3.500000e+00 | [-1.000000e+01,+1.000000e+01] | False \n",
      " z_cosm           | redshift             |                  | +1.000000e+00 | [+0.000000e+00,No           ] | False \n",
      "-------------------------------------------------------------------------------------------------------------------\n"
     ]
    }
   ],
   "source": [
    "from jetset.jet_model import Jet\n",
    "jet = Jet(name='test',electron_distribution='bkn')\n",
    "jet.set_par('B',val=blob.B.value)\n",
    "jet.set_par('N',val=blob.n_e_tot.value)\n",
    "jet.set_par('R',val=np.log10(blob.R_b.value))\n",
    "jet.set_par('beam_obj',val=blob.delta_D)\n",
    "jet.set_par('gmin',val=blob.gamma_min)\n",
    "jet.set_par('gmax',val=blob.gamma_max)\n",
    "jet.set_par('gamma_break',val=blob.n_e.gamma_b)\n",
    "jet.set_par('p',val=blob.n_e.p1)\n",
    "jet.set_par('p_1',val=blob.n_e.p2)\n",
    "jet.set_par('z_cosm',val=blob.z)\n",
    "jet.set_gamma_grid_size(1000)\n",
    "jet.show_pars()"
   ]
  },
  {
   "cell_type": "code",
   "execution_count": 7,
   "metadata": {},
   "outputs": [
    {
     "data": {
      "image/png": "[encoded data removed]",
      "text/plain": [
       "<Figure size 432x288 with 1 Axes>"
      ]
     },
     "metadata": {
      "needs_background": "light"
     },
     "output_type": "display_data"
    },
    {
     "name": "stdout",
     "output_type": "stream",
     "text": [
      "total density 1.00e-02 1 / cm3\n",
      "total energy 4.72e+42 erg\n"
     ]
    }
   ],
   "source": [
    "plt.loglog(jet.electron_distribution.gamma, jet.electron_distribution.n_gamma, lw=2, label=\"jetset\")\n",
    "plt.loglog(blob.gamma, blob.n_e(blob.gamma), lw=2, ls=\"--\", label=\"agnpy\")\n",
    "plt.xlabel(r\"$\\gamma$\")\n",
    "plt.ylabel(r\"$n_e(\\gamma)$\")\n",
    "plt.legend()\n",
    "plt.show()\n",
    "print(f\"total density {blob.n_e_tot:.2e}\")\n",
    "print(f\"total energy {blob.W_e:.2e}\")"
   ]
  },
  {
   "cell_type": "code",
   "execution_count": 10,
   "metadata": {},
   "outputs": [],
   "source": [
    "# disk parameters\n",
    "M_sun = const.M_sun.cgs\n",
    "M_BH = 1.2 * 1e9 * M_sun\n",
    "R_g = ((const.G * M_BH) / (const.c * const.c)).cgs\n",
    "L_disk = 2 * 1e46 * u.Unit(\"erg s-1\")\n",
    "eta = 1 / 12\n",
    "R_in = 6 * R_g\n",
    "R_out = 200 * R_g\n",
    "disk = SSDisk(M_BH, L_disk, eta, R_in, R_out)\n",
    "ec = ExternalCompton(blob, disk, r=1e17*u.cm)"
   ]
  },
  {
   "cell_type": "code",
   "execution_count": 19,
   "metadata": {},
   "outputs": [
    {
     "name": "stdout",
     "output_type": "stream",
     "text": [
      "-------------------------------------------------------------------------------------------------------------------\n",
      "model parameters:\n",
      " Name             | Type                 | Units            | value         | phys. boundaries              | log\n",
      "-------------------------------------------------------------------------------------------------------------------\n",
      " B                | magnetic_field       | G                | +5.600000e-01 | [+0.000000e+00,No           ] | False \n",
      " L_Disk           | Disk                 | erg/s            | +2.000000e+46 | [+0.000000e+00,No           ] | False \n",
      " N                | electron_density     | cm^-3            | +1.000170e-02 | [+0.000000e+00,No           ] | False \n",
      " R                | region_size          | cm               | +1.600000e+01 | [+0.000000e+00,+3.000000e+01] | True \n",
      " R_H              | Disk                 | cm               | +1.000000e+17 | [+0.000000e+00,No           ] | False \n",
      " R_ext_Sw         | Disk                 | Sw. radii        | +2.000000e+02 | [+0.000000e+00,No           ] | False \n",
      " R_inner_Sw       | Disk                 | Sw. radii        | +6.000000e+00 | [+0.000000e+00,No           ] | False \n",
      " T_Disk           | Disk                 | K                | +1.000000e+05 | [+0.000000e+00,No           ] | False \n",
      " accr_eff         | Disk                 |                  | +8.333333e-02 | [+0.000000e+00,No           ] | False \n",
      " beam_obj         | beaming              |                  | +4.000000e+01 | [+1.000000e+00,No           ] | False \n",
      " gamma_break      | turn-over-energy     | Lorentz-factor   | +1.000000e+04 | [+1.000000e+00,+1.000000e+08] | False \n",
      " gmax             | high-energy-cut-off  | Lorentz-factor   | +5.000000e+07 | [+1.000000e+00,+1.000000e+15] | False \n",
      " gmin             | low-energy-cut-off   | Lorentz-factor   | +2.000000e+01 | [+1.000000e+00,+1.000000e+05] | False \n",
      " p                | LE_spectral_slope    |                  | +2.000100e+00 | [-1.000000e+01,+1.000000e+01] | False \n",
      " p_1              | HE_spectral_slope    |                  | +3.500000e+00 | [-1.000000e+01,+1.000000e+01] | False \n",
      " z_cosm           | redshift             |                  | +1.000000e+00 | [+0.000000e+00,No           ] | False \n",
      "-------------------------------------------------------------------------------------------------------------------\n"
     ]
    }
   ],
   "source": [
    "jet.add_EC_component(\"EC_Disk\")\n",
    "jet.set_par(\"L_Disk\", val=disk.L_disk.value)\n",
    "jet.set_par(\"R_ext_Sw\", val=200)\n",
    "jet.set_par(\"R_inner_Sw\", val=6)\n",
    "jet.set_par(\"accr_eff\", val=disk.eta)\n",
    "jet.set_par(\"R_H\", val=1e17)\n",
    "jet.show_pars()"
   ]
  },
  {
   "cell_type": "code",
   "execution_count": 20,
   "metadata": {},
   "outputs": [],
   "source": [
    "nu_jetset, sed_jetset = jet.get_SED_points(name=\"EC_Disk\")"
   ]
  },
  {
   "cell_type": "code",
   "execution_count": 21,
   "metadata": {},
   "outputs": [
    {
     "ename": "NameError",
     "evalue": "name 'ec' is not defined",
     "output_type": "error",
     "traceback": [
      "\u001b[0;31m---------------------------------------------------------------------------\u001b[0m",
      "\u001b[0;31mNameError\u001b[0m                                 Traceback (most recent call last)",
      "\u001b[0;32m<ipython-input-21-bbf77fd80310>\u001b[0m in \u001b[0;36m<module>\u001b[0;34m\u001b[0m\n\u001b[1;32m      1\u001b[0m \u001b[0mnu_agnpy\u001b[0m \u001b[0;34m=\u001b[0m \u001b[0mnp\u001b[0m\u001b[0;34m.\u001b[0m\u001b[0mlogspace\u001b[0m\u001b[0;34m(\u001b[0m\u001b[0;36m17\u001b[0m\u001b[0;34m,\u001b[0m \u001b[0;36m30\u001b[0m\u001b[0;34m)\u001b[0m \u001b[0;34m*\u001b[0m \u001b[0mu\u001b[0m\u001b[0;34m.\u001b[0m\u001b[0mHz\u001b[0m\u001b[0;34m\u001b[0m\u001b[0;34m\u001b[0m\u001b[0m\n\u001b[0;32m----> 2\u001b[0;31m \u001b[0msed_agnpy\u001b[0m \u001b[0;34m=\u001b[0m \u001b[0mec\u001b[0m\u001b[0;34m.\u001b[0m\u001b[0m_sed_flux_disk\u001b[0m\u001b[0;34m(\u001b[0m\u001b[0mnu\u001b[0m\u001b[0;34m)\u001b[0m\u001b[0;34m\u001b[0m\u001b[0;34m\u001b[0m\u001b[0m\n\u001b[0m",
      "\u001b[0;31mNameError\u001b[0m: name 'ec' is not defined"
     ]
    }
   ],
   "source": [
    "nu_agnpy = np.logspace(17, 30) * u.Hz\n",
    "sed_agnpy = ec._sed_flux_disk(nu)"
   ]
  },
  {
   "cell_type": "code",
   "execution_count": null,
   "metadata": {},
   "outputs": [],
   "source": []
  }
 ],
 "metadata": {
  "kernelspec": {
   "display_name": "Python 3",
   "language": "python",
   "name": "python3"
  },
  "language_info": {
   "codemirror_mode": {
    "name": "ipython",
    "version": 3
   },
   "file_extension": ".py",
   "mimetype": "text/x-python",
   "name": "python",
   "nbconvert_exporter": "python",
   "pygments_lexer": "ipython3",
   "version": "3.7.4"
  }
 },
 "nbformat": 4,
 "nbformat_minor": 2
}
