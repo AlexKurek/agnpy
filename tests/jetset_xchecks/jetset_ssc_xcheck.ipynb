{
 "cells": [
  {
   "cell_type": "code",
   "execution_count": 1,
   "metadata": {},
   "outputs": [],
   "source": [
    "%matplotlib inline\n",
    "import sys\n",
    "sys.path.append(\"../../../agnpy\")\n",
    "import numpy as np\n",
    "import astropy.units as u\n",
    "import astropy.constants as const\n",
    "import matplotlib.pyplot as plt\n",
    "from agnpy.particles import Blob\n",
    "from astropy.coordinates import Distance\n",
    "from agnpy.synchrotron import Synchrotron\n",
    "from agnpy.compton import Compton"
   ]
  },
  {
   "cell_type": "code",
   "execution_count": 2,
   "metadata": {},
   "outputs": [],
   "source": [
    "MEC2 = (const.m_e * const.c * const.c).cgs.value\n",
    "H = const.h.cgs.value"
   ]
  },
  {
   "cell_type": "code",
   "execution_count": 3,
   "metadata": {},
   "outputs": [
    {
     "name": "stdout",
     "output_type": "stream",
     "text": [
      "normalizing power-law to total energy density u_e: 2.39e-01 erg cm-3\n"
     ]
    }
   ],
   "source": [
    "spectrum_norm = 1e48 * u.Unit(\"erg\")\n",
    "parameters = {\"p\": 2.8, \"gamma_min\": 1e2, \"gamma_max\": 1e5}\n",
    "spectrum_dict = {\"type\": \"PowerLaw\", \"parameters\": parameters}\n",
    "R_b = 1e16 * u.cm\n",
    "B = 1 * u.G\n",
    "z = Distance(1e27, unit=u.cm).z\n",
    "delta_D = 10\n",
    "Gamma = 10\n",
    "blob = Blob(R_b, z, delta_D, Gamma, B, spectrum_norm, spectrum_dict)"
   ]
  },
  {
   "cell_type": "code",
   "execution_count": 4,
   "metadata": {},
   "outputs": [
    {
     "name": "stderr",
     "output_type": "stream",
     "text": [
      "../../../agnpy/agnpy/synchrotron.py:116: RuntimeWarning: divide by zero encountered in true_divide\n",
      "  u = 1 / 2 + np.exp(-tau) / tau - (1 - np.exp(-tau)) / np.power(tau, 2)\n",
      "../../../agnpy/agnpy/synchrotron.py:116: RuntimeWarning: invalid value encountered in true_divide\n",
      "  u = 1 / 2 + np.exp(-tau) / tau - (1 - np.exp(-tau)) / np.power(tau, 2)\n",
      "../../../agnpy/agnpy/compton.py:20: RuntimeWarning: invalid value encountered in log\n",
      "  term_1 = 2 * q * np.log(q)\n"
     ]
    }
   ],
   "source": [
    "nu = np.logspace(8, 30, 100) * u.Hz\n",
    "\n",
    "synchrotron = Synchrotron(blob)\n",
    "# flux SED\n",
    "sed_synch = synchrotron.sed_flux(nu, SSA=True)\n",
    "sed_ssc = synchrotron.ssc_sed_flux(nu)"
   ]
  },
  {
   "cell_type": "markdown",
   "metadata": {},
   "source": [
    "# check Synchrotron Self Absorption"
   ]
  },
  {
   "cell_type": "code",
   "execution_count": 5,
   "metadata": {},
   "outputs": [],
   "source": [
    "epsilon = H * nu.to(\"Hz\").value / MEC2\n",
    "# correct epsilon to the comoving frame\n",
    "epsilon *= (1 + blob.z) / blob.delta_D\n",
    "tau = synchrotron.tau_SSA(epsilon)\n",
    "attenuation = synchrotron.attenuation_SSA(epsilon)"
   ]
  },
  {
   "cell_type": "code",
   "execution_count": 6,
   "metadata": {},
   "outputs": [
    {
     "data": {
      "text/plain": [
       "[<matplotlib.lines.Line2D at 0x7f1657015668>]"
      ]
     },
     "execution_count": 6,
     "metadata": {},
     "output_type": "execute_result"
    },
    {
     "data": {
      "image/png": "[encoded data removed]",
      "text/plain": [
       "<Figure size 432x288 with 1 Axes>"
      ]
     },
     "metadata": {
      "needs_background": "light"
     },
     "output_type": "display_data"
    }
   ],
   "source": [
    "plt.loglog(nu, tau)"
   ]
  },
  {
   "cell_type": "code",
   "execution_count": 7,
   "metadata": {},
   "outputs": [
    {
     "data": {
      "text/plain": [
       "[<matplotlib.lines.Line2D at 0x7f1656a5ecf8>]"
      ]
     },
     "execution_count": 7,
     "metadata": {},
     "output_type": "execute_result"
    },
    {
     "data": {
      "image/png": "[encoded data removed]",
      "text/plain": [
       "<Figure size 432x288 with 1 Axes>"
      ]
     },
     "metadata": {
      "needs_background": "light"
     },
     "output_type": "display_data"
    }
   ],
   "source": [
    "plt.loglog(nu, attenuation)"
   ]
  },
  {
   "cell_type": "markdown",
   "metadata": {},
   "source": [
    "# JetSet comparison"
   ]
  },
  {
   "cell_type": "code",
   "execution_count": 8,
   "metadata": {},
   "outputs": [
    {
     "name": "stdout",
     "output_type": "stream",
     "text": [
      "-------------------------------------------------------------------------------------------------------------------\n",
      "model parameters:\n",
      " Name             | Type                 | Units            | value         | phys. boundaries              | log\n",
      "-------------------------------------------------------------------------------------------------------------------\n",
      " B                | magnetic_field       | G                | +1.000000e-01 | [+0.000000e+00,No           ] | False \n",
      " N                | electron_density     | cm^-3            | +1.000000e+02 | [+0.000000e+00,No           ] | False \n",
      " R                | region_size          | cm               | +1.569897e+01 | [+0.000000e+00,+3.000000e+01] | True \n",
      " beam_obj         | beaming              |                  | +1.000000e+01 | [+1.000000e+00,No           ] | False \n",
      " gmax             | high-energy-cut-off  | Lorentz-factor   | +1.000000e+06 | [+1.000000e+00,+1.000000e+15] | False \n",
      " gmin             | low-energy-cut-off   | Lorentz-factor   | +2.000000e+00 | [+1.000000e+00,+1.000000e+05] | False \n",
      " p                | HE_spectral_slope    |                  | +2.000000e+00 | [-1.000000e+01,+1.000000e+01] | False \n",
      " z_cosm           | redshift             |                  | +1.000000e-01 | [+0.000000e+00,No           ] | False \n",
      "-------------------------------------------------------------------------------------------------------------------\n"
     ]
    }
   ],
   "source": [
    "from jetset.jet_model import Jet\n",
    "jet = Jet(name='test',electron_distribution='pl',)\n",
    "jet.show_pars()"
   ]
  },
  {
   "cell_type": "code",
   "execution_count": 9,
   "metadata": {},
   "outputs": [
    {
     "name": "stdout",
     "output_type": "stream",
     "text": [
      "-------------------------------------------------------------------------------------------------------------------\n",
      "model parameters:\n",
      " Name             | Type                 | Units            | value         | phys. boundaries              | log\n",
      "-------------------------------------------------------------------------------------------------------------------\n",
      " B                | magnetic_field       | G                | +1.000000e+00 | [+0.000000e+00,No           ] | False \n",
      " N                | electron_density     | cm^-3            | +1.302546e+03 | [+0.000000e+00,No           ] | False \n",
      " R                | region_size          | cm               | +1.600000e+01 | [+0.000000e+00,+3.000000e+01] | True \n",
      " beam_obj         | beaming              |                  | +1.000000e+01 | [+1.000000e+00,No           ] | False \n",
      " gmax             | high-energy-cut-off  | Lorentz-factor   | +1.000000e+05 | [+1.000000e+00,+1.000000e+15] | False \n",
      " gmin             | low-energy-cut-off   | Lorentz-factor   | +1.000000e+02 | [+1.000000e+00,+1.000000e+05] | False \n",
      " p                | HE_spectral_slope    |                  | +2.800000e+00 | [-1.000000e+01,+1.000000e+01] | False \n",
      " z_cosm           | redshift             |                  | +6.959965e-02 | [+0.000000e+00,No           ] | False \n",
      "-------------------------------------------------------------------------------------------------------------------\n"
     ]
    }
   ],
   "source": [
    "jet.set_par('B',val=blob.B)\n",
    "jet.set_par('N',val=blob.norm.value)\n",
    "jet.set_par('R',val=np.log10(blob.R_b))\n",
    "jet.set_par('beam_obj',val=blob.delta_D)\n",
    "jet.set_par('gmin',val=blob.gamma_min)\n",
    "jet.set_par('gmax',val=blob.gamma_max)\n",
    "jet.set_par('p',val=blob.n_e.p)\n",
    "jet.set_par('z_cosm',val=blob.z)\n",
    "# swictch off synchrotron self absorption\n",
    "jet.set_gamma_grid_size(1000)\n",
    "jet.nu_seed_size = 1000\n",
    "jet.show_pars()"
   ]
  },
  {
   "cell_type": "code",
   "execution_count": 10,
   "metadata": {},
   "outputs": [
    {
     "data": {
      "image/png": "[encoded data removed]",
      "text/plain": [
       "<Figure size 432x288 with 1 Axes>"
      ]
     },
     "metadata": {
      "needs_background": "light"
     },
     "output_type": "display_data"
    },
    {
     "name": "stdout",
     "output_type": "stream",
     "text": [
      "total density 1.30e+03 1 / cm3\n",
      "total energy 1.00e+48 erg\n"
     ]
    }
   ],
   "source": [
    "# check the input electron density\n",
    "plt.loglog(jet.electron_distribution.gamma, jet.electron_distribution.n_gamma, lw=2, label=\"jetset\")\n",
    "plt.loglog(blob.gamma, blob.n_e(blob.gamma), lw=2, ls=\"--\", label=\"agnpy\")\n",
    "plt.legend()\n",
    "plt.show()\n",
    "print(f\"total density {blob.norm:.2e}\")\n",
    "print(f\"total energy {blob.W_e:.2e}\")"
   ]
  },
  {
   "cell_type": "code",
   "execution_count": 11,
   "metadata": {},
   "outputs": [],
   "source": [
    "jet.eval()\n",
    "x, y = jet.get_SED_points()"
   ]
  },
  {
   "cell_type": "code",
   "execution_count": 12,
   "metadata": {},
   "outputs": [
    {
     "data": {
      "text/plain": [
       "Text(0, 0.5, '$\\\\nu F_{\\\\nu} / (erg\\\\,cm^{-2}\\\\,s^{-1})$')"
      ]
     },
     "execution_count": 12,
     "metadata": {},
     "output_type": "execute_result"
    },
    {
     "data": {
      "image/png": "[encoded data removed]",
      "text/plain": [
       "<Figure size 432x288 with 1 Axes>"
      ]
     },
     "metadata": {
      "needs_background": "light"
     },
     "output_type": "display_data"
    }
   ],
   "source": [
    "plt.loglog(x, y, lw=2, label=\"jetset\")\n",
    "plt.loglog(nu, sed_synch + sed_ssc, lw=2, ls=\"--\", label=\"agnpy\")\n",
    "plt.legend()\n",
    "plt.ylim([1e-12, 1e-8])\n",
    "plt.xlabel(r\"$\\nu / Hz$\")\n",
    "plt.ylabel(r\"$\\nu F_{\\nu} / (erg\\,cm^{-2}\\,s^{-1})$\")"
   ]
  }
 ],
 "metadata": {
  "kernelspec": {
   "display_name": "Python 3",
   "language": "python",
   "name": "python3"
  },
  "language_info": {
   "codemirror_mode": {
    "name": "ipython",
    "version": 3
   },
   "file_extension": ".py",
   "mimetype": "text/x-python",
   "name": "python",
   "nbconvert_exporter": "python",
   "pygments_lexer": "ipython3",
   "version": "3.7.2"
  }
 },
 "nbformat": 4,
 "nbformat_minor": 2
}
