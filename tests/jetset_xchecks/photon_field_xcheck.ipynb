{
 "cells": [
  {
   "cell_type": "markdown",
   "metadata": {},
   "source": [
    "# Check between photon fields"
   ]
  },
  {
   "cell_type": "code",
   "execution_count": 1,
   "metadata": {},
   "outputs": [],
   "source": [
    "import numpy as np\n",
    "import matplotlib.pyplot as plt\n",
    "import astropy.units as u\n",
    "import astropy.constants as const\n",
    "import matplotlib.pyplot as plt\n",
    "C = const.c.cgs.value"
   ]
  },
  {
   "cell_type": "markdown",
   "metadata": {},
   "source": [
    "I use Finke's expression for the photon fields at \n",
    "https://ui.adsabs.harvard.edu/abs/2016ApJ...830...94F/abstract"
   ]
  },
  {
   "cell_type": "markdown",
   "metadata": {},
   "source": [
    "## Spherical Shell BLR\n",
    "The energy density of the BLR reads Eq. (80):\n",
    "$$\n",
    "u_{\\rm re}(\\epsilon,\\,\\Omega_{\\rm re}; R_{\\rm li}) = \\frac{\\xi_{\\rm li} L_{\\rm disk}}{(4 \\pi)^2 c}\\,\\delta(\\epsilon - \\epsilon_{\\rm li}) \n",
    "\\int_{-1}^{1}\\;\\frac{d \\mu_{\\rm re}}{x^2} \\, \\delta(\\mu - \\mu_*),\n",
    "$$\n",
    "where $\\xi_{\\rm li}$ is the fraction of the disk radiation reprocessed, $x$ is the distance of the reprocessing material to the blob, $r$ is the height of the blob above the BH. See Figure 9 of the paper\n",
    "$$\n",
    "x^2 = R_{\\rm re}^2 + r^2 - 2 r R_{\\rm re} \\mu_{\\rm re}.\n",
    "$$\n",
    "with $R_{\\rm re} = R_{\\rm li}$ in our case which is the radius of the spherical shell BLR.    \n",
    "The delta functions are not relevant for the energy density of the target, they only enter the Compton kernel calculation."
   ]
  },
  {
   "cell_type": "code",
   "execution_count": 17,
   "metadata": {},
   "outputs": [],
   "source": [
    "def x_2(r, R_re, mu_re):\n",
    "    return np.power(R_re, 2) + np.power(r, 2) - 2 * r * R_re * mu_re\n",
    "\n",
    "def u_re_blr(r, L_disk, xi_li, R_li):\n",
    "    mu = np.linspace(-1, 1, 200)\n",
    "    prefactor = xi_li * L_disk / (np.power(4 * np.pi, 2) * C)\n",
    "    # make it multidimensional\n",
    "    # axis 0: r\n",
    "    # axis 1: mu\n",
    "    _r = r.reshape(r.size, 1)\n",
    "    _mu = mu.reshape(1, mu.size)\n",
    "    _x_2 = x_2(_r, R_li, _mu)\n",
    "    _integrand = np.power(_x_2, -1)\n",
    "    integral = np.trapz(_integrand, mu, axis=-1)\n",
    "    return prefactor * integral"
   ]
  },
  {
   "cell_type": "code",
   "execution_count": 18,
   "metadata": {},
   "outputs": [],
   "source": [
    "r = np.logspace(17.5, 19, 20) \n",
    "xi_li = 0.1 # erg s-1 as in JetSet default\n",
    "L_disk = 1e45 # erg s-1 as in JetSet default\n",
    "R_li =  1e18 # cm as in JetSet default"
   ]
  },
  {
   "cell_type": "code",
   "execution_count": 27,
   "metadata": {},
   "outputs": [
    {
     "data": {
      "text/plain": [
       "Text(8e+17, 1e-06, '$R_{\\\\rm li}$')"
      ]
     },
     "execution_count": 27,
     "metadata": {},
     "output_type": "execute_result"
    },
    {
     "data": {
      "image/png": "[encoded data removed]",
      "text/plain": [
       "<Figure size 432x288 with 1 Axes>"
      ]
     },
     "metadata": {
      "needs_background": "light"
     },
     "output_type": "display_data"
    }
   ],
   "source": [
    "plt.loglog(r, u_re_blr(r, L_disk, xi_li, R_li))\n",
    "plt.axvline(R_li, ls=\"--\", color=\"dimgray\")\n",
    "plt.xlabel(r\"$r\\,/\\,{\\rm cm}$\")\n",
    "plt.ylabel(r\"$u_{\\rm re}\\,/\\,({\\rm erg\\,cm}^{-3})$\")\n",
    "plt.text(0.8*1e18, 1e-6, r\"$R_{\\rm li}$\", rotation=90, fontsize=14)"
   ]
  },
  {
   "cell_type": "markdown",
   "metadata": {},
   "source": [
    "## Ring Dust Torus\n",
    "The energy density of the Torus reads Eq.(91):\n",
    "$$\n",
    "u_{\\rm re}(\\epsilon,\\,\\Omega) = \n",
    "\\frac{\\xi_{\\rm dt} L_{\\rm disk}}{(4 \\pi)^2 c x^2}\\,\n",
    "\\delta\\left(\\mu - \\frac{r}{x} \\right) \\, \\delta(\\epsilon - \\epsilon_{\\rm dt}),\n",
    "$$\n",
    "Again the delta functions serves the Compton Kernel computations, $x$ in this case reads,\n",
    "$$\n",
    "x^2 = R^2_{\\rm dt} + r^2,\n",
    "$$\n",
    "where $R_{\\rm dt}$ is the disk radius and $r$ is the height of the blob above the jet."
   ]
  },
  {
   "cell_type": "code",
   "execution_count": 24,
   "metadata": {},
   "outputs": [],
   "source": [
    "def u_re_dt(r, L_disk, xi_dt, R_dt):\n",
    "    x_2 = np.power(R_dt, 2) + np.power(r, 2)\n",
    "    return xi_dt * L_disk / (np.power(4 * np.pi, 2) * C * x_2)"
   ]
  },
  {
   "cell_type": "code",
   "execution_count": 29,
   "metadata": {},
   "outputs": [
    {
     "data": {
      "text/plain": [
       "Text(4e+18, 2e-07, '$R_{\\\\rm dt}$')"
      ]
     },
     "execution_count": 29,
     "metadata": {},
     "output_type": "execute_result"
    },
    {
     "data": {
      "image/png": "[encoded data removed]",
      "text/plain": [
       "<Figure size 432x288 with 1 Axes>"
      ]
     },
     "metadata": {
      "needs_background": "light"
     },
     "output_type": "display_data"
    }
   ],
   "source": [
    "xi_dt = 0.1 # as in JetSet\n",
    "R_dt = 5e18 # as in JetSet\n",
    "\n",
    "plt.loglog(r, u_re_dt(r, L_disk, xi_dt, R_dt))\n",
    "plt.axvline(R_dt, ls=\"--\", color=\"dimgray\")\n",
    "plt.xlabel(r\"$r\\,/\\,{\\rm cm}$\")\n",
    "plt.ylabel(r\"$u_{\\rm re}\\,/\\,({\\rm erg\\,cm}^{-3})$\")\n",
    "plt.text(4e18, 2e-7, r\"$R_{\\rm dt}$\", rotation=90, fontsize=14)"
   ]
  }
 ],
 "metadata": {
  "kernelspec": {
   "display_name": "Python 3",
   "language": "python",
   "name": "python3"
  },
  "language_info": {
   "codemirror_mode": {
    "name": "ipython",
    "version": 3
   },
   "file_extension": ".py",
   "mimetype": "text/x-python",
   "name": "python",
   "nbconvert_exporter": "python",
   "pygments_lexer": "ipython3",
   "version": "3.7.2"
  }
 },
 "nbformat": 4,
 "nbformat_minor": 2
}
