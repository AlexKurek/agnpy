{
 "cells": [
  {
   "cell_type": "markdown",
   "metadata": {},
   "source": [
    "## Synchrotron and Synchrotron Self-Compton crosscheck with jetset\n",
    "In this notebook I cross check the Synchrotron and Synchrotron Self-Compton SEDs produced by agnpy with those produced by Andrea Tramacere's jetset.      \n",
    "Jetset is needed to run this notebook\n",
    "https://github.com/andreatramacere/jetset\n",
    "https://jetset.readthedocs.io/en/latest/"
   ]
  },
  {
   "cell_type": "code",
   "execution_count": 1,
   "metadata": {},
   "outputs": [],
   "source": [
    "import numpy as np\n",
    "import astropy.units as u\n",
    "import astropy.constants as const\n",
    "from astropy.coordinates import Distance\n",
    "from agnpy.emission_regions import Blob\n",
    "from agnpy.synchrotron import Synchrotron\n",
    "from agnpy.compton import SynchrotronSelfCompton\n",
    "import matplotlib.pyplot as plt"
   ]
  },
  {
   "cell_type": "markdown",
   "metadata": {},
   "source": [
    "### agnpy"
   ]
  },
  {
   "cell_type": "code",
   "execution_count": 2,
   "metadata": {},
   "outputs": [
    {
     "name": "stdout",
     "output_type": "stream",
     "text": [
      "normalising power-law to total energy density u_e: 2.39e-01 erg / cm3\n"
     ]
    }
   ],
   "source": [
    "# set the spectrum normalisation (total energy in electrons in this case)\n",
    "spectrum_norm = 1e48 * u.Unit(\"erg\")\n",
    "# define the spectral function through a dictionary\n",
    "spectrum_dict = {\n",
    "    \"type\": \"PowerLaw\",\n",
    "    \"parameters\": {\"p\": 2.8, \"gamma_min\": 1e2, \"gamma_max\": 1e7}\n",
    "}\n",
    "R_b = 1e16 * u.cm\n",
    "B = 1 * u.G\n",
    "z = Distance(1e27, unit=u.cm).z\n",
    "delta_D = 10\n",
    "Gamma = 10\n",
    "blob = Blob(R_b, z, delta_D, Gamma, B, spectrum_norm, spectrum_dict)"
   ]
  },
  {
   "cell_type": "code",
   "execution_count": 3,
   "metadata": {},
   "outputs": [
    {
     "name": "stdout",
     "output_type": "stream",
     "text": [
      "* spherical emission region\n",
      " - R_b (radius of the blob): 1.00e+16 cm\n",
      " - V_b (volume of the blob): 4.19e+48 cm3\n",
      " - z (source redshift): 0.07\n",
      " - d_L (source luminosity distance):1.00e+27 cm\n",
      " - delta_D (blob Doppler factor): 1.00e+01\n",
      " - Gamma (blob Lorentz factor): 1.00e+01\n",
      " - Beta (blob relativistic velocity): 9.95e-01\n",
      " - theta_s (jet viewing angle): 5.74e+00 deg\n",
      " - B (magnetic field tangled to the jet): 1.00e+00 G\n",
      "* electron spectrum\n",
      " - power law\n",
      " - k_e: 9.29e+06 1 / cm3\n",
      " - p: 2.80\n",
      " - gamma_min: 1.00e+02\n",
      " - gamma_max: 1.00e+07\n",
      "\n"
     ]
    }
   ],
   "source": [
    "print(blob)"
   ]
  },
  {
   "cell_type": "code",
   "execution_count": 5,
   "metadata": {},
   "outputs": [
    {
     "name": "stderr",
     "output_type": "stream",
     "text": [
      "/Users/cosimo/software/miniconda3/lib/python3.7/site-packages/agnpy/compton.py:24: RuntimeWarning: invalid value encountered in log\n",
      "  term_1 = 2 * q * np.log(q)\n"
     ]
    }
   ],
   "source": [
    "nu = np.logspace(8, 30) * u.Hz\n",
    "\n",
    "synch = Synchrotron(blob)\n",
    "ssc = SynchrotronSelfCompton(blob, synch)\n",
    "\n",
    "# let us compute the SED values at these frequencies\n",
    "synch_sed = synch.sed_flux(nu)\n",
    "ssc_sed = ssc.sed_flux(nu)"
   ]
  },
  {
   "cell_type": "markdown",
   "metadata": {},
   "source": [
    "### JetSet"
   ]
  },
  {
   "cell_type": "code",
   "execution_count": 6,
   "metadata": {},
   "outputs": [
    {
     "data": {
      "text/html": [
       "<i>Table length=9</i>\n",
       "<table id=\"table103580972304\" class=\"table-striped table-bordered table-condensed\">\n",
       "<thead><tr><th>name</th><th>par type</th><th>units</th><th>val</th><th>phys. bound. min</th><th>phys. bound. max</th><th>log</th><th>frozen</th></tr></thead>\n",
       "<thead><tr><th>str8</th><th>str19</th><th>object</th><th>float64</th><th>float64</th><th>object</th><th>bool</th><th>bool</th></tr></thead>\n",
       "<tr><td>N</td><td>electron_density</td><td>1 / cm3</td><td>100.0</td><td>0.0</td><td>None</td><td>False</td><td>False</td></tr>\n",
       "<tr><td>gmin</td><td>low-energy-cut-off</td><td>lorentz-factor*</td><td>2.0</td><td>1.0</td><td>1000000000.0</td><td>False</td><td>False</td></tr>\n",
       "<tr><td>gmax</td><td>high-energy-cut-off</td><td>lorentz-factor*</td><td>1000000.0</td><td>1.0</td><td>1000000000000000.0</td><td>False</td><td>False</td></tr>\n",
       "<tr><td>p</td><td>HE_spectral_slope</td><td></td><td>2.0</td><td>-10.0</td><td>10.0</td><td>False</td><td>False</td></tr>\n",
       "<tr><td>R</td><td>region_size</td><td>cm</td><td>5000000000000000.0</td><td>1000.0</td><td>1e+30</td><td>False</td><td>False</td></tr>\n",
       "<tr><td>R_H</td><td>region_position</td><td>cm</td><td>1e+17</td><td>0.0</td><td>None</td><td>False</td><td>True</td></tr>\n",
       "<tr><td>B</td><td>magnetic_field</td><td>G</td><td>0.1</td><td>0.0</td><td>None</td><td>False</td><td>False</td></tr>\n",
       "<tr><td>beam_obj</td><td>beaming</td><td>Lorentz-factor*</td><td>10.0</td><td>0.0001</td><td>None</td><td>False</td><td>False</td></tr>\n",
       "<tr><td>z_cosm</td><td>redshift</td><td></td><td>0.1</td><td>0.0</td><td>None</td><td>False</td><td>False</td></tr>\n",
       "</table>"
      ],
      "text/plain": [
       "<Table length=9>\n",
       "  name         par type           units      ...  phys. bound. max   log  frozen\n",
       "  str8          str19             object     ...       object        bool  bool \n",
       "-------- ------------------- --------------- ... ------------------ ----- ------\n",
       "       N    electron_density         1 / cm3 ...               None False  False\n",
       "    gmin  low-energy-cut-off lorentz-factor* ...       1000000000.0 False  False\n",
       "    gmax high-energy-cut-off lorentz-factor* ... 1000000000000000.0 False  False\n",
       "       p   HE_spectral_slope                 ...               10.0 False  False\n",
       "       R         region_size              cm ...              1e+30 False  False\n",
       "     R_H     region_position              cm ...               None False   True\n",
       "       B      magnetic_field               G ...               None False  False\n",
       "beam_obj             beaming Lorentz-factor* ...               None False  False\n",
       "  z_cosm            redshift                 ...               None False  False"
      ]
     },
     "execution_count": 6,
     "metadata": {},
     "output_type": "execute_result"
    }
   ],
   "source": [
    "from jetset.jet_model import Jet\n",
    "jet = Jet(name='ssc',electron_distribution='pl',)\n",
    "jet.parameters.par_table"
   ]
  },
  {
   "cell_type": "code",
   "execution_count": 7,
   "metadata": {},
   "outputs": [
    {
     "data": {
      "text/html": [
       "<i>Table length=9</i>\n",
       "<table id=\"table103581061904\" class=\"table-striped table-bordered table-condensed\">\n",
       "<thead><tr><th>name</th><th>par type</th><th>units</th><th>val</th><th>phys. bound. min</th><th>phys. bound. max</th><th>log</th><th>frozen</th></tr></thead>\n",
       "<thead><tr><th>str8</th><th>str19</th><th>object</th><th>float64</th><th>float64</th><th>object</th><th>bool</th><th>bool</th></tr></thead>\n",
       "<tr><td>N</td><td>electron_density</td><td>1 / cm3</td><td>1299.9577451850028</td><td>0.0</td><td>None</td><td>False</td><td>False</td></tr>\n",
       "<tr><td>gmin</td><td>low-energy-cut-off</td><td>lorentz-factor*</td><td>100.0</td><td>1.0</td><td>1000000000.0</td><td>False</td><td>False</td></tr>\n",
       "<tr><td>gmax</td><td>high-energy-cut-off</td><td>lorentz-factor*</td><td>10000000.0</td><td>1.0</td><td>1000000000000000.0</td><td>False</td><td>False</td></tr>\n",
       "<tr><td>p</td><td>HE_spectral_slope</td><td></td><td>2.8</td><td>-10.0</td><td>10.0</td><td>False</td><td>False</td></tr>\n",
       "<tr><td>R</td><td>region_size</td><td>cm</td><td>1e+16</td><td>1000.0</td><td>1e+30</td><td>False</td><td>False</td></tr>\n",
       "<tr><td>R_H</td><td>region_position</td><td>cm</td><td>1e+17</td><td>0.0</td><td>None</td><td>False</td><td>True</td></tr>\n",
       "<tr><td>B</td><td>magnetic_field</td><td>G</td><td>1.0</td><td>0.0</td><td>None</td><td>False</td><td>False</td></tr>\n",
       "<tr><td>beam_obj</td><td>beaming</td><td>Lorentz-factor*</td><td>10.0</td><td>0.0001</td><td>None</td><td>False</td><td>False</td></tr>\n",
       "<tr><td>z_cosm</td><td>redshift</td><td></td><td>0.0695996461952402</td><td>0.0</td><td>None</td><td>False</td><td>False</td></tr>\n",
       "</table>"
      ],
      "text/plain": [
       "<Table length=9>\n",
       "  name         par type           units      ...  phys. bound. max   log  frozen\n",
       "  str8          str19             object     ...       object        bool  bool \n",
       "-------- ------------------- --------------- ... ------------------ ----- ------\n",
       "       N    electron_density         1 / cm3 ...               None False  False\n",
       "    gmin  low-energy-cut-off lorentz-factor* ...       1000000000.0 False  False\n",
       "    gmax high-energy-cut-off lorentz-factor* ... 1000000000000000.0 False  False\n",
       "       p   HE_spectral_slope                 ...               10.0 False  False\n",
       "       R         region_size              cm ...              1e+30 False  False\n",
       "     R_H     region_position              cm ...               None False   True\n",
       "       B      magnetic_field               G ...               None False  False\n",
       "beam_obj             beaming Lorentz-factor* ...               None False  False\n",
       "  z_cosm            redshift                 ...               None False  False"
      ]
     },
     "execution_count": 7,
     "metadata": {},
     "output_type": "execute_result"
    }
   ],
   "source": [
    "jet.set_par('B', val=blob.B.value)\n",
    "# mind the normalisation in jetset is the total electron density (integrated along gamma)\n",
    "jet.set_par('N', val=blob.n_e_tot.value)\n",
    "jet.set_par('R', val=blob.R_b.value)\n",
    "jet.set_par('beam_obj', val=blob.delta_D)\n",
    "jet.set_par('gmin', val=blob.gamma_min)\n",
    "jet.set_par('gmax', val=blob.gamma_max)\n",
    "jet.set_par('p', val=blob.n_e.p)\n",
    "jet.set_par('z_cosm', val=blob.z)\n",
    "# switch off synchrotron self absorption\n",
    "jet.set_gamma_grid_size(1000)\n",
    "jet.nu_seed_size = 1000\n",
    "# check the parameters have been updated\n",
    "jet.parameters.par_table"
   ]
  },
  {
   "cell_type": "code",
   "execution_count": 8,
   "metadata": {},
   "outputs": [
    {
     "data": {
      "image/png": "[encoded data removed]",
      "text/plain": [
       "<Figure size 432x288 with 1 Axes>"
      ]
     },
     "metadata": {
      "needs_background": "light"
     },
     "output_type": "display_data"
    }
   ],
   "source": [
    "# check the input electron density\n",
    "plt.loglog(blob.gamma, blob.n_e(blob.gamma), lw=2, ls=\"-\", label=\"agnpy\")\n",
    "plt.loglog(jet.electron_distribution.gamma, jet.electron_distribution.n_gamma, lw=2, ls=\"--\", label=\"jetset\")\n",
    "plt.legend()\n",
    "plt.show()"
   ]
  },
  {
   "cell_type": "code",
   "execution_count": null,
   "metadata": {},
   "outputs": [],
   "source": [
    "jet.eval()"
   ]
  },
  {
   "cell_type": "code",
   "execution_count": null,
   "metadata": {},
   "outputs": [],
   "source": [
    "x, y = jet.get_SED_points()"
   ]
  },
  {
   "cell_type": "code",
   "execution_count": null,
   "metadata": {},
   "outputs": [],
   "source": [
    "plt.loglog(x, y, lw=2, label=\"jetset\")\n",
    "plt.loglog(nu, sed_synch + sed_ssc, lw=2, ls=\"--\", label=\"agnpy\")\n",
    "plt.legend()\n",
    "plt.ylim([1e-12, 1e-8])\n",
    "plt.xlabel(r\"$\\nu / Hz$\")\n",
    "plt.ylabel(r\"$\\nu F_{\\nu} / (erg\\,cm^{-2}\\,s^{-1})$\")"
   ]
  }
 ],
 "metadata": {
  "kernelspec": {
   "display_name": "Python 3",
   "language": "python",
   "name": "python3"
  },
  "language_info": {
   "codemirror_mode": {
    "name": "ipython",
    "version": 3
   },
   "file_extension": ".py",
   "mimetype": "text/x-python",
   "name": "python",
   "nbconvert_exporter": "python",
   "pygments_lexer": "ipython3",
   "version": "3.7.4"
  }
 },
 "nbformat": 4,
 "nbformat_minor": 2
}
