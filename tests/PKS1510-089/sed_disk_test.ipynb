{
 "cells": [
  {
   "cell_type": "code",
   "execution_count": 1,
   "metadata": {},
   "outputs": [],
   "source": [
    "import sys\n",
    "sys.path.append(\"../../\")\n",
    "import numpy as np\n",
    "import astropy.units as u\n",
    "import astropy.constants as const\n",
    "import matplotlib.pyplot as plt\n",
    "from agnpy.targets import Disk\n",
    "from agnpy.particles import Blob"
   ]
  },
  {
   "cell_type": "code",
   "execution_count": 2,
   "metadata": {},
   "outputs": [
    {
     "name": "stdout",
     "output_type": "stream",
     "text": [
      "normalizing power-law to total energy density u_e: 0.023873241463784306 erg cm-3\n",
      "normalization 2.58e+03 1 / cm3\n"
     ]
    }
   ],
   "source": [
    "MEC2 = (const.m_e * const.c * const.c).cgs.value\n",
    "\n",
    "spectrum_norm = 8e47 * u.Unit(\"erg\")\n",
    "parameters = {\"p1\": 1.9, \"p2\": 3.5, \"gamma_b\": 130, \"gamma_min\": 2.0, \"gamma_max\": 3e5}\n",
    "spectrum_dict = {\"type\": \"BrokenPowerLaw\", \"parameters\": parameters}\n",
    "R_b = 2e16 * u.cm\n",
    "B = 0.35 * u.G\n",
    "z = 0.361\n",
    "delta_D = 35.3\n",
    "Gamma = 22.5\n",
    "\n",
    "blob = Blob(R_b, z, delta_D, Gamma, B, spectrum_norm, spectrum_dict)\n",
    "print(f\"normalization {blob.norm:.2e}\")"
   ]
  },
  {
   "cell_type": "code",
   "execution_count": 3,
   "metadata": {},
   "outputs": [],
   "source": [
    "# disk parameters\n",
    "M_BH = np.power(10, 8.20) * const.M_sun\n",
    "L_disk = 1.13 * 1e46 * u.Unit(\"erg s-1\")\n",
    "R_g = ((const.G * M_BH) / (const.c * const.c)).cgs\n",
    "eta = 0.1\n",
    "R_in = 6 * R_g\n",
    "R_out = 200 * R_g\n",
    "\n",
    "r = 7e17 * u.cm\n",
    "\n",
    "disk = Disk(M_BH, L_disk, eta, R_in, R_out, r)"
   ]
  },
  {
   "cell_type": "code",
   "execution_count": 4,
   "metadata": {},
   "outputs": [
    {
     "data": {
      "text/plain": [
       "(1e-20, 1e-10)"
      ]
     },
     "execution_count": 4,
     "metadata": {},
     "output_type": "execute_result"
    },
    {
     "data": {
      "image/png": "[encoded data removed]",
      "text/plain": [
       "<Figure size 432x288 with 1 Axes>"
      ]
     },
     "metadata": {
      "needs_background": "light"
     },
     "output_type": "display_data"
    }
   ],
   "source": [
    "nu = np.logspace(8, 30, 100) * u.Hz\n",
    "sed = disk.sed(nu, blob)\n",
    "plt.loglog(nu, sed)\n",
    "plt.ylim([1e-20, 1e-10])"
   ]
  },
  {
   "cell_type": "code",
   "execution_count": 5,
   "metadata": {},
   "outputs": [
    {
     "data": {
      "text/latex": [
       "$[3.4398892 \\times 10^{-32},~1.596655 \\times 10^{-31},~7.4110147 \\times 10^{-31},~3.4398875 \\times 10^{-30},~1.5966537 \\times 10^{-29},~7.4110046 \\times 10^{-29},~3.4398796 \\times 10^{-28},~1.5966476 \\times 10^{-27},~7.4109577 \\times 10^{-27},~3.4398433 \\times 10^{-26},~1.5966194 \\times 10^{-25},~7.4107396 \\times 10^{-25},~3.4396745 \\times 10^{-24},~1.5964887 \\times 10^{-23},~7.4097278 \\times 10^{-23},~3.4388911 \\times 10^{-22},~1.5958823 \\times 10^{-21},~7.4050327 \\times 10^{-21},~3.4352568 \\times 10^{-20},~1.5930695 \\times 10^{-19},~7.3832699 \\times 10^{-19},~3.4184263 \\times 10^{-18},~1.5800638 \\times 10^{-17},~7.2829004 \\times 10^{-17},~3.3411388 \\times 10^{-16},~1.5207716 \\times 10^{-15},~6.8309027 \\times 10^{-15},~3.0002944 \\times 10^{-14},~1.2685646 \\times 10^{-13},~5.0262885 \\times 10^{-13},~1.7845214 \\times 10^{-12},~5.3191815 \\times 10^{-12},~1.2583892 \\times 10^{-11},~2.4295483 \\times 10^{-11},~4.1031749 \\times 10^{-11},~5.7754516 \\times 10^{-11},~5.6650461 \\times 10^{-11},~2.7587487 \\times 10^{-11},~3.7287284 \\times 10^{-12},~5.4736483 \\times 10^{-14},~1.9118393 \\times 10^{-17},~1.2975061 \\times 10^{-23},~2.5530982 \\times 10^{-34},~1.1738784 \\times 10^{-52},~8.3760018 \\times 10^{-84},~2.3828445 \\times 10^{-136},~1.3532522 \\times 10^{-224},~0,~0,~0,~0,~0,~0,~0,~0,~0,~0,~0,~0,~0,~0,~0,~0,~0,~0,~0,~0,~0,~0,~0,~0,~0,~0,~0,~0,~0,~0,~0,~0,~0,~0,~0,~0,~0,~0,~0,~0,~0,~0,~0,~0,~0,~0,~0,~0,~0,~0,~0,~0,~0] \\; \\mathrm{\\frac{erg}{s\\,cm^{2}}}$"
      ],
      "text/plain": [
       "<Quantity [3.43988915e-032, 1.59665496e-031, 7.41101474e-031,\n",
       "           3.43988747e-030, 1.59665366e-029, 7.41100462e-029,\n",
       "           3.43987963e-028, 1.59664759e-027, 7.41095765e-027,\n",
       "           3.43984326e-026, 1.59661943e-025, 7.41073965e-025,\n",
       "           3.43967447e-024, 1.59648875e-023, 7.40972782e-023,\n",
       "           3.43889109e-022, 1.59588226e-021, 7.40503271e-021,\n",
       "           3.43525676e-020, 1.59306951e-019, 7.38326987e-019,\n",
       "           3.41842631e-018, 1.58006379e-017, 7.28290038e-017,\n",
       "           3.34113884e-016, 1.52077160e-015, 6.83090272e-015,\n",
       "           3.00029438e-014, 1.26856458e-013, 5.02628854e-013,\n",
       "           1.78452138e-012, 5.31918147e-012, 1.25838924e-011,\n",
       "           2.42954829e-011, 4.10317486e-011, 5.77545164e-011,\n",
       "           5.66504606e-011, 2.75874872e-011, 3.72872841e-012,\n",
       "           5.47364833e-014, 1.91183926e-017, 1.29750611e-023,\n",
       "           2.55309824e-034, 1.17387835e-052, 8.37600175e-084,\n",
       "           2.38284453e-136, 1.35325224e-224, 0.00000000e+000,\n",
       "           0.00000000e+000, 0.00000000e+000, 0.00000000e+000,\n",
       "           0.00000000e+000, 0.00000000e+000, 0.00000000e+000,\n",
       "           0.00000000e+000, 0.00000000e+000, 0.00000000e+000,\n",
       "           0.00000000e+000, 0.00000000e+000, 0.00000000e+000,\n",
       "           0.00000000e+000, 0.00000000e+000, 0.00000000e+000,\n",
       "           0.00000000e+000, 0.00000000e+000, 0.00000000e+000,\n",
       "           0.00000000e+000, 0.00000000e+000, 0.00000000e+000,\n",
       "           0.00000000e+000, 0.00000000e+000, 0.00000000e+000,\n",
       "           0.00000000e+000, 0.00000000e+000, 0.00000000e+000,\n",
       "           0.00000000e+000, 0.00000000e+000, 0.00000000e+000,\n",
       "           0.00000000e+000, 0.00000000e+000, 0.00000000e+000,\n",
       "           0.00000000e+000, 0.00000000e+000, 0.00000000e+000,\n",
       "           0.00000000e+000, 0.00000000e+000, 0.00000000e+000,\n",
       "           0.00000000e+000, 0.00000000e+000, 0.00000000e+000,\n",
       "           0.00000000e+000, 0.00000000e+000, 0.00000000e+000,\n",
       "           0.00000000e+000, 0.00000000e+000, 0.00000000e+000,\n",
       "           0.00000000e+000, 0.00000000e+000, 0.00000000e+000,\n",
       "           0.00000000e+000] erg / (cm2 s)>"
      ]
     },
     "execution_count": 5,
     "metadata": {},
     "output_type": "execute_result"
    }
   ],
   "source": [
    "sed"
   ]
  },
  {
   "cell_type": "code",
   "execution_count": null,
   "metadata": {},
   "outputs": [],
   "source": []
  }
 ],
 "metadata": {
  "kernelspec": {
   "display_name": "Python 3",
   "language": "python",
   "name": "python3"
  },
  "language_info": {
   "codemirror_mode": {
    "name": "ipython",
    "version": 3
   },
   "file_extension": ".py",
   "mimetype": "text/x-python",
   "name": "python",
   "nbconvert_exporter": "python",
   "pygments_lexer": "ipython3",
   "version": "3.7.2"
  }
 },
 "nbformat": 4,
 "nbformat_minor": 2
}
