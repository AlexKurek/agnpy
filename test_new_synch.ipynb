{
 "cells": [
  {
   "cell_type": "code",
   "execution_count": 1,
   "metadata": {},
   "outputs": [],
   "source": [
    "import numpy as np\n",
    "import astropy.units as u\n",
    "from astropy.coordinates import Distance\n",
    "from agnpy.emission_regions import Blob\n",
    "from agnpy.synchrotron import Synchrotron\n",
    "import matplotlib.pyplot as plt"
   ]
  },
  {
   "cell_type": "code",
   "execution_count": 2,
   "metadata": {},
   "outputs": [],
   "source": [
    "# set the spectrum normalisation (total energy in electrons in this case)\n",
    "spectrum_norm = 1e48 * u.Unit(\"erg\")\n",
    "# define the spectral function through a dictionary\n",
    "spectrum_dict = {\n",
    "    \"type\": \"PowerLaw\",\n",
    "    \"parameters\": {\"p\": 2.8, \"gamma_min\": 1e2, \"gamma_max\": 1e7}\n",
    "}\n",
    "R_b = 1e16 * u.cm\n",
    "B = 1 * u.G\n",
    "z = Distance(1e27, unit=u.cm).z\n",
    "delta_D = 10\n",
    "Gamma = 10\n",
    "blob = Blob(R_b, z, delta_D, Gamma, B, spectrum_norm, spectrum_dict)"
   ]
  },
  {
   "cell_type": "code",
   "execution_count": 3,
   "metadata": {},
   "outputs": [],
   "source": [
    "synchro = Synchrotron(blob)"
   ]
  },
  {
   "cell_type": "code",
   "execution_count": 4,
   "metadata": {},
   "outputs": [],
   "source": [
    "nu = np.logspace(8, 23) * u.Hz\n",
    "sed1 = Synchrotron.evaluate_sed_flux(\n",
    "    nu, \n",
    "    blob.z, \n",
    "    blob.d_L, \n",
    "    blob.delta_D, \n",
    "    blob.B, \n",
    "    blob.R_b, \n",
    "    blob.gamma, \n",
    "    np.trapz, \n",
    "    False, \n",
    "    blob.n_e, \n",
    "    *blob.n_e.parameters\n",
    ")\n",
    "sed2 = Synchrotron.evaluate_sed_flux(\n",
    "    nu, \n",
    "    blob.z, \n",
    "    blob.d_L, \n",
    "    blob.delta_D, \n",
    "    blob.B, \n",
    "    blob.R_b, \n",
    "    blob.gamma, \n",
    "    np.trapz, \n",
    "    True, \n",
    "    blob.n_e, \n",
    "    *blob.n_e.parameters\n",
    ")"
   ]
  },
  {
   "cell_type": "code",
   "execution_count": 8,
   "metadata": {},
   "outputs": [
    {
     "data": {
      "text/plain": [
       "[<matplotlib.lines.Line2D at 0x7fd998254590>]"
      ]
     },
     "execution_count": 8,
     "metadata": {},
     "output_type": "execute_result"
    },
    {
     "data": {
      "image/png": "[encoded data removed]",
      "text/plain": [
       "<Figure size 432x288 with 1 Axes>"
      ]
     },
     "metadata": {
      "needs_background": "light"
     },
     "output_type": "display_data"
    }
   ],
   "source": [
    "plt.loglog(nu, sed1)\n",
    "plt.loglog(nu, sed2, ls=\"--\")"
   ]
  },
  {
   "cell_type": "code",
   "execution_count": 6,
   "metadata": {},
   "outputs": [
    {
     "name": "stdout",
     "output_type": "stream",
     "text": [
      "5.97 ms ± 33.2 µs per loop (mean ± std. dev. of 7 runs, 100 loops each)\n"
     ]
    }
   ],
   "source": [
    "%%timeit\n",
    "sed1 = Synchrotron.evaluate_sed_flux(\n",
    "    nu, \n",
    "    blob.z, \n",
    "    blob.d_L, \n",
    "    blob.delta_D, \n",
    "    blob.B, \n",
    "    blob.R_b, \n",
    "    blob.gamma, \n",
    "    np.trapz, \n",
    "    False, \n",
    "    blob.n_e, \n",
    "    *blob.n_e.parameters\n",
    ")"
   ]
  },
  {
   "cell_type": "code",
   "execution_count": 7,
   "metadata": {},
   "outputs": [
    {
     "name": "stdout",
     "output_type": "stream",
     "text": [
      "6 ms ± 24 µs per loop (mean ± std. dev. of 7 runs, 100 loops each)\n"
     ]
    }
   ],
   "source": [
    "%%timeit\n",
    "synchro.sed_flux(nu)"
   ]
  },
  {
   "cell_type": "code",
   "execution_count": null,
   "metadata": {},
   "outputs": [],
   "source": []
  }
 ],
 "metadata": {
  "kernelspec": {
   "display_name": "Python 3",
   "language": "python",
   "name": "python3"
  },
  "language_info": {
   "codemirror_mode": {
    "name": "ipython",
    "version": 3
   },
   "file_extension": ".py",
   "mimetype": "text/x-python",
   "name": "python",
   "nbconvert_exporter": "python",
   "pygments_lexer": "ipython3",
   "version": "3.7.7"
  }
 },
 "nbformat": 4,
 "nbformat_minor": 4
}
