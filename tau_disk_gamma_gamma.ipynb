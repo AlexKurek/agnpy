{
 "cells": [
  {
   "cell_type": "code",
   "execution_count": null,
   "metadata": {},
   "outputs": [],
   "source": [
    "import numpy as np\n",
    "import astropy.units as u\n",
    "from astropy.constants import h, m_e, M_sun, c, sigma_T\n",
    "from agnpy.emission_regions import Blob\n",
    "from agnpy.targets import SSDisk, SphericalShellBLR, RingDustTorus\n",
    "from agnpy.absorption import Absorption, sigma\n",
    "from agnpy.compton import cos_psi\n",
    "import matplotlib.pyplot as plt"
   ]
  },
  {
   "cell_type": "code",
   "execution_count": null,
   "metadata": {},
   "outputs": [],
   "source": [
    "mec2 = m_e.to(\"erg\", equivalencies=u.mass_energy())\n",
    "# equivalency to transform frequencies to energies in electron rest mass units\n",
    "epsilon_equivalency = [\n",
    "    (u.Hz, u.Unit(\"\"), lambda x: h.cgs * x / mec2, lambda x: x * mec2 / h.cgs)\n",
    "]"
   ]
  },
  {
   "cell_type": "code",
   "execution_count": null,
   "metadata": {},
   "outputs": [],
   "source": [
    "# define the blob\n",
    "spectrum_norm = 1e47 * u.erg\n",
    "parameters = {\"p\": 2.8, \"gamma_min\": 10, \"gamma_max\": 1e6}\n",
    "spectrum_dict = {\"type\": \"PowerLaw\", \"parameters\": parameters}\n",
    "R_b = 1e16 * u.cm\n",
    "B = 0.56 * u.G\n",
    "z = 0\n",
    "delta_D = 40\n",
    "Gamma = 40\n",
    "blob = Blob(R_b, z, delta_D, Gamma, B, spectrum_norm, spectrum_dict)"
   ]
  },
  {
   "cell_type": "code",
   "execution_count": null,
   "metadata": {},
   "outputs": [],
   "source": [
    "# disk parameters\n",
    "M_BH = 1.2 * 1e9 * M_sun.cgs\n",
    "L_disk = 2 * 1e46 * u.Unit(\"erg s-1\")\n",
    "eta = 1 / 12\n",
    "R_in = 6\n",
    "R_out = 200\n",
    "disk = SSDisk(M_BH, L_disk, eta, R_in, R_out, R_g_units=True)"
   ]
  },
  {
   "cell_type": "code",
   "execution_count": null,
   "metadata": {},
   "outputs": [],
   "source": [
    "# consider a fixed distance of the blob from the target fields\n",
    "r = 1.1e16 * u.cm\n",
    "r_tilde = (r / disk.R_g).to_value(\"\")\n",
    "l_tilde = np.logspace(0, 5) * r_tilde\n",
    "print(l_tilde)"
   ]
  },
  {
   "cell_type": "code",
   "execution_count": null,
   "metadata": {},
   "outputs": [],
   "source": [
    "def tau_disk(nu, l_tilde, disk):\n",
    "    \"\"\"assume mu_s = 1 -> cos psi = mu\"\"\"\n",
    "    # define the dimensionless energy\n",
    "    epsilon_1 = nu.to(\"\", equivalencies=epsilon_equivalency)\n",
    "    # each value of l, distance from the BH, defines a different range of\n",
    "    # cosine integration, we have to break the integration as the array of\n",
    "    # mu takes different values at each distance\n",
    "    integrands_l = []\n",
    "    for _l_tilde in l_tilde:\n",
    "        mu = disk.mu_from_r_tilde(_l_tilde)\n",
    "        epsilon = disk.epsilon_mu(mu, _l_tilde)\n",
    "        integrand = (\n",
    "            disk.phi_disk_mu(mu, _l_tilde) / (epsilon * mu * _l_tilde**3 * (mu**(-2) - 1)**(-3/2)) \n",
    "        )\n",
    "        s = epsilon_1 * epsilon * (1 - mu) / 2\n",
    "        cross_section = sigma(s).to_value(\"cm2\")\n",
    "        integrand *= (1 - mu) * cross_section\n",
    "        integrands_l.append(np.trapz(integrand, mu, axis=0))\n",
    "    prefactor = 3 * disk.L_disk / ((4 * np.pi)**2 * disk.R_g * m_e * c**3)\n",
    "    integral = np.trapz(np.asarray(integrands_l), l_tilde, axis=0)\n",
    "    tau = prefactor.to_value(\"cm-2\") * integral\n",
    "    return tau"
   ]
  },
  {
   "cell_type": "code",
   "execution_count": null,
   "metadata": {},
   "outputs": [],
   "source": [
    "# compute our own tau\n",
    "E = np.logspace(0, 5) * u.GeV\n",
    "nu = E.to(\"Hz\", equivalencies=u.spectral())\n",
    "taus = np.asarray([tau_disk(_, l_tilde, disk) for _ in nu])"
   ]
  },
  {
   "cell_type": "code",
   "execution_count": null,
   "metadata": {},
   "outputs": [],
   "source": [
    "# array of sampled taus\n",
    "sampled_tau = np.loadtxt(\n",
    "    f\"agnpy/tests/sampled_taus/tau_disk_figure_14_finke_2016.txt\", delimiter=\",\", comments=\"#\",\n",
    ")\n",
    "E_ref = sampled_tau[:, 0] * u.GeV\n",
    "taus_ref = sampled_tau[:, 1] "
   ]
  },
  {
   "cell_type": "code",
   "execution_count": null,
   "metadata": {},
   "outputs": [],
   "source": [
    "plt.loglog(E_ref, taus_ref, ls=\"-\", marker=\"o\", label=\"reference\")\n",
    "plt.loglog(E, taus, ls=\"--\", marker=\".\", label=\"agnpy\")\n",
    "plt.legend()"
   ]
  },
  {
   "cell_type": "code",
   "execution_count": null,
   "metadata": {},
   "outputs": [],
   "source": [
    "def tau_disk_finke(nu, l_tilde, disk):\n",
    "    \"\"\"use directly Eq. (63) in Finke 2016\"\"\"\n",
    "    epsilon_1 = nu.to(\"\", equivalencies=epsilon_equivalency)\n",
    "    # axis 0: R_tilde\n",
    "    # axis 1: l_tilde\n",
    "    _R_tilde = np.reshape(disk.R_tilde, (disk.R_tilde.size, 1))\n",
    "    _l_tilde = np.reshape(l_tilde, (1, l_tilde.size))\n",
    "    _epsilon = disk.epsilon(_R_tilde)\n",
    "    _phi_disk = disk.phi_disk(_R_tilde)\n",
    "    _mu = np.sqrt(1 / (1 + _R_tilde**2 / _l_tilde**2))\n",
    "    _s = epsilon_1 * _epsilon * (1 - _mu) / 2\n",
    "    integrand = (\n",
    "        _l_tilde**(-2) *\n",
    "        _R_tilde**(-5/4) * \n",
    "        _phi_disk * \n",
    "        (1 + _R_tilde**2 / _l_tilde**2)**(-3/2) * \n",
    "        (sigma(_s) / sigma_T).to_value(\"\") *\n",
    "        (1 - _mu)\n",
    "    )\n",
    "    integral_R_tilde = np.trapz(integrand, disk.R_tilde, axis=0)\n",
    "    integral_l_tilde = np.trapz(integral_R_tilde, l_tilde, axis=0)\n",
    "    prefactor = 1e7 * disk.l_Edd**(3/4) * disk.M_8**(1/4) * disk.eta**(-3/4)\n",
    "    return prefactor * integral_l_tilde "
   ]
  },
  {
   "cell_type": "code",
   "execution_count": null,
   "metadata": {},
   "outputs": [],
   "source": [
    "# compute our own tau\n",
    "taus_finke = np.asarray([tau_disk_finke(_, l_tilde, disk) for _ in nu])"
   ]
  },
  {
   "cell_type": "code",
   "execution_count": null,
   "metadata": {},
   "outputs": [],
   "source": [
    "plt.loglog(E_ref, taus_ref, ls=\"-\", marker=\"o\", label=\"reference\")\n",
    "plt.loglog(E, taus_finke, ls=\"--\", marker=\".\", label=\"agnpy\")\n",
    "plt.legend()"
   ]
  },
  {
   "cell_type": "code",
   "execution_count": null,
   "metadata": {},
   "outputs": [],
   "source": []
  }
 ],
 "metadata": {
  "kernelspec": {
   "display_name": "Python 3",
   "language": "python",
   "name": "python3"
  },
  "language_info": {
   "codemirror_mode": {
    "name": "ipython",
    "version": 3
   },
   "file_extension": ".py",
   "mimetype": "text/x-python",
   "name": "python",
   "nbconvert_exporter": "python",
   "pygments_lexer": "ipython3",
   "version": "3.7.7"
  }
 },
 "nbformat": 4,
 "nbformat_minor": 4
}
