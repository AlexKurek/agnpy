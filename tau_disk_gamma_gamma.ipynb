{
 "cells": [
  {
   "cell_type": "code",
   "execution_count": 1,
   "metadata": {},
   "outputs": [],
   "source": [
    "import numpy as np\n",
    "import astropy.units as u\n",
    "from astropy.constants import h, m_e, M_sun, c\n",
    "from agnpy.emission_regions import Blob\n",
    "from agnpy.targets import SSDisk, SphericalShellBLR, RingDustTorus\n",
    "from agnpy.absorption import Absorption, sigma\n",
    "from agnpy.compton import cos_psi\n",
    "import matplotlib.pyplot as plt"
   ]
  },
  {
   "cell_type": "code",
   "execution_count": 2,
   "metadata": {},
   "outputs": [],
   "source": [
    "mec2 = m_e.to(\"erg\", equivalencies=u.mass_energy())\n",
    "# equivalency to transform frequencies to energies in electron rest mass units\n",
    "epsilon_equivalency = [\n",
    "    (u.Hz, u.Unit(\"\"), lambda x: h.cgs * x / mec2, lambda x: x * mec2 / h.cgs)\n",
    "]"
   ]
  },
  {
   "cell_type": "code",
   "execution_count": 3,
   "metadata": {},
   "outputs": [],
   "source": [
    "# define the blob\n",
    "spectrum_norm = 1e47 * u.erg\n",
    "parameters = {\"p\": 2.8, \"gamma_min\": 10, \"gamma_max\": 1e6}\n",
    "spectrum_dict = {\"type\": \"PowerLaw\", \"parameters\": parameters}\n",
    "R_b = 1e16 * u.cm\n",
    "B = 0.56 * u.G\n",
    "z = 0\n",
    "delta_D = 40\n",
    "Gamma = 40\n",
    "blob = Blob(R_b, z, delta_D, Gamma, B, spectrum_norm, spectrum_dict)"
   ]
  },
  {
   "cell_type": "code",
   "execution_count": 4,
   "metadata": {},
   "outputs": [],
   "source": [
    "# disk parameters\n",
    "M_BH = 1.2 * 1e9 * M_sun.cgs\n",
    "L_disk = 2 * 1e46 * u.Unit(\"erg s-1\")\n",
    "eta = 1 / 12\n",
    "R_in = 6\n",
    "R_out = 200\n",
    "disk = SSDisk(M_BH, L_disk, eta, R_in, R_out, R_g_units=True)"
   ]
  },
  {
   "cell_type": "code",
   "execution_count": 5,
   "metadata": {},
   "outputs": [],
   "source": [
    "# consider a fixed distance of the blob from the target fields\n",
    "r = 1.1e16 * u.cm\n",
    "\n",
    "absorption_disk = Absorption(blob, disk, r=r)\n",
    "\n",
    "# array of distances\n",
    "l_max = 3000 * u.pc\n",
    "l = np.logspace(\n",
    "    np.log10(r.to_value(\"cm\")),\n",
    "    np.log10(l_max.to_value(\"cm\")),\n",
    "    10\n",
    ") * u.cm\n",
    "\n",
    "# array of phi\n",
    "phi = np.linspace(0, 2 * np.pi, 50)"
   ]
  },
  {
   "cell_type": "code",
   "execution_count": 10,
   "metadata": {},
   "outputs": [],
   "source": [
    "def tau_disk(nu):\n",
    "    # define the dimensionless energy\n",
    "    epsilon_1 = nu.to(\"\", equivalencies=epsilon_equivalency)\n",
    "    # transform to BH frame\n",
    "    epsilon_1 *= 1 + blob.z\n",
    "    # each value of l, distance from the BH, defines a different range of\n",
    "    # cosine integration, we have to break the integration as the array of\n",
    "    # mu takes different values at each distance\n",
    "    integral = np.empty(len(epsilon_1))\n",
    "    for j, _epsilon_1 in enumerate(epsilon_1):\n",
    "        integrand_l = np.empty(len(l))\n",
    "        for i, _l in enumerate(l):\n",
    "            l_tilde = (_l / disk.R_g).to_value(\"\")\n",
    "            # for the multidimensional integration on the angles only\n",
    "            # axis 0 : phi\n",
    "            # axis 1 : mu\n",
    "            _phi = np.reshape(phi, (1, phi.size))\n",
    "            mu = disk.mu_from_r_tilde(l_tilde)\n",
    "            _mu = np.reshape(mu, (mu.size, 1))\n",
    "            _cos_psi = cos_psi(blob.mu_s, _mu, _phi)\n",
    "            _epsilon = disk.epsilon_mu(_mu, l_tilde)\n",
    "            _phi_disk_mu = disk.phi_disk_mu(_mu, l_tilde)\n",
    "            _s = _epsilon_1 * _epsilon * (1 - _cos_psi) / 2\n",
    "            _integrand_mu = _phi_disk_mu / (\n",
    "                _epsilon\n",
    "                * np.power(_l, 3)\n",
    "                * _mu\n",
    "                * np.power(np.power(_mu, -2) - 1, 3 / 2)\n",
    "            )\n",
    "            _integrand = _integrand_mu * (1 - _cos_psi) * sigma(_s)\n",
    "            # integrate over mu and phi\n",
    "            integral_mu = np.trapz(_integrand, mu, axis=0)\n",
    "            integral_phi = np.trapz(integral_mu, phi, axis=0)\n",
    "            integrand_l[i] = integral_phi.to_value(\"cm-1\")\n",
    "        # integrate over l\n",
    "        integral[j] = np.trapz(integrand_l, l, axis=0).to_value(\"cm\")\n",
    "\n",
    "    prefactor_num = 3 * disk.L_disk * disk.R_g\n",
    "    prefactor_denum = 16 * np.pi**2 * disk.eta * m_e * np.power(c, 3)\n",
    "    return prefactor_num / prefactor_denum * integral"
   ]
  },
  {
   "cell_type": "code",
   "execution_count": 11,
   "metadata": {},
   "outputs": [],
   "source": [
    "# array of sampled taus\n",
    "sampled_tau = np.loadtxt(\n",
    "    f\"agnpy/tests/sampled_taus/tau_disk_figure_14_finke_2016.txt\", delimiter=\",\", comments=\"#\",\n",
    ")\n",
    "E_ref = sampled_tau[:, 0] * u.GeV\n",
    "tau_ref = sampled_tau[:, 1] "
   ]
  },
  {
   "cell_type": "code",
   "execution_count": 12,
   "metadata": {},
   "outputs": [
    {
     "name": "stderr",
     "output_type": "stream",
     "text": [
      "/home/cosimo/software/miniconda3/lib/python3.7/site-packages/astropy/units/quantity.py:477: RuntimeWarning: invalid value encountered in sqrt\n",
      "  result = super().__array_ufunc__(function, method, *arrays, **kwargs)\n"
     ]
    }
   ],
   "source": [
    "# compute our own tau\n",
    "E = np.logspace(0, 5) * u.GeV\n",
    "nu = E.to(\"Hz\", equivalencies=u.spectral())\n",
    "tau = tau_disk(nu)"
   ]
  },
  {
   "cell_type": "code",
   "execution_count": 16,
   "metadata": {},
   "outputs": [
    {
     "data": {
      "text/plain": [
       "<matplotlib.legend.Legend at 0x7f8fbbe90dd0>"
      ]
     },
     "execution_count": 16,
     "metadata": {},
     "output_type": "execute_result"
    },
    {
     "data": {
      "image/png": "[encoded data removed]",
      "text/plain": [
       "<Figure size 432x288 with 1 Axes>"
      ]
     },
     "metadata": {
      "needs_background": "light"
     },
     "output_type": "display_data"
    }
   ],
   "source": [
    "plt.loglog(E_ref, tau_ref, ls=\"-\", marker=\"o\", label=\"reference\")\n",
    "plt.loglog(E * 10, tau, ls=\"--\", marker=\".\", label=\"agnpy\")\n",
    "plt.legend()"
   ]
  },
  {
   "cell_type": "code",
   "execution_count": 17,
   "metadata": {},
   "outputs": [
    {
     "ename": "UnitConversionError",
     "evalue": "Can only apply 'add' function to dimensionless quantities when other argument is not a quantity (unless the latter is all zero/infinity/nan)",
     "output_type": "error",
     "traceback": [
      "\u001b[0;31m---------------------------------------------------------------------------\u001b[0m",
      "\u001b[0;31mUnitConversionError\u001b[0m                       Traceback (most recent call last)",
      "\u001b[0;32m<ipython-input-17-752be1cd6f76>\u001b[0m in \u001b[0;36m<module>\u001b[0;34m\u001b[0m\n\u001b[0;32m----> 1\u001b[0;31m \u001b[0mdisk\u001b[0m\u001b[0;34m.\u001b[0m\u001b[0mmu_from_r_tilde\u001b[0m\u001b[0;34m(\u001b[0m\u001b[0ml\u001b[0m\u001b[0;34m)\u001b[0m\u001b[0;34m\u001b[0m\u001b[0;34m\u001b[0m\u001b[0m\n\u001b[0m",
      "\u001b[0;32m~/work/agnpy/agnpy/targets.py\u001b[0m in \u001b[0;36mmu_from_r_tilde\u001b[0;34m(self, r_tilde, size)\u001b[0m\n\u001b[1;32m    219\u001b[0m         \u001b[0;34m:\u001b[0m\u001b[0mmath\u001b[0m\u001b[0;34m:\u001b[0m\u001b[0;31m`\u001b[0m\u001b[0mR_\u001b[0m\u001b[0;34m{\u001b[0m\u001b[0;31m\\\u001b[0m\u001b[0mmathrm\u001b[0m\u001b[0;34m{\u001b[0m\u001b[0mout\u001b[0m\u001b[0;34m}\u001b[0m\u001b[0;34m}\u001b[0m\u001b[0;31m`\u001b[0m\u001b[0;34m,\u001b[0m \u001b[0mviewed\u001b[0m \u001b[0;32mfrom\u001b[0m \u001b[0ma\u001b[0m \u001b[0mgiven\u001b[0m \u001b[0mdistance\u001b[0m \u001b[0;34m:\u001b[0m\u001b[0mmath\u001b[0m\u001b[0;34m:\u001b[0m\u001b[0;31m`\u001b[0m\u001b[0;31m\\\u001b[0m\u001b[0mtilde\u001b[0m\u001b[0;34m{\u001b[0m\u001b[0mr\u001b[0m\u001b[0;34m}\u001b[0m\u001b[0;31m`\u001b[0m\u001b[0;34m\u001b[0m\u001b[0;34m\u001b[0m\u001b[0m\n\u001b[1;32m    220\u001b[0m         along the jet axis, Eq. 72 and 73 in [Finke2016]_.\"\"\"\n\u001b[0;32m--> 221\u001b[0;31m         \u001b[0mmu_min\u001b[0m \u001b[0;34m=\u001b[0m \u001b[0;36m1\u001b[0m \u001b[0;34m/\u001b[0m \u001b[0mnp\u001b[0m\u001b[0;34m.\u001b[0m\u001b[0msqrt\u001b[0m\u001b[0;34m(\u001b[0m\u001b[0;36m1\u001b[0m \u001b[0;34m+\u001b[0m \u001b[0mnp\u001b[0m\u001b[0;34m.\u001b[0m\u001b[0mpower\u001b[0m\u001b[0;34m(\u001b[0m\u001b[0;34m(\u001b[0m\u001b[0mself\u001b[0m\u001b[0;34m.\u001b[0m\u001b[0mR_out_tilde\u001b[0m \u001b[0;34m/\u001b[0m \u001b[0mr_tilde\u001b[0m\u001b[0;34m)\u001b[0m\u001b[0;34m,\u001b[0m \u001b[0;36m2\u001b[0m\u001b[0;34m)\u001b[0m\u001b[0;34m)\u001b[0m\u001b[0;34m\u001b[0m\u001b[0;34m\u001b[0m\u001b[0m\n\u001b[0m\u001b[1;32m    222\u001b[0m         \u001b[0mmu_max\u001b[0m \u001b[0;34m=\u001b[0m \u001b[0;36m1\u001b[0m \u001b[0;34m/\u001b[0m \u001b[0mnp\u001b[0m\u001b[0;34m.\u001b[0m\u001b[0msqrt\u001b[0m\u001b[0;34m(\u001b[0m\u001b[0;36m1\u001b[0m \u001b[0;34m+\u001b[0m \u001b[0mnp\u001b[0m\u001b[0;34m.\u001b[0m\u001b[0mpower\u001b[0m\u001b[0;34m(\u001b[0m\u001b[0;34m(\u001b[0m\u001b[0mself\u001b[0m\u001b[0;34m.\u001b[0m\u001b[0mR_in_tilde\u001b[0m \u001b[0;34m/\u001b[0m \u001b[0mr_tilde\u001b[0m\u001b[0;34m)\u001b[0m\u001b[0;34m,\u001b[0m \u001b[0;36m2\u001b[0m\u001b[0;34m)\u001b[0m\u001b[0;34m)\u001b[0m\u001b[0;34m\u001b[0m\u001b[0;34m\u001b[0m\u001b[0m\n\u001b[1;32m    223\u001b[0m         \u001b[0;32mreturn\u001b[0m \u001b[0mnp\u001b[0m\u001b[0;34m.\u001b[0m\u001b[0mlinspace\u001b[0m\u001b[0;34m(\u001b[0m\u001b[0mmu_min\u001b[0m\u001b[0;34m,\u001b[0m \u001b[0mmu_max\u001b[0m\u001b[0;34m,\u001b[0m \u001b[0msize\u001b[0m\u001b[0;34m)\u001b[0m\u001b[0;34m\u001b[0m\u001b[0;34m\u001b[0m\u001b[0m\n",
      "\u001b[0;32m~/software/miniconda3/lib/python3.7/site-packages/astropy/units/quantity.py\u001b[0m in \u001b[0;36m__array_ufunc__\u001b[0;34m(self, function, method, *inputs, **kwargs)\u001b[0m\n\u001b[1;32m    455\u001b[0m         \u001b[0;31m# consistent units between two inputs (e.g., in np.add) --\u001b[0m\u001b[0;34m\u001b[0m\u001b[0;34m\u001b[0m\u001b[0;34m\u001b[0m\u001b[0m\n\u001b[1;32m    456\u001b[0m         \u001b[0;31m# and the unit of the result (or tuple of units for nout > 1).\u001b[0m\u001b[0;34m\u001b[0m\u001b[0;34m\u001b[0m\u001b[0;34m\u001b[0m\u001b[0m\n\u001b[0;32m--> 457\u001b[0;31m         \u001b[0mconverters\u001b[0m\u001b[0;34m,\u001b[0m \u001b[0munit\u001b[0m \u001b[0;34m=\u001b[0m \u001b[0mconverters_and_unit\u001b[0m\u001b[0;34m(\u001b[0m\u001b[0mfunction\u001b[0m\u001b[0;34m,\u001b[0m \u001b[0mmethod\u001b[0m\u001b[0;34m,\u001b[0m \u001b[0;34m*\u001b[0m\u001b[0minputs\u001b[0m\u001b[0;34m)\u001b[0m\u001b[0;34m\u001b[0m\u001b[0;34m\u001b[0m\u001b[0m\n\u001b[0m\u001b[1;32m    458\u001b[0m \u001b[0;34m\u001b[0m\u001b[0m\n\u001b[1;32m    459\u001b[0m         \u001b[0mout\u001b[0m \u001b[0;34m=\u001b[0m \u001b[0mkwargs\u001b[0m\u001b[0;34m.\u001b[0m\u001b[0mget\u001b[0m\u001b[0;34m(\u001b[0m\u001b[0;34m'out'\u001b[0m\u001b[0;34m,\u001b[0m \u001b[0;32mNone\u001b[0m\u001b[0;34m)\u001b[0m\u001b[0;34m\u001b[0m\u001b[0;34m\u001b[0m\u001b[0m\n",
      "\u001b[0;32m~/software/miniconda3/lib/python3.7/site-packages/astropy/units/quantity_helper/converters.py\u001b[0m in \u001b[0;36mconverters_and_unit\u001b[0;34m(function, method, *args)\u001b[0m\n\u001b[1;32m    187\u001b[0m                             \u001b[0;34m\"argument is not a quantity (unless the \"\u001b[0m\u001b[0;34m\u001b[0m\u001b[0;34m\u001b[0m\u001b[0m\n\u001b[1;32m    188\u001b[0m                             \u001b[0;34m\"latter is all zero/infinity/nan)\"\u001b[0m\u001b[0;34m\u001b[0m\u001b[0;34m\u001b[0m\u001b[0m\n\u001b[0;32m--> 189\u001b[0;31m                             .format(function.__name__))\n\u001b[0m\u001b[1;32m    190\u001b[0m             \u001b[0;32mexcept\u001b[0m \u001b[0mTypeError\u001b[0m\u001b[0;34m:\u001b[0m\u001b[0;34m\u001b[0m\u001b[0;34m\u001b[0m\u001b[0m\n\u001b[1;32m    191\u001b[0m                 \u001b[0;31m# _can_have_arbitrary_unit failed: arg could not be compared\u001b[0m\u001b[0;34m\u001b[0m\u001b[0;34m\u001b[0m\u001b[0;34m\u001b[0m\u001b[0m\n",
      "\u001b[0;31mUnitConversionError\u001b[0m: Can only apply 'add' function to dimensionless quantities when other argument is not a quantity (unless the latter is all zero/infinity/nan)"
     ]
    }
   ],
   "source": [
    "disk.mu_from_r_tilde(l)"
   ]
  },
  {
   "cell_type": "code",
   "execution_count": null,
   "metadata": {},
   "outputs": [],
   "source": []
  }
 ],
 "metadata": {
  "kernelspec": {
   "display_name": "Python 3",
   "language": "python",
   "name": "python3"
  },
  "language_info": {
   "codemirror_mode": {
    "name": "ipython",
    "version": 3
   },
   "file_extension": ".py",
   "mimetype": "text/x-python",
   "name": "python",
   "nbconvert_exporter": "python",
   "pygments_lexer": "ipython3",
   "version": "3.7.7"
  }
 },
 "nbformat": 4,
 "nbformat_minor": 4
}
