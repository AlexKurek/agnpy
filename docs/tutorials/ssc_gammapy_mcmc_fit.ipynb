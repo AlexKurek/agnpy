{
 "cells": [
  {
   "cell_type": "markdown",
   "id": "4d8b5aaf",
   "metadata": {},
   "source": [
    "# Tutorial: fitting a BL Lac broad-band SED using MCMC fit with Gammapy\n",
    "\n",
    "In this tutorial, we will perform again the fit of the MWL SED of Mrk421 [illustrated in the previous notebook](ssc_gammapy_fit.ipynb). This time, instead of the simple $\\chi^2$ minimisation with `iminuit`, we will perform a fit with a Monte Carlo Markov Chain (MCMC) method. As for the case of the simple $\\chi^2$ minimisation, we will rely on `Gammapy`'s functionalities for data handling and fitting.\n",
    "\n",
    "Some `Gammapy` functions wrapping the MCMC package, [`emcee`](https://emcee.readthedocs.io/en/stable/), are available in the [`gammapy-recipes`](https://gammapy.github.io/gammapy-recipes/_build/html/index.html). Please download the [`gammapy-recipes` repository](https://github.com/gammapy/gammapy-recipes) to run the code in this notebook.\n",
    "\n",
    "An excellent theoretical introduction to MCMC methods can be found in [these notes](https://arxiv.org/abs/1909.12313)."
   ]
  },
  {
   "cell_type": "code",
   "execution_count": 1,
   "id": "c39e0624",
   "metadata": {},
   "outputs": [],
   "source": [
    "# import numpy, astropy and matplotlib for basic functionalities\n",
    "import pkg_resources\n",
    "from pathlib import Path\n",
    "import numpy as np\n",
    "import astropy.units as u\n",
    "from astropy.constants import c\n",
    "from astropy.table import Table\n",
    "from astropy.coordinates import Distance\n",
    "import matplotlib.pyplot as plt\n",
    "\n",
    "# import agnpy classes\n",
    "from agnpy.spectra import BrokenPowerLaw\n",
    "from agnpy.synchrotron import Synchrotron\n",
    "from agnpy.compton import SynchrotronSelfCompton\n",
    "from agnpy.wrappers import SynchrotronSelfComptonSpectralModel\n",
    "from agnpy.wrappers import add_systematic_errors_flux_points\n",
    "from agnpy.utils.plot import load_mpl_rc, sed_x_label, sed_y_label\n",
    "\n",
    "# import gammapy classes\n",
    "from gammapy.modeling.models import SPECTRAL_MODEL_REGISTRY, SkyModel\n",
    "from gammapy.estimators import FluxPoints\n",
    "from gammapy.datasets import Datasets, FluxPointsDataset\n",
    "from gammapy.modeling import Fit\n",
    "\n",
    "# IMPORTANT: add the new custom model to the registry of spectral models recognised by gammapy\n",
    "SPECTRAL_MODEL_REGISTRY.append(SynchrotronSelfComptonSpectralModel)"
   ]
  },
  {
   "cell_type": "code",
   "execution_count": 2,
   "id": "6df4e5ea",
   "metadata": {},
   "outputs": [],
   "source": [
    "# the run_mcmc method has been moved from gammapy/gammapy to gammapy/recipes\n",
    "# please download the gammapy-recipes\n",
    "# https://github.com/gammapy/gammapy-recipes\n",
    "# and change the following path accordingly\n",
    "import sys\n",
    "\n",
    "sys.path.append(\"/home/cosimo/work/gammapy-recipes/recipes/mcmc-sampling-emcee\")\n",
    "from sampling import (\n",
    "    run_mcmc,\n",
    "    par_to_model,\n",
    "    plot_corner,\n",
    "    plot_trace,\n",
    ")"
   ]
  },
  {
   "cell_type": "markdown",
   "id": "c68c3e92",
   "metadata": {},
   "source": [
    "### `gammapy` wrapper of agnpy synchrotron and SSC\n",
    "Please refer to the [previous notebook](ssc_gammapy_fit.ipynb) for a description of the `Gammapy` wrapper of the synchrotron and SSC radiative processes."
   ]
  },
  {
   "cell_type": "code",
   "execution_count": 3,
   "id": "410bb604",
   "metadata": {},
   "outputs": [],
   "source": [
    "# electron energy distribution\n",
    "n_e = BrokenPowerLaw(\n",
    "    k_e=1.3e-8 * u.Unit(\"cm-3\"),\n",
    "    p1=2.02,\n",
    "    p2=3.43,\n",
    "    gamma_b=1e5,\n",
    "    gamma_min=500,\n",
    "    gamma_max=1e6,\n",
    ")\n",
    "\n",
    "# initialise the Gammapy SpectralModel\n",
    "ssc_model = SynchrotronSelfComptonSpectralModel(n_e)"
   ]
  },
  {
   "cell_type": "code",
   "execution_count": 4,
   "id": "c3547014",
   "metadata": {},
   "outputs": [],
   "source": [
    "# reasonable intial parameters\n",
    "ssc_model.parameters[\"z\"].value = 0.0308\n",
    "ssc_model.parameters[\"delta_D\"].value = 18\n",
    "ssc_model.parameters[\"t_var\"].value = (1 * u.d).to_value(\"s\")\n",
    "ssc_model.parameters[\"t_var\"].frozen = True\n",
    "ssc_model.parameters[\"log10_B\"].value = -1.3"
   ]
  },
  {
   "cell_type": "code",
   "execution_count": 5,
   "id": "162252dc",
   "metadata": {
    "scrolled": true
   },
   "outputs": [
    {
     "data": {
      "text/html": [
       "<div><i>Table length=11</i>\n",
       "<table id=\"table139957882234912\" class=\"table-striped table-bordered table-condensed\">\n",
       "<thead><tr><th>type</th><th>name</th><th>value</th><th>unit</th><th>error</th><th>min</th><th>max</th><th>frozen</th><th>is_norm</th><th>link</th></tr></thead>\n",
       "<thead><tr><th>str8</th><th>str15</th><th>float64</th><th>str1</th><th>int64</th><th>float64</th><th>float64</th><th>bool</th><th>bool</th><th>str1</th></tr></thead>\n",
       "<tr><td>spectral</td><td>log10_k_e</td><td>-7.8861e+00</td><td></td><td>0.000e+00</td><td>-1.000e+01</td><td>2.000e+00</td><td>False</td><td>False</td><td></td></tr>\n",
       "<tr><td>spectral</td><td>p1</td><td>2.0200e+00</td><td></td><td>0.000e+00</td><td>1.000e+00</td><td>5.000e+00</td><td>False</td><td>False</td><td></td></tr>\n",
       "<tr><td>spectral</td><td>p2</td><td>3.4300e+00</td><td></td><td>0.000e+00</td><td>1.000e+00</td><td>5.000e+00</td><td>False</td><td>False</td><td></td></tr>\n",
       "<tr><td>spectral</td><td>log10_gamma_b</td><td>5.0000e+00</td><td></td><td>0.000e+00</td><td>2.000e+00</td><td>6.000e+00</td><td>False</td><td>False</td><td></td></tr>\n",
       "<tr><td>spectral</td><td>log10_gamma_min</td><td>2.6990e+00</td><td></td><td>0.000e+00</td><td>1.000e+00</td><td>3.000e+00</td><td>True</td><td>False</td><td></td></tr>\n",
       "<tr><td>spectral</td><td>log10_gamma_max</td><td>6.0000e+00</td><td></td><td>0.000e+00</td><td>5.000e+00</td><td>8.000e+00</td><td>True</td><td>False</td><td></td></tr>\n",
       "<tr><td>spectral</td><td>z</td><td>3.0800e-02</td><td></td><td>0.000e+00</td><td>1.000e-03</td><td>1.000e+01</td><td>True</td><td>False</td><td></td></tr>\n",
       "<tr><td>spectral</td><td>delta_D</td><td>1.8000e+01</td><td></td><td>0.000e+00</td><td>1.000e+00</td><td>1.000e+02</td><td>False</td><td>False</td><td></td></tr>\n",
       "<tr><td>spectral</td><td>log10_B</td><td>-1.3000e+00</td><td></td><td>0.000e+00</td><td>-4.000e+00</td><td>2.000e+00</td><td>False</td><td>False</td><td></td></tr>\n",
       "<tr><td>spectral</td><td>t_var</td><td>8.6400e+04</td><td>s</td><td>0.000e+00</td><td>1.000e+01</td><td>3.142e+07</td><td>True</td><td>False</td><td></td></tr>\n",
       "<tr><td>spectral</td><td>norm</td><td>1.0000e+00</td><td></td><td>0.000e+00</td><td>1.000e-01</td><td>1.000e+01</td><td>True</td><td>True</td><td></td></tr>\n",
       "</table></div>"
      ],
      "text/plain": [
       "<Table length=11>\n",
       "  type         name         value    unit   error      min        max    frozen is_norm link\n",
       "  str8        str15        float64   str1   int64    float64    float64   bool    bool  str1\n",
       "-------- --------------- ----------- ---- --------- ---------- --------- ------ ------- ----\n",
       "spectral       log10_k_e -7.8861e+00      0.000e+00 -1.000e+01 2.000e+00  False   False     \n",
       "spectral              p1  2.0200e+00      0.000e+00  1.000e+00 5.000e+00  False   False     \n",
       "spectral              p2  3.4300e+00      0.000e+00  1.000e+00 5.000e+00  False   False     \n",
       "spectral   log10_gamma_b  5.0000e+00      0.000e+00  2.000e+00 6.000e+00  False   False     \n",
       "spectral log10_gamma_min  2.6990e+00      0.000e+00  1.000e+00 3.000e+00   True   False     \n",
       "spectral log10_gamma_max  6.0000e+00      0.000e+00  5.000e+00 8.000e+00   True   False     \n",
       "spectral               z  3.0800e-02      0.000e+00  1.000e-03 1.000e+01   True   False     \n",
       "spectral         delta_D  1.8000e+01      0.000e+00  1.000e+00 1.000e+02  False   False     \n",
       "spectral         log10_B -1.3000e+00      0.000e+00 -4.000e+00 2.000e+00  False   False     \n",
       "spectral           t_var  8.6400e+04    s 0.000e+00  1.000e+01 3.142e+07   True   False     \n",
       "spectral            norm  1.0000e+00      0.000e+00  1.000e-01 1.000e+01   True    True     "
      ]
     },
     "execution_count": 5,
     "metadata": {},
     "output_type": "execute_result"
    }
   ],
   "source": [
    "ssc_model.parameters.to_table()"
   ]
  },
  {
   "cell_type": "markdown",
   "id": "b3306e78",
   "metadata": {},
   "source": [
    "### Fit with `gammapy`\n",
    "Here we start the procedure to fit with `Gammapy`.\n",
    "\n",
    "#### 1) load the MWL flux points and add the systematics \n",
    "As in the previous example, we define a `FluxPointsDataset` for each instrument. We then proceed to add systematic errors using a very rough and conservative estimate ($30\\%$ of the flux for VHE points, $10\\%$ for HE and X-ray points, $5\\%$ on all the other instruments data)."
   ]
  },
  {
   "cell_type": "code",
   "execution_count": 6,
   "id": "210813cc",
   "metadata": {},
   "outputs": [
    {
     "name": "stderr",
     "output_type": "stream",
     "text": [
      "No reference model set for FluxMaps. Assuming point source with E^-2 spectrum.\n",
      "No reference model set for FluxMaps. Assuming point source with E^-2 spectrum.\n",
      "No reference model set for FluxMaps. Assuming point source with E^-2 spectrum.\n",
      "No reference model set for FluxMaps. Assuming point source with E^-2 spectrum.\n",
      "No reference model set for FluxMaps. Assuming point source with E^-2 spectrum.\n",
      "No reference model set for FluxMaps. Assuming point source with E^-2 spectrum.\n",
      "No reference model set for FluxMaps. Assuming point source with E^-2 spectrum.\n",
      "No reference model set for FluxMaps. Assuming point source with E^-2 spectrum.\n",
      "No reference model set for FluxMaps. Assuming point source with E^-2 spectrum.\n",
      "No reference model set for FluxMaps. Assuming point source with E^-2 spectrum.\n",
      "No reference model set for FluxMaps. Assuming point source with E^-2 spectrum.\n",
      "No reference model set for FluxMaps. Assuming point source with E^-2 spectrum.\n",
      "No reference model set for FluxMaps. Assuming point source with E^-2 spectrum.\n",
      "No reference model set for FluxMaps. Assuming point source with E^-2 spectrum.\n",
      "No reference model set for FluxMaps. Assuming point source with E^-2 spectrum.\n",
      "No reference model set for FluxMaps. Assuming point source with E^-2 spectrum.\n",
      "No reference model set for FluxMaps. Assuming point source with E^-2 spectrum.\n",
      "No reference model set for FluxMaps. Assuming point source with E^-2 spectrum.\n",
      "No reference model set for FluxMaps. Assuming point source with E^-2 spectrum.\n",
      "No reference model set for FluxMaps. Assuming point source with E^-2 spectrum.\n",
      "No reference model set for FluxMaps. Assuming point source with E^-2 spectrum.\n",
      "No reference model set for FluxMaps. Assuming point source with E^-2 spectrum.\n",
      "No reference model set for FluxMaps. Assuming point source with E^-2 spectrum.\n",
      "No reference model set for FluxMaps. Assuming point source with E^-2 spectrum.\n"
     ]
    }
   ],
   "source": [
    "datasets = Datasets()\n",
    "flux_points = {}\n",
    "\n",
    "sed_path = pkg_resources.resource_filename(\"agnpy\", \"data/mwl_seds/Mrk421_2011.ecsv\")\n",
    "table = Table.read(sed_path)\n",
    "table = table.group_by(\"instrument\")\n",
    "\n",
    "# do not use frequency point below 1e11 Hz, affected by non-blazar emission\n",
    "E_min_fit = (1e11 * u.Hz).to(\"eV\", equivalencies=u.spectral())\n",
    "\n",
    "for group in table.groups:\n",
    "    name = group[\"instrument\"][0]\n",
    "\n",
    "    data = FluxPoints.from_table(group, sed_type=\"e2dnde\", format=\"gadf-sed\")\n",
    "    dataset = FluxPointsDataset(data=data, name=name)\n",
    "\n",
    "    flux_points.update({name: data})\n",
    "    dataset.mask_fit = dataset.data.energy_ref > E_min_fit\n",
    "    datasets.append(dataset)\n",
    "\n",
    "# load the SSC model in the datasets\n",
    "model = SkyModel(spectral_model=ssc_model, name=\"Mrk421\")\n",
    "datasets.models = [model]"
   ]
  },
  {
   "cell_type": "code",
   "execution_count": 7,
   "id": "a71d8c23",
   "metadata": {},
   "outputs": [],
   "source": [
    "# add systematic errors\n",
    "for key in flux_points.keys():\n",
    "    if key == \"MAGIC\":\n",
    "        add_systematic_errors_flux_points(flux_points[key], 0.30)\n",
    "    elif key in [\"Fermi\", \"RXTE/PCA\", \"Swift/BAT\", \"Swift/XRT\"]:\n",
    "        add_systematic_errors_flux_points(flux_points[key], 0.10)\n",
    "    else:\n",
    "        add_systematic_errors_flux_points(flux_points[key], 0.05)"
   ]
  },
  {
   "cell_type": "markdown",
   "id": "71eda61a",
   "metadata": {},
   "source": [
    "### 2) run the fit\n",
    "We define here the parameters for the MCMC fit and run it with the `run_mcmc` function in the `Gammapy` recipes. `nwalkers` indicate the number of chains we want to use, a good rule is $n_{\\rm walkers} \\geq 2 \\times n_{\\rm free\\;parameters}$. In this case we choose a number of walkers three times the number of free parameters (6, in this case). `nrun` indicates the number of steps of MCMC we want to perform. With the current settings, it will take roughly 1 hour, you can decrease one of the twi parameters for testing purposes."
   ]
  },
  {
   "cell_type": "code",
   "execution_count": null,
   "id": "37eab86a",
   "metadata": {},
   "outputs": [],
   "source": [
    "%%time\n",
    "sampler = run_mcmc(datasets, nwalkers=18, nrun=400)"
   ]
  },
  {
   "cell_type": "code",
   "execution_count": null,
   "id": "12cd28ec",
   "metadata": {},
   "outputs": [],
   "source": [
    "plot_trace(sampler, datasets)"
   ]
  },
  {
   "cell_type": "code",
   "execution_count": null,
   "id": "9bb78f52",
   "metadata": {},
   "outputs": [],
   "source": [
    "plot_corner(sampler, datasets, nburn=300)"
   ]
  },
  {
   "cell_type": "code",
   "execution_count": null,
   "id": "84082368",
   "metadata": {},
   "outputs": [],
   "source": [
    "emin, emax = [1e-6, 1e14] * u.eV\n",
    "\n",
    "fig, ax = plt.subplots(figsize=(12, 6))\n",
    "    \n",
    "for nwalk in range(0, 18):\n",
    "    for n in range(350, 400):\n",
    "        pars = sampler.chain[nwalk, n, :]\n",
    "\n",
    "        # set model parameters\n",
    "        par_to_model(datasets, pars)\n",
    "        ssc_model = datasets.models[\"Mrk421\"].spectral_model\n",
    "        \n",
    "        ssc_model.plot(\n",
    "            energy_bounds=(emin, emax),\n",
    "            ax=ax,\n",
    "            energy_power=2,\n",
    "            alpha=0.02,\n",
    "            color=\"grey\",\n",
    "            yunits=u.Unit(\"erg cm-2 s-1\")\n",
    "        )\n",
    "\n",
    "# plot a line marking the minimum energy considered in the fit\n",
    "ax.axvline(E_min_fit, ls=\"--\", color=\"k\", alpha=0.2)\n",
    "\n",
    "for key in flux_points.keys():\n",
    "    flux_points[key].plot(ax=ax, label=key)\n",
    "\n",
    "plt.legend(ncol=4)\n",
    "plt.xlim([1e-6, 1e14])\n",
    "plt.show()"
   ]
  }
 ],
 "metadata": {
  "kernelspec": {
   "display_name": "Python 3 (ipykernel)",
   "language": "python",
   "name": "python3"
  },
  "language_info": {
   "codemirror_mode": {
    "name": "ipython",
    "version": 3
   },
   "file_extension": ".py",
   "mimetype": "text/x-python",
   "name": "python",
   "nbconvert_exporter": "python",
   "pygments_lexer": "ipython3",
   "version": "3.8.13"
  }
 },
 "nbformat": 4,
 "nbformat_minor": 5
}
