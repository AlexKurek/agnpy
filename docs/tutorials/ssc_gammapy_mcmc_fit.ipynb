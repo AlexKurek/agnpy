{
 "cells": [
  {
   "cell_type": "markdown",
   "id": "4d8b5aaf",
   "metadata": {},
   "source": []
  },
  {
   "cell_type": "code",
   "execution_count": 1,
   "id": "c39e0624",
   "metadata": {},
   "outputs": [],
   "source": [
    "# import numpy, astropy and matplotlib for basic functionalities\n",
    "import pkg_resources\n",
    "from pathlib import Path\n",
    "import numpy as np\n",
    "import astropy.units as u\n",
    "from astropy.constants import c\n",
    "from astropy.table import Table\n",
    "from astropy.coordinates import Distance\n",
    "import matplotlib.pyplot as plt\n",
    "\n",
    "# import agnpy classes\n",
    "from agnpy.spectra import BrokenPowerLaw\n",
    "from agnpy.synchrotron import Synchrotron\n",
    "from agnpy.compton import SynchrotronSelfCompton\n",
    "from agnpy.wrappers import SynchrotronSelfComptonSpectralModel\n",
    "from agnpy.wrappers import add_systematic_errors_flux_points\n",
    "from agnpy.utils.plot import load_mpl_rc, sed_x_label, sed_y_label\n",
    "\n",
    "# import gammapy classes\n",
    "from gammapy.modeling.models import SPECTRAL_MODEL_REGISTRY, SkyModel\n",
    "from gammapy.estimators import FluxPoints\n",
    "from gammapy.datasets import Datasets, FluxPointsDataset\n",
    "from gammapy.modeling import Fit\n",
    "\n",
    "# IMPORTANT: add the new custom model to the registry of spectral models recognised by gammapy\n",
    "SPECTRAL_MODEL_REGISTRY.append(SynchrotronSelfComptonSpectralModel)"
   ]
  },
  {
   "cell_type": "code",
   "execution_count": 2,
   "id": "6df4e5ea",
   "metadata": {},
   "outputs": [
    {
     "ename": "ModuleNotFoundError",
     "evalue": "No module named 'sampling'",
     "output_type": "error",
     "traceback": [
      "\u001b[0;31m---------------------------------------------------------------------------\u001b[0m",
      "\u001b[0;31mModuleNotFoundError\u001b[0m                       Traceback (most recent call last)",
      "Input \u001b[0;32mIn [2]\u001b[0m, in \u001b[0;36m<cell line: 8>\u001b[0;34m()\u001b[0m\n\u001b[1;32m      5\u001b[0m \u001b[38;5;28;01mimport\u001b[39;00m \u001b[38;5;21;01msys\u001b[39;00m\n\u001b[1;32m      7\u001b[0m sys\u001b[38;5;241m.\u001b[39mpath\u001b[38;5;241m.\u001b[39mappend(\u001b[38;5;124m\"\u001b[39m\u001b[38;5;124m/home/cosimo/work/gammapy-recipes/recipes/mcmc-sampling-emcee\u001b[39m\u001b[38;5;124m\"\u001b[39m)\n\u001b[0;32m----> 8\u001b[0m \u001b[38;5;28;01mfrom\u001b[39;00m \u001b[38;5;21;01msampling\u001b[39;00m \u001b[38;5;28;01mimport\u001b[39;00m (\n\u001b[1;32m      9\u001b[0m     run_mcmc,\n\u001b[1;32m     10\u001b[0m     par_to_model,\n\u001b[1;32m     11\u001b[0m     plot_corner,\n\u001b[1;32m     12\u001b[0m     plot_trace,\n\u001b[1;32m     13\u001b[0m )\n",
      "\u001b[0;31mModuleNotFoundError\u001b[0m: No module named 'sampling'"
     ]
    }
   ],
   "source": [
    "# the run_mcmc method has been moved from gammapy/gammapy to gammapy/recipes\n",
    "# please download the gammapy-recipes\n",
    "# https://github.com/gammapy/gammapy-recipes\n",
    "# and change the following path accordingly\n",
    "import sys\n",
    "\n",
    "sys.path.append(\"/home/cosimo/work/gammapy-recipes/recipes/mcmc-sampling-emcee\")\n",
    "from sampling import (\n",
    "    run_mcmc,\n",
    "    par_to_model,\n",
    "    plot_corner,\n",
    "    plot_trace,\n",
    ")"
   ]
  },
  {
   "cell_type": "code",
   "execution_count": null,
   "id": "410bb604",
   "metadata": {},
   "outputs": [],
   "source": [
    "# electron energy distribution\n",
    "n_e = BrokenPowerLaw(\n",
    "    k_e=1.3e-8 * u.Unit(\"cm-3\"),\n",
    "    p1=2.02,\n",
    "    p2=3.43,\n",
    "    gamma_b=1e5,\n",
    "    gamma_min=500,\n",
    "    gamma_max=1e6,\n",
    ")\n",
    "\n",
    "# initialise the Gammapy SpectralModel\n",
    "ssc_model = SynchrotronSelfComptonSpectralModel(n_e)"
   ]
  },
  {
   "cell_type": "code",
   "execution_count": null,
   "id": "c3547014",
   "metadata": {},
   "outputs": [],
   "source": [
    "# reasonable intial parameters\n",
    "ssc_model.parameters[\"z\"].value = 0.0308\n",
    "ssc_model.parameters[\"delta_D\"].value = 18\n",
    "ssc_model.parameters[\"t_var\"].value = (1 * u.d).to_value(\"s\")\n",
    "ssc_model.parameters[\"t_var\"].frozen = True\n",
    "ssc_model.parameters[\"log10_B\"].value = -1.3"
   ]
  },
  {
   "cell_type": "code",
   "execution_count": null,
   "id": "162252dc",
   "metadata": {},
   "outputs": [],
   "source": [
    "ssc_model.parameters.to_table()"
   ]
  },
  {
   "cell_type": "code",
   "execution_count": null,
   "id": "210813cc",
   "metadata": {},
   "outputs": [],
   "source": [
    "datasets = Datasets()\n",
    "flux_points = {}\n",
    "\n",
    "sed_path = pkg_resources.resource_filename(\"agnpy\", \"data/mwl_seds/Mrk421_2011.ecsv\")\n",
    "table = Table.read(sed_path)\n",
    "table = table.group_by(\"instrument\")\n",
    "\n",
    "# do not use frequency point below 1e11 Hz, affected by non-blazar emission\n",
    "E_min_fit = (1e11 * u.Hz).to(\"eV\", equivalencies=u.spectral())\n",
    "\n",
    "for group in table.groups:\n",
    "    name = group[\"instrument\"][0]\n",
    "\n",
    "    data = FluxPoints.from_table(group, sed_type=\"e2dnde\", format=\"gadf-sed\")\n",
    "    dataset = FluxPointsDataset(data=data, name=name)\n",
    "\n",
    "    flux_points.update({name: data})\n",
    "    dataset.mask_fit = dataset.data.energy_ref > E_min_fit\n",
    "    datasets.append(dataset)\n",
    "\n",
    "# load the SSC model in the datasets\n",
    "model = SkyModel(spectral_model=ssc_model, name=\"Mrk421\")\n",
    "datasets.models = [model]"
   ]
  },
  {
   "cell_type": "code",
   "execution_count": null,
   "id": "a71d8c23",
   "metadata": {},
   "outputs": [],
   "source": [
    "# add systematic errors\n",
    "for key in flux_points.keys():\n",
    "    if key == \"MAGIC\":\n",
    "        add_systematic_errors_flux_points(flux_points[key], 0.30)\n",
    "    elif key in [\"Fermi\", \"RXTE/PCA\", \"Swift/BAT\", \"Swift/XRT\"]:\n",
    "        add_systematic_errors_flux_points(flux_points[key], 0.10)\n",
    "    else:\n",
    "        add_systematic_errors_flux_points(flux_points[key], 0.05)"
   ]
  },
  {
   "cell_type": "code",
   "execution_count": null,
   "id": "37eab86a",
   "metadata": {},
   "outputs": [],
   "source": [
    "%%time\n",
    "sampler = run_mcmc(datasets, nwalkers=18, nrun=400)"
   ]
  },
  {
   "cell_type": "code",
   "execution_count": null,
   "id": "12cd28ec",
   "metadata": {},
   "outputs": [],
   "source": [
    "plot_trace(sampler, datasets)"
   ]
  },
  {
   "cell_type": "code",
   "execution_count": null,
   "id": "9bb78f52",
   "metadata": {},
   "outputs": [],
   "source": [
    "plot_corner(sampler, datasets, nburn=300)"
   ]
  },
  {
   "cell_type": "code",
   "execution_count": null,
   "id": "84082368",
   "metadata": {},
   "outputs": [],
   "source": [
    "emin, emax = [1e-6, 1e14] * u.eV\n",
    "\n",
    "fig, ax = plt.subplots(figsize=(12, 6))\n",
    "    \n",
    "for nwalk in range(0, 18):\n",
    "    for n in range(350, 400):\n",
    "        pars = sampler.chain[nwalk, n, :]\n",
    "\n",
    "        # set model parameters\n",
    "        par_to_model(datasets, pars)\n",
    "        ssc_model = datasets.models[\"Mrk421\"].spectral_model\n",
    "        \n",
    "        ssc_model.plot(\n",
    "            energy_bounds=(emin, emax),\n",
    "            ax=ax,\n",
    "            energy_power=2,\n",
    "            alpha=0.02,\n",
    "            color=\"grey\",\n",
    "            yunits=u.Unit(\"erg cm-2 s-1\")\n",
    "        )\n",
    "\n",
    "# plot a line marking the minimum energy considered in the fit\n",
    "ax.axvline(E_min_fit, ls=\"--\", color=\"k\", alpha=0.2)\n",
    "\n",
    "for key in flux_points.keys():\n",
    "    flux_points[key].plot(ax=ax, label=key)\n",
    "\n",
    "plt.legend(ncol=4)\n",
    "plt.xlim([1e-6, 1e14])\n",
    "plt.show()"
   ]
  },
  {
   "cell_type": "code",
   "execution_count": null,
   "id": "33bd1c76",
   "metadata": {},
   "outputs": [],
   "source": []
  }
 ],
 "metadata": {
  "kernelspec": {
   "display_name": "Python 3 (ipykernel)",
   "language": "python",
   "name": "python3"
  },
  "language_info": {
   "codemirror_mode": {
    "name": "ipython",
    "version": 3
   },
   "file_extension": ".py",
   "mimetype": "text/x-python",
   "name": "python",
   "nbconvert_exporter": "python",
   "pygments_lexer": "ipython3",
   "version": "3.8.13"
  }
 },
 "nbformat": 4,
 "nbformat_minor": 5
}
