{
 "cells": [
  {
   "cell_type": "markdown",
   "id": "d85404da",
   "metadata": {},
   "source": [
    "# Tutorial: fitting a BL Lac broad-band SED using angpy and Gammapy\n",
    "\n",
    "In order to perform a fit of the broad-band SED of a jetted AGN, `agnpy` includes a `Gammapy` wrapper.\n",
    "A [Gammapy's `SpectralModel`](https://docs.gammapy.org/0.20/api/gammapy.modeling.models.SpectralModel.html) representing the emission due to one or more radiative processes can be defined. The `SpectralModel` can then be used either to fit flux points or to perform a forward-folding likelihood fit (if the instrument response is available in a format compatible with `Gammapy`). \n",
    "\n",
    "Several combination of radiative processes can be used to model the broad-band emission of a jetted AGN. For simplicity, we provide wrappers for the two scenarios most-commonly considered:\n",
    "* `SycnhrotronSelfComptonSpectralModel`, representing the sum of synchrotron and synchrotron self-Compton radiation. This scenario is commonly considered to model BL Lac sources;\n",
    "* `ExternalComptonSpectralModel`, representing the sum of synchrotron and synchrotron self-Compton radiation along with an external Compton component that can be computed over a list of targets. This scenario is commonly considered to model flat spectrum radio quasars.\n",
    "\n",
    "In this tutorial we will show how to use the `SynchrotronSelfComptonSpectralModel` to fit the broad-band SED of Mrk 421, measured by a MWL campaign in 2009 [(Abdo et al. 2011)](https://ui.adsabs.harvard.edu/abs/2011ApJ...736..131A/abstract).\n",
    "\n",
    "[gammapy](https://gammapy.org/) is required to run this notebook."
   ]
  },
  {
   "cell_type": "code",
   "execution_count": null,
   "id": "55c7fc17",
   "metadata": {},
   "outputs": [],
   "source": [
    "# import numpy, astropy and matplotlib for basic functionalities\n",
    "import pkg_resources\n",
    "from pathlib import Path\n",
    "import numpy as np\n",
    "import astropy.units as u\n",
    "from astropy.constants import c\n",
    "from astropy.table import Table\n",
    "from astropy.coordinates import Distance\n",
    "import matplotlib.pyplot as plt\n",
    "\n",
    "# import agnpy classes\n",
    "from agnpy.spectra import BrokenPowerLaw\n",
    "from agnpy.wrappers import SynchrotronSelfComptonSpectralModel\n",
    "from agnpy.wrappers import add_systematic_errors_flux_points\n",
    "from agnpy.utils.plot import load_mpl_rc, sed_x_label, sed_y_label\n",
    "\n",
    "# import gammapy classes\n",
    "from gammapy.modeling.models import SPECTRAL_MODEL_REGISTRY, SkyModel\n",
    "from gammapy.estimators import FluxPoints\n",
    "from gammapy.datasets import Datasets, FluxPointsDataset\n",
    "from gammapy.modeling import Fit\n",
    "\n",
    "# IMPORTANT: add the new custom model to the registry of spectral models recognised by gammapy\n",
    "SPECTRAL_MODEL_REGISTRY.append(SynchrotronSelfComptonSpectralModel)"
   ]
  },
  {
   "cell_type": "markdown",
   "id": "c685d482",
   "metadata": {},
   "source": [
    "### `gammapy` wrapper of agnpy synchrotron and SSC\n",
    "The `SynchrotronSelfComptonSpectralModel` wraps the `agnpy` functions to compute synchrotron and SSC radiation and returns a `Gammapy` `SpectralModel`. To initialise this spectral model, only the electron distribution has to be specified, the remaining parameters (the ones of the blob) will be initialised automatically and can be modified at a later stage."
   ]
  },
  {
   "cell_type": "code",
   "execution_count": null,
   "id": "0855e01a",
   "metadata": {},
   "outputs": [],
   "source": [
    "# electron energy distribution\n",
    "n_e = BrokenPowerLaw(\n",
    "    k_e=1e-8 * u.Unit(\"cm-3\"),\n",
    "    p1=2.02,\n",
    "    p2=3.43,\n",
    "    gamma_b=1e5,\n",
    "    gamma_min=500,\n",
    "    gamma_max=1e6,\n",
    ")\n",
    "\n",
    "# initialise the Gammapy SpectralModel\n",
    "ssc_model = SynchrotronSelfComptonSpectralModel(n_e)"
   ]
  },
  {
   "cell_type": "markdown",
   "id": "1d4c490b",
   "metadata": {},
   "source": [
    "We can display all the parameters of the model at once"
   ]
  },
  {
   "cell_type": "code",
   "execution_count": null,
   "id": "20bba34e",
   "metadata": {},
   "outputs": [],
   "source": [
    "ssc_model.parameters.to_table()"
   ]
  },
  {
   "cell_type": "markdown",
   "id": "d17c1ba2",
   "metadata": {},
   "source": [
    "or display separately the parameters related to the electrons energy distribution"
   ]
  },
  {
   "cell_type": "code",
   "execution_count": null,
   "id": "6403829f",
   "metadata": {},
   "outputs": [],
   "source": [
    "ssc_model.spectral_parameters.to_table()"
   ]
  },
  {
   "cell_type": "markdown",
   "id": "f3d64539",
   "metadata": {},
   "source": [
    "and the parameters related to the emission region, the blob in this case"
   ]
  },
  {
   "cell_type": "code",
   "execution_count": null,
   "id": "2a583d09",
   "metadata": {},
   "outputs": [],
   "source": [
    "ssc_model.emission_region_parameters.to_table()"
   ]
  },
  {
   "cell_type": "markdown",
   "id": "6f2b9fb4",
   "metadata": {},
   "source": [
    "Let us set some reasonable initial parameters. For example, let us set the proper redshift for Mrk421 and values for the other parameters that will give our fit a decent starting point."
   ]
  },
  {
   "cell_type": "code",
   "execution_count": null,
   "id": "11cd4761",
   "metadata": {},
   "outputs": [],
   "source": [
    "# reasonable intial parameters\n",
    "ssc_model.parameters[\"z\"].value = 0.0308\n",
    "ssc_model.parameters[\"delta_D\"].value = 18\n",
    "ssc_model.parameters[\"t_var\"].value = (1 * u.d).to_value(\"s\")\n",
    "ssc_model.parameters[\"t_var\"].frozen = True\n",
    "ssc_model.parameters[\"log10_B\"].value = -1.3"
   ]
  },
  {
   "cell_type": "markdown",
   "id": "c1967b8e",
   "metadata": {},
   "source": [
    "Let us check that they were correctly updated"
   ]
  },
  {
   "cell_type": "code",
   "execution_count": null,
   "id": "c3e5ac5e",
   "metadata": {},
   "outputs": [],
   "source": [
    "ssc_model.parameters.to_table()"
   ]
  },
  {
   "cell_type": "markdown",
   "id": "0aa62617",
   "metadata": {},
   "source": [
    "### Fit with `gammapy`\n",
    "Here we start the procedure to fit with `Gammapy`.\n",
    "\n",
    "#### 1) load the MWL flux points \n",
    "The MWL SEDs included in the default `agnpy` data are automatically readable by `Gammapy`'s `FluxPoints`. We group the flux points by instrument, assigning each of them to a `FluxPointDataset` that we will then use for fitting.\n",
    "\n",
    "It is important, if you are using your own MWL SED, to provide proper *provenace*, that is to specify the instrument to which instrument the measured flux points belong. This can be very helpful, as we show in this example, to set systematic errors on the different data sets."
   ]
  },
  {
   "cell_type": "code",
   "execution_count": null,
   "id": "8b6c0de5",
   "metadata": {
    "scrolled": true
   },
   "outputs": [],
   "source": [
    "datasets = Datasets()\n",
    "flux_points = {}\n",
    "\n",
    "sed_path = pkg_resources.resource_filename(\"agnpy\", \"data/mwl_seds/Mrk421_2011.ecsv\")\n",
    "table = Table.read(sed_path)\n",
    "table = table.group_by(\"instrument\")\n",
    "\n",
    "# do not use frequency point below 1e11 Hz, affected by non-blazar emission\n",
    "E_min_fit = (1e11 * u.Hz).to(\"eV\", equivalencies=u.spectral())\n",
    "\n",
    "for group in table.groups:\n",
    "    name = group[\"instrument\"][0]\n",
    "\n",
    "    data = FluxPoints.from_table(group, sed_type=\"e2dnde\", format=\"gadf-sed\")\n",
    "    dataset = FluxPointsDataset(data=data, name=name)\n",
    "\n",
    "    flux_points.update({name: data})\n",
    "    dataset.mask_fit = dataset.data.energy_ref > E_min_fit\n",
    "    datasets.append(dataset)\n",
    "\n",
    "# load the SSC model in the datasets\n",
    "model = SkyModel(spectral_model=ssc_model, name=\"Mrk421\")\n",
    "datasets.models = [model]"
   ]
  },
  {
   "cell_type": "markdown",
   "id": "da81a6db",
   "metadata": {},
   "source": [
    "#### 2) add systematic errors\n",
    "Currently there is no function in `gammapy` handling systematic errors on flux points.\n",
    "Let us manually add different systematic errors for different instruments, using the `add_systematic_errors_flux_points` function implemented in `agnpy.wrappers.gammapy`.\n",
    "\n",
    "We express the systematic errors as a fraction of the measured flux (e.g $30\\%$). We use a very rough and conservative estimate of the systematic errors ($30\\%$ of the flux for VHE points, $10\\%$ for HE and X-ray points, $5\\%$ on all the other instruments data).   \n",
    "\n",
    "We assume them to be independent from the statistical ones and sum the two in quadrature.   "
   ]
  },
  {
   "cell_type": "code",
   "execution_count": null,
   "id": "2f3a6b38",
   "metadata": {},
   "outputs": [],
   "source": [
    "# add systematic errors\n",
    "for key in flux_points.keys():\n",
    "    if key == \"MAGIC\":\n",
    "        add_systematic_errors_flux_points(flux_points[key], 0.30)\n",
    "    elif key in [\"Fermi\", \"RXTE/PCA\", \"Swift/BAT\", \"Swift/XRT\"]:\n",
    "        add_systematic_errors_flux_points(flux_points[key], 0.10)\n",
    "    else:\n",
    "        add_systematic_errors_flux_points(flux_points[key], 0.05)"
   ]
  },
  {
   "cell_type": "markdown",
   "id": "0ee86bb5",
   "metadata": {},
   "source": [
    "Let us plot all the flux points and the initial model "
   ]
  },
  {
   "cell_type": "code",
   "execution_count": null,
   "id": "0158bbd7",
   "metadata": {},
   "outputs": [],
   "source": [
    "load_mpl_rc()\n",
    "fig, ax = plt.subplots(figsize=(8, 6))\n",
    "\n",
    "for key in flux_points.keys():\n",
    "    flux_points[key].plot(ax=ax, label=key)\n",
    "\n",
    "ssc_model.plot(\n",
    "    energy_bounds=[1e-6, 1e14] * u.eV, energy_power=2, label=\"model\", color=\"k\", lw=1.6\n",
    ")\n",
    "\n",
    "# plot a line marking the minimum energy considered in the fit\n",
    "ax.axvline(E_min_fit, ls=\"--\", color=\"gray\")\n",
    "\n",
    "plt.legend(ncol=4, fontsize=9)\n",
    "plt.xlim([1e-6, 1e14])\n",
    "plt.show()"
   ]
  },
  {
   "cell_type": "markdown",
   "id": "316896e9",
   "metadata": {},
   "source": [
    "#### 3) run the fit"
   ]
  },
  {
   "cell_type": "code",
   "execution_count": null,
   "id": "040420d3",
   "metadata": {},
   "outputs": [],
   "source": [
    "%%time\n",
    "# define the fitter\n",
    "fitter = Fit()\n",
    "results = fitter.run(datasets)"
   ]
  },
  {
   "cell_type": "code",
   "execution_count": null,
   "id": "83c99973",
   "metadata": {},
   "outputs": [],
   "source": [
    "print(results)\n",
    "print(model.spectral_model.parameters.to_table())"
   ]
  },
  {
   "cell_type": "markdown",
   "id": "ea762fe8",
   "metadata": {},
   "source": [
    "Now let us plot the final model and the flux points"
   ]
  },
  {
   "cell_type": "code",
   "execution_count": null,
   "id": "fea7342b",
   "metadata": {},
   "outputs": [],
   "source": [
    "fig, ax = plt.subplots(figsize=(8, 6))\n",
    "\n",
    "for key in flux_points.keys():\n",
    "    flux_points[key].plot(ax=ax, label=key)\n",
    "\n",
    "model.spectral_model.plot(\n",
    "    energy_bounds=[1e-6, 1e14] * u.eV, energy_power=2, label=\"model\", color=\"k\", lw=1.6\n",
    ")\n",
    "\n",
    "# plot a line marking the minimum energy considered in the fit\n",
    "ax.axvline(E_min_fit, ls=\"--\", color=\"gray\")\n",
    "\n",
    "plt.legend(ncol=4, fontsize=9)\n",
    "plt.xlim([1e-6, 1e14])\n",
    "plt.show()"
   ]
  },
  {
   "cell_type": "markdown",
   "id": "e9fe6702",
   "metadata": {},
   "source": [
    "If you want to find more about fitting with Gammapy, you can checout [this tutorial](https://docs.gammapy.org/0.20.1/tutorials/api/fitting.html). To show the additional capabilities of the fitting with `Gammapy`, we illustrate how to visualise the migration matrix and asses the quality of the fit by plotting the likelihood profile of one of the parameters. "
   ]
  },
  {
   "cell_type": "code",
   "execution_count": null,
   "id": "976b6ca1",
   "metadata": {},
   "outputs": [],
   "source": [
    "# plot the covariance matrix\n",
    "model.spectral_model.covariance.plot_correlation()\n",
    "plt.show()"
   ]
  },
  {
   "cell_type": "code",
   "execution_count": null,
   "id": "052e8131",
   "metadata": {},
   "outputs": [],
   "source": [
    "%%time\n",
    "# plot the profile for the normalisation of the electron energy distribution \n",
    "par = model.spectral_model.log10_k_e\n",
    "par.scan_n_values = 50\n",
    "profile = fitter.stat_profile(datasets=datasets, parameter=par)\n",
    "\n",
    "# to compute the delta TS\n",
    "total_stat = results.total_stat"
   ]
  },
  {
   "cell_type": "code",
   "execution_count": null,
   "id": "8feb3ccf",
   "metadata": {},
   "outputs": [],
   "source": [
    "plt.plot(profile[f\"{par.name}_scan\"], profile[\"stat_scan\"] - total_stat)\n",
    "plt.ylabel(r\"$\\Delta(TS)$\", size=12)\n",
    "plt.xlabel(r\"$log_{10}(k_{\\rm e} / {\\rm cm}^{-3})$\", size=12)\n",
    "plt.show()"
   ]
  }
 ],
 "metadata": {
  "interpreter": {
   "hash": "a5cf2102067dc15f2ebf0f2821ba443678c455e87ade8e96a896230febab46ba"
  },
  "kernelspec": {
   "display_name": "Python 3 (ipykernel)",
   "language": "python",
   "name": "python3"
  },
  "language_info": {
   "codemirror_mode": {
    "name": "ipython",
    "version": 3
   },
   "file_extension": ".py",
   "mimetype": "text/x-python",
   "name": "python",
   "nbconvert_exporter": "python",
   "pygments_lexer": "ipython3",
   "version": "3.8.13"
  }
 },
 "nbformat": 4,
 "nbformat_minor": 5
}
