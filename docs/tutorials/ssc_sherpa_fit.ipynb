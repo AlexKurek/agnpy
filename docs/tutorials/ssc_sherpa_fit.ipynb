{
 "cells": [
  {
   "cell_type": "markdown",
   "metadata": {},
   "source": [
    "# Tutorial: fitting a BL Lac broad-band SED using angpy and sherpa\n",
    "\n",
    "In this tutorial we will show how to use `sherpa` to wrap `agnpy` functions to perform the fit of the broad-band SED of Mrk 421, measured by a MWL campaign in 2009 [(Abdo et al. 2011)](https://ui.adsabs.harvard.edu/abs/2011ApJ...736..131A/abstract).\n",
    "\n",
    "[sherpa](https://sherpa.readthedocs.io/en/latest/index.html) is required to run this notebook."
   ]
  },
  {
   "cell_type": "code",
   "execution_count": 1,
   "metadata": {},
   "outputs": [],
   "source": [
    "# import numpy, astropy and matplotlib for basic functionalities\n",
    "import numpy as np\n",
    "import astropy.units as u\n",
    "from astropy.constants import c\n",
    "from astropy.coordinates import Distance\n",
    "from pathlib import Path\n",
    "from astropy.table import Table\n",
    "import matplotlib.pyplot as plt\n",
    "import pkg_resources\n",
    "\n",
    "# import agnpy classes\n",
    "import agnpy\n",
    "from agnpy.spectra import BrokenPowerLaw\n",
    "from agnpy.synchrotron import Synchrotron\n",
    "from agnpy.compton import SynchrotronSelfCompton\n",
    "from agnpy.utils.plot import load_mpl_rc, sed_x_label, sed_y_label, plot_sed\n",
    "\n",
    "# import sherpa classes\n",
    "from sherpa.models import model\n",
    "from sherpa import data\n",
    "from sherpa.fit import Fit\n",
    "from sherpa.stats import Chi2\n",
    "from sherpa.optmethods import LevMar"
   ]
  },
  {
   "cell_type": "markdown",
   "metadata": {},
   "source": [
    "### `sherpa` wrapper of `agnpy`\n",
    "Now let us [follow the `sherpa` documentation](https://sherpa.readthedocs.io/en/latest/model_classes/usermodel.html) and define a model wrapping `agnpy`'s functions to compute the Synchrotron and Synchrotron Self Compton SEDs. We will assume a broken power-law electron distribution.\n",
    "\n",
    "**NOTE:** for the parameters that vary over several orders of magnitude (i.e. normalisation and Lorentz factors of the electron distribution) it is better to provide to the fitting routine a \"scaled\" version of them (e.g. their log10), such that larger ranges might be covered with small parameters variation.\n",
    "\n",
    "**NOTE:** the size of the blob $R_{\\rm b}$ is constrained through the variability time scale, $t_{\\rm var}$, and the Doppler factor, $\\delta_{\\rm D}$, via: $R_{\\rm b} = (c t_{\\rm var} \\delta_{\\rm D}) / (1 + z)$."
   ]
  },
  {
   "cell_type": "code",
   "execution_count": 2,
   "metadata": {},
   "outputs": [],
   "source": [
    "class AgnpySSC(model.RegriddableModel1D):\n",
    "    \"\"\"Wrapper of agnpy's synchrotron and SSC classes. \n",
    "    A broken power law is assumed for the electron spectrum.\n",
    "    To limit the span of the parameters space, we fit the log10 of the parameters \n",
    "    whose range is expected to cover several orders of magnitudes (normalisation, \n",
    "    gammas, size and magnetic field of the blob). \n",
    "    \"\"\"\n",
    "\n",
    "    def __init__(self, name=\"ssc\"):\n",
    "\n",
    "        # EED parameters\n",
    "        self.log10_k_e = model.Parameter(name, \"log10_k_e\", -2.0, min=-20.0, max=10.0)\n",
    "        self.p1 = model.Parameter(name, \"p1\", 2.1, min=-2.0, max=5.0)\n",
    "        self.p2 = model.Parameter(name, \"p2\", 3.1, min=-2.0, max=5.0)\n",
    "        self.log10_gamma_b = model.Parameter(name, \"log10_gamma_b\", 3, min=1, max=6)\n",
    "        self.log10_gamma_min = model.Parameter(name, \"log10_gamma_min\", 1, min=0, max=4)\n",
    "        self.log10_gamma_max = model.Parameter(name, \"log10_gamma_max\", 5, min=4, max=8)\n",
    "        # source general parameters\n",
    "        self.z = model.Parameter(name, \"z\", 0.1, min=0.01, max=1)\n",
    "        self.d_L = model.Parameter(name, \"d_L\", 1e27, min=1e25, max=1e33, units=\"cm\")\n",
    "        # emission region parameters\n",
    "        self.delta_D = model.Parameter(name, \"delta_D\", 10, min=0, max=40)\n",
    "        self.log10_B = model.Parameter(name, \"log10_B\", -2, min=-4, max=2)\n",
    "        self.t_var = model.Parameter(\n",
    "            name, \"t_var\", 600, min=10, max=np.pi * 1e7, units=\"s\"\n",
    "        )\n",
    "\n",
    "        model.RegriddableModel1D.__init__(\n",
    "            self,\n",
    "            name,\n",
    "            (\n",
    "                self.log10_k_e,\n",
    "                self.p1,\n",
    "                self.p2,\n",
    "                self.log10_gamma_b,\n",
    "                self.log10_gamma_min,\n",
    "                self.log10_gamma_max,\n",
    "                self.z,\n",
    "                self.d_L,\n",
    "                self.delta_D,\n",
    "                self.log10_B,\n",
    "                self.t_var,\n",
    "            ),\n",
    "        )\n",
    "\n",
    "    def calc(self, pars, x):\n",
    "        \"\"\"evaluate the model calling the agnpy functions\"\"\"\n",
    "        (\n",
    "            log10_k_e,\n",
    "            p1,\n",
    "            p2,\n",
    "            log10_gamma_b,\n",
    "            log10_gamma_min,\n",
    "            log10_gamma_max,\n",
    "            z,\n",
    "            d_L,\n",
    "            delta_D,\n",
    "            log10_B,\n",
    "            t_var,\n",
    "        ) = pars\n",
    "        # add units, scale quantities\n",
    "        x *= u.Hz\n",
    "        k_e = 10 ** log10_k_e * u.Unit(\"cm-3\")\n",
    "        gamma_b = 10 ** log10_gamma_b\n",
    "        gamma_min = 10 ** log10_gamma_min\n",
    "        gamma_max = 10 ** log10_gamma_max\n",
    "        B = 10 ** log10_B * u.G\n",
    "        d_L *= u.cm\n",
    "        R_b = c.to_value(\"cm s-1\") * t_var * delta_D / (1 + z) * u.cm\n",
    "        sed_synch = Synchrotron.evaluate_sed_flux(\n",
    "            x,\n",
    "            z,\n",
    "            d_L,\n",
    "            delta_D,\n",
    "            B,\n",
    "            R_b,\n",
    "            BrokenPowerLaw,\n",
    "            k_e,\n",
    "            p1,\n",
    "            p2,\n",
    "            gamma_b,\n",
    "            gamma_min,\n",
    "            gamma_max,\n",
    "        )\n",
    "        sed_ssc = SynchrotronSelfCompton.evaluate_sed_flux(\n",
    "            x,\n",
    "            z,\n",
    "            d_L,\n",
    "            delta_D,\n",
    "            B,\n",
    "            R_b,\n",
    "            BrokenPowerLaw,\n",
    "            k_e,\n",
    "            p1,\n",
    "            p2,\n",
    "            gamma_b,\n",
    "            gamma_min,\n",
    "            gamma_max,\n",
    "        )\n",
    "        return sed_synch + sed_ssc"
   ]
  },
  {
   "cell_type": "markdown",
   "metadata": {},
   "source": [
    "### Fitting with `sherpa`\n",
    "Let us start here the procedure to fit with `sherpa`, first we read the data and then we pass them in a `Data1D` object provided by `sherpa`.     \n",
    "We add an educated guess on systematic errors on the flux measurements in the different energy bands.       "
   ]
  },
  {
   "cell_type": "code",
   "execution_count": 3,
   "metadata": {},
   "outputs": [],
   "source": [
    "# read the 1D data\n",
    "sed_path = pkg_resources.resource_filename(\"agnpy\", \"data/mwl_seds/Mrk421_2011.ecsv\")\n",
    "sed_table = Table.read(sed_path)\n",
    "x = sed_table[\"e_ref\"].to(\"Hz\", equivalencies=u.spectral())\n",
    "y = sed_table[\"e2dnde\"]\n",
    "y_err_stat = sed_table[\"e2dnde_errn\"]\n",
    "# array of systematic errors, will just be summed in quadrature to the statistical error\n",
    "# we assume\n",
    "# - 30% on VHE gamma-ray instruments\n",
    "# - 10% on HE gamma-ray instruments\n",
    "# - 10% on X-ray instruments\n",
    "# - 5% on lower-energy instruments\n",
    "y_err_syst = np.zeros(len(x))\n",
    "# define energy ranges\n",
    "nu_vhe = (100 * u.GeV).to(\"Hz\", equivalencies=u.spectral())\n",
    "nu_he = (0.1 * u.GeV).to(\"Hz\", equivalencies=u.spectral())\n",
    "nu_x_ray_max = (300 * u.keV).to(\"Hz\", equivalencies=u.spectral())\n",
    "nu_x_ray_min = (0.3 * u.keV).to(\"Hz\", equivalencies=u.spectral())\n",
    "vhe_gamma = x >= nu_vhe\n",
    "he_gamma = (x >= nu_he) * (x < nu_vhe)\n",
    "x_ray = (x >= nu_x_ray_min) * (x < nu_x_ray_max)\n",
    "uv_to_radio = x < nu_x_ray_min\n",
    "# declare systematics\n",
    "y_err_syst[vhe_gamma] = 0.30\n",
    "y_err_syst[he_gamma] = 0.10\n",
    "y_err_syst[x_ray] = 0.10\n",
    "y_err_syst[uv_to_radio] = 0.05\n",
    "y_err_syst = y * y_err_syst\n",
    "# define the data1D object containing it\n",
    "sed = data.Data1D(\"sed\", x, y, staterror=y_err_stat, syserror=y_err_syst)"
   ]
  },
  {
   "cell_type": "markdown",
   "metadata": {},
   "source": [
    "Now we create an instance of the model wrapping the synchrotron and SSC functionalities we defined above.\n",
    "Let us initialise all the blob parameters with the parameters provided in the paper [(Abdo et al. 2011)](https://ui.adsabs.harvard.edu/abs/2011ApJ...736..131A/abstract). Let us leave free to vary the parameters describing the electron distribution, the Doppler factor and the magnetic field."
   ]
  },
  {
   "cell_type": "code",
   "execution_count": 4,
   "metadata": {},
   "outputs": [],
   "source": [
    "# declare a model\n",
    "agnpy_ssc = AgnpySSC()\n",
    "# initialise parameters\n",
    "# parameters from Table 4 and Figure 11 of Abdo 2011\n",
    "R_b = 5.2 * 1e16 * u.cm\n",
    "z = 0.0308\n",
    "d_L = Distance(z=z).to(\"cm\")\n",
    "# - AGN parameters\n",
    "agnpy_ssc.z = z\n",
    "agnpy_ssc.z.freeze()\n",
    "agnpy_ssc.d_L = d_L.cgs.value\n",
    "agnpy_ssc.d_L.freeze()\n",
    "# - blob parameters\n",
    "agnpy_ssc.delta_D = 18\n",
    "agnpy_ssc.log10_B = -1.3\n",
    "agnpy_ssc.t_var = (1 * u.d).to_value(\"s\")\n",
    "agnpy_ssc.t_var.freeze()\n",
    "# - EED\n",
    "agnpy_ssc.log10_k_e = -7.9\n",
    "agnpy_ssc.p1 = 2.02\n",
    "agnpy_ssc.p2 = 3.43\n",
    "agnpy_ssc.log10_gamma_b = 5\n",
    "agnpy_ssc.log10_gamma_min = np.log10(500)\n",
    "agnpy_ssc.log10_gamma_min.freeze()\n",
    "agnpy_ssc.log10_gamma_max = np.log10(1e6)\n",
    "agnpy_ssc.log10_gamma_max.freeze()"
   ]
  },
  {
   "cell_type": "markdown",
   "metadata": {},
   "source": [
    "Now we define the `Fit` procedure choosing the statistics (chi2) and the minimisation method. We will fit only the data between $10^{11}\\,{\\rm Hz}$ and $10^{30}\\,{\\rm Hz}$, avoiding the lowest-energy radio data usually attributed to the extended jet emission."
   ]
  },
  {
   "cell_type": "code",
   "execution_count": 5,
   "metadata": {},
   "outputs": [],
   "source": [
    "# fit using the Levenberg-Marquardt optimiser\n",
    "fitter = Fit(sed, agnpy_ssc, stat=Chi2(), method=LevMar())\n",
    "min_x = 1e11 * u.Hz\n",
    "max_x = 1e30 * u.Hz\n",
    "sed.notice(min_x, max_x)"
   ]
  },
  {
   "cell_type": "code",
   "execution_count": 6,
   "metadata": {},
   "outputs": [
    {
     "name": "stdout",
     "output_type": "stream",
     "text": [
      "-- fit succesful? True\n",
      "Method                = levmar\n",
      "Statistic             = chi2\n",
      "Initial fit statistic = 2124.06\n",
      "Final fit statistic   = 271.166 at function evaluation 43\n",
      "Data points           = 86\n",
      "Degrees of freedom    = 80\n",
      "Probability [Q-value] = 1.28553e-22\n",
      "Reduced statistic     = 3.38957\n",
      "Change in statistic   = 1852.9\n",
      "   ssc.log10_k_e   -7.89139     +/- 0.0696219   \n",
      "   ssc.p1         2.05619      +/- 0.0230819   \n",
      "   ssc.p2         3.54295      +/- 0.0518196   \n",
      "   ssc.log10_gamma_b   4.99117      +/- 0.0227736   \n",
      "   ssc.delta_D    19.7605      +/- 0.618354    \n",
      "   ssc.log10_B    -1.32711     +/- 0.039422    \n",
      "CPU times: user 13.8 s, sys: 5.12 s, total: 18.9 s\n",
      "Wall time: 19.3 s\n"
     ]
    }
   ],
   "source": [
    "%%time\n",
    "# perform the fit and time it!\n",
    "results = fitter.fit()\n",
    "print(\"-- fit succesful?\", results.succeeded)\n",
    "print(results.format())"
   ]
  },
  {
   "cell_type": "code",
   "execution_count": 7,
   "metadata": {},
   "outputs": [
    {
     "data": {
      "image/png": "[encoded data removed]",
      "text/plain": [
       "<Figure size 432x288 with 1 Axes>"
      ]
     },
     "metadata": {
      "needs_background": "light"
     },
     "output_type": "display_data"
    }
   ],
   "source": [
    "# plot the results!\n",
    "load_mpl_rc()\n",
    "x = np.logspace(np.log10(min_x.value), np.log10(max_x.value), 200)\n",
    "plt.errorbar(sed.x, sed.y, yerr=sed.get_error(), marker=\".\", ls=\"\", color=\"k\")\n",
    "plot_sed(x, agnpy_ssc(x), ls=\"-\", color=\"crimson\")\n",
    "plt.ylim([1e-15, 1e-9])\n",
    "plt.show()"
   ]
  }
 ],
 "metadata": {
  "kernelspec": {
   "display_name": "Python 3 (ipykernel)",
   "language": "python",
   "name": "python3"
  },
  "language_info": {
   "codemirror_mode": {
    "name": "ipython",
    "version": 3
   },
   "file_extension": ".py",
   "mimetype": "text/x-python",
   "name": "python",
   "nbconvert_exporter": "python",
   "pygments_lexer": "ipython3",
   "version": "3.8.13"
  }
 },
 "nbformat": 4,
 "nbformat_minor": 4
}
