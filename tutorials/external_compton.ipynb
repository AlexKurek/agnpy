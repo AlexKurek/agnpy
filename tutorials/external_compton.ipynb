{
 "cells": [
  {
   "cell_type": "markdown",
   "metadata": {},
   "source": [
    "## External Compton"
   ]
  },
  {
   "cell_type": "code",
   "execution_count": 1,
   "metadata": {},
   "outputs": [],
   "source": [
    "import sys\n",
    "sys.path.append(\"../\")\n",
    "import numpy as np\n",
    "import astropy.units as u\n",
    "import astropy.constants as const\n",
    "from astropy.coordinates import Distance\n",
    "from agnpy.emission_regions import Blob\n",
    "from agnpy.targets import SSDisk, SphericalShellBLR, RingDustTorus\n",
    "from agnpy.compton import ExternalCompton\n",
    "import matplotlib.pyplot as plt"
   ]
  },
  {
   "cell_type": "code",
   "execution_count": 2,
   "metadata": {},
   "outputs": [],
   "source": [
    "# matplotlib adjustments and axes labels\n",
    "plt.rc(\"figure\", figsize=(7.5, 5.5))\n",
    "plt.rc(\"font\", size=12)\n",
    "plt.rc(\"axes\", grid=True)\n",
    "plt.rc(\"grid\", ls=\":\")\n",
    "sed_x_label = r\"$\\nu\\,/\\,Hz$\"\n",
    "sed_y_label = r\"$\\nu F_{\\nu}\\,/\\,(\\mathrm{erg}\\,\\mathrm{cm}^{-2}\\,\\mathrm{s}^{-1})$\""
   ]
  },
  {
   "cell_type": "code",
   "execution_count": 3,
   "metadata": {},
   "outputs": [
    {
     "name": "stdout",
     "output_type": "stream",
     "text": [
      "normalising broken power-law to total energy density u_e: 1.43e-06 erg / cm3\n",
      "total number 5.32e+46\n",
      "total energy 6.00e+42 erg\n",
      "1.0647072041523098e+40\n",
      "normalising broken power-law to total energy density u_e: 1.43e-06 erg / cm3\n",
      "total number 5.32e+46\n",
      "total energy 6.00e+42 erg\n",
      "1.0647072041523098e+40\n"
     ]
    }
   ],
   "source": [
    "spectrum_norm = 6e42 * u.erg\n",
    "parameters = {\n",
    "    \"p1\": 2.0001,\n",
    "    \"p2\": 3.5,\n",
    "    \"gamma_b\": 1e4,\n",
    "    \"gamma_min\": 20,\n",
    "    \"gamma_max\": 5e7,\n",
    "}\n",
    "spectrum_dict = {\"type\": \"BrokenPowerLaw\", \"parameters\": parameters}\n",
    "R_b = 1e16 * u.cm\n",
    "B = 0.56 * u.G\n",
    "z = 1\n",
    "delta_D = 40\n",
    "Gamma = 40\n",
    "blob = Blob(R_b, z, delta_D, Gamma, B, spectrum_norm, spectrum_dict)\n",
    "blob.set_gamma_size(600)\n",
    "gamma = np.logspace(1, 8, 200)\n",
    "print(f\"total number {blob.N_e_tot:.2e}\")\n",
    "print(f\"total energy {blob.W_e:.2e}\")\n",
    "print(blob.n_e.k_e * blob.V_b)"
   ]
  },
  {
   "cell_type": "code",
   "execution_count": 4,
   "metadata": {},
   "outputs": [
    {
     "name": "stdout",
     "output_type": "stream",
     "text": [
      "* spherical emission region\n",
      " - R_b (radius of the blob): 1.00e+16 cm\n",
      " - V_b (volume of the blob): 4.19e+48 cm3\n",
      " - z (source redshift): 1.00\n",
      " - d_L (source luminosity distance):2.10e+28 cm\n",
      " - delta_D (blob Doppler factor): 4.00e+01\n",
      " - Gamma (blob Lorentz factor): 4.00e+01\n",
      " - Beta (blob relativistic velocity): 1.00e+00\n",
      " - mu_s (cosine of the jet viewing angle): 1.00e+00\n",
      " - B (magnetic field tangled to the jet): 5.60e-01 G\n",
      " - electron spectra:\n",
      "  |- normalisation: 6.00e+42 erg\n",
      "  |- spectral function: BrokenPowerLaw\n",
      "  |- gamma_min (minimum Lorentz factor): 2.00e+01\n",
      "  '- gamma_max (maximum Lorentz factor): 5.00e+07\n",
      "* spherical emission region\n",
      " - R_b (radius of the blob): 1.00e+16 cm\n",
      " - V_b (volume of the blob): 4.19e+48 cm3\n",
      " - z (source redshift): 1.00\n",
      " - d_L (source luminosity distance):2.10e+28 cm\n",
      " - delta_D (blob Doppler factor): 4.00e+01\n",
      " - Gamma (blob Lorentz factor): 4.00e+01\n",
      " - Beta (blob relativistic velocity): 1.00e+00\n",
      " - mu_s (cosine of the jet viewing angle): 1.00e+00\n",
      " - B (magnetic field tangled to the jet): 5.60e-01 G\n",
      " - electron spectra:\n",
      "  |- normalisation: 6.00e+42 erg\n",
      "  |- spectral function: BrokenPowerLaw\n",
      "  |- gamma_min (minimum Lorentz factor): 2.00e+01\n",
      "  '- gamma_max (maximum Lorentz factor): 5.00e+07\n"
     ]
    }
   ],
   "source": [
    "print(blob)"
   ]
  },
  {
   "cell_type": "markdown",
   "metadata": {},
   "source": [
    "### on Shakura Sunyaev Disk\n",
    "<img src=\"figures/figure_8_finke_2016.png\" style=\"float: left;\" width=\"500\"/>"
   ]
  },
  {
   "cell_type": "code",
   "execution_count": 5,
   "metadata": {},
   "outputs": [],
   "source": [
    "# disk parameters\n",
    "M_sun = const.M_sun.cgs\n",
    "M_BH = 1.2 * 1e9 * M_sun\n",
    "R_g = ((const.G * M_BH) / (const.c * const.c)).cgs\n",
    "L_disk = 2 * 1e46 * u.Unit(\"erg s-1\")\n",
    "eta = 1 / 12\n",
    "R_in = 6 * R_g\n",
    "R_out = 200 * R_g"
   ]
  },
  {
   "cell_type": "code",
   "execution_count": 6,
   "metadata": {},
   "outputs": [],
   "source": [
    "disk = SSDisk(M_BH, L_disk, eta, R_in, R_out)"
   ]
  },
  {
   "cell_type": "code",
   "execution_count": 7,
   "metadata": {},
   "outputs": [
    {
     "name": "stdout",
     "output_type": "stream",
     "text": [
      "* Shakura Sunyaev accretion disk:\n",
      " - M_BH (central black hole mass): 2.39e+42 g\n",
      " - L_disk (disk luminosity): 2.00e+46 erg / s\n",
      " - eta (accretion efficiency): 8.33e-02\n",
      " - dot(m) (mass accretion rate): 2.67e+26 g / s\n",
      " - R_in (disk inner radius): 1.06e+15 cm\n",
      " - R_out (disk inner radius): 3.54e+16 cm\n",
      "* Shakura Sunyaev accretion disk:\n",
      " - M_BH (central black hole mass): 2.39e+42 g\n",
      " - L_disk (disk luminosity): 2.00e+46 erg / s\n",
      " - eta (accretion efficiency): 8.33e-02\n",
      " - dot(m) (mass accretion rate): 2.67e+26 g / s\n",
      " - R_in (disk inner radius): 1.06e+15 cm\n",
      " - R_out (disk inner radius): 3.54e+16 cm\n"
     ]
    }
   ],
   "source": [
    "print(disk)"
   ]
  },
  {
   "cell_type": "code",
   "execution_count": 8,
   "metadata": {},
   "outputs": [],
   "source": [
    "ec_disk_1 = ExternalCompton(blob, disk, r=1e17 * u.cm)\n",
    "ec_disk_2 = ExternalCompton(blob, disk, r=1e18 * u.cm)\n",
    "ec_disk_3 = ExternalCompton(blob, disk, r=1e19 * u.cm)"
   ]
  },
  {
   "cell_type": "code",
   "execution_count": 9,
   "metadata": {},
   "outputs": [],
   "source": [
    "nu = np.logspace(15, 30) * u.Hz"
   ]
  },
  {
   "cell_type": "code",
   "execution_count": null,
   "metadata": {},
   "outputs": [],
   "source": [
    "%%timeit\n",
    "ec_disk_1.sed_flux(nu)"
   ]
  },
  {
   "cell_type": "code",
   "execution_count": null,
   "metadata": {},
   "outputs": [],
   "source": [
    "plt.loglog(nu, ec_disk_1.sed_flux(nu), lw=2, color=\"k\", label=r\"$r=10^{17}\\,{\\rm cm}$\")\n",
    "plt.loglog(nu, ec_disk_2.sed_flux(nu), lw=2, color=\"crimson\", label=r\"$r=10^{18}\\,{\\rm cm}$\")\n",
    "plt.loglog(nu, ec_disk_3.sed_flux(nu), lw=2, color=\"dodgerblue\", label=r\"$r=10^{19}\\,{\\rm cm}$\")\n",
    "plt.xlim([1e18, 1e29])\n",
    "plt.ylim([1e-26, 1e-12])\n",
    "plt.xlabel(sed_x_label)\n",
    "plt.ylabel(sed_y_label)\n",
    "plt.legend()\n",
    "plt.show()"
   ]
  },
  {
   "cell_type": "markdown",
   "metadata": {},
   "source": [
    "### on Spherical Shell Broad Line Region\n",
    "<img src=\"figures/figure_10_finke_2016.png\" style=\"float: left;\" width=\"500\"/>"
   ]
  },
  {
   "cell_type": "code",
   "execution_count": null,
   "metadata": {},
   "outputs": [],
   "source": [
    "epsilon_line = 2e-5\n",
    "csi_line = 0.024\n",
    "R_line = 1e17 * u.cm\n",
    "blr = SphericalShellBLR(disk, csi_line, epsilon_line, R_line)"
   ]
  },
  {
   "cell_type": "code",
   "execution_count": null,
   "metadata": {},
   "outputs": [],
   "source": [
    "ec_blr_1 = ExternalCompton(blob, blr, r=1e16 * u.cm)\n",
    "ec_blr_2 = ExternalCompton(blob, blr, r=1e18 * u.cm)\n",
    "ec_blr_3 = ExternalCompton(blob, blr, r=1e19 * u.cm)"
   ]
  },
  {
   "cell_type": "code",
   "execution_count": null,
   "metadata": {},
   "outputs": [],
   "source": [
    "%%timeit\n",
    "ec_blr_1.sed_flux(nu)"
   ]
  },
  {
   "cell_type": "code",
   "execution_count": null,
   "metadata": {},
   "outputs": [],
   "source": [
    "plt.loglog(nu, ec_blr_1.sed_flux(nu), lw=2, color=\"k\", label=r\"$r=10^{17}\\,{\\rm cm}$\")\n",
    "plt.loglog(nu, ec_blr_2.sed_flux(nu), lw=2, color=\"crimson\", label=r\"$r=10^{18}\\,{\\rm cm}$\")\n",
    "plt.loglog(nu, ec_blr_3.sed_flux(nu), lw=2, color=\"dodgerblue\", label=r\"$r=10^{18}\\,{\\rm cm}$\")\n",
    "plt.ylim(1e-25, 1e-12)\n",
    "plt.xlim(1e15, 1e29)\n",
    "plt.xlabel(sed_x_label)\n",
    "plt.ylabel(sed_y_label)\n",
    "plt.legend()\n",
    "plt.show()"
   ]
  },
  {
   "cell_type": "markdown",
   "metadata": {},
   "source": [
    "### on Ring Dust Torus\n",
    "<img src=\"figures/figure_11_finke_2016.png\" style=\"float: left;\" width=\"500\"/>"
   ]
  },
  {
   "cell_type": "code",
   "execution_count": null,
   "metadata": {},
   "outputs": [],
   "source": [
    "T_dt = 1e3 * u.K\n",
    "epsilon_dt = 2.7 * ((const.k_B * T_dt) / (const.m_e * const.c * const.c)).decompose()\n",
    "csi_dt = 0.1"
   ]
  },
  {
   "cell_type": "code",
   "execution_count": null,
   "metadata": {},
   "outputs": [],
   "source": [
    "dt = RingDustTorus(disk, csi_dt, epsilon_dt)"
   ]
  },
  {
   "cell_type": "code",
   "execution_count": null,
   "metadata": {},
   "outputs": [],
   "source": [
    "dt.R_dt"
   ]
  },
  {
   "cell_type": "code",
   "execution_count": null,
   "metadata": {},
   "outputs": [],
   "source": [
    "dt.T_dt"
   ]
  },
  {
   "cell_type": "code",
   "execution_count": null,
   "metadata": {},
   "outputs": [],
   "source": [
    "ec_dt_1 = ExternalCompton(blob, dt, r=1e19 * u.cm)\n",
    "ec_dt_2 = ExternalCompton(blob, dt, r=1e20 * u.cm)\n",
    "ec_dt_3 = ExternalCompton(blob, dt, r=1e21 * u.cm)"
   ]
  },
  {
   "cell_type": "code",
   "execution_count": null,
   "metadata": {},
   "outputs": [],
   "source": [
    "%%timeit\n",
    "ec_dt_1.sed_flux(nu)"
   ]
  },
  {
   "cell_type": "code",
   "execution_count": null,
   "metadata": {},
   "outputs": [],
   "source": [
    "plt.loglog(nu, ec_dt_1.sed_flux(nu), lw=2, color=\"k\", label=r\"$r=10^{19}\\,{\\rm cm}$\")\n",
    "plt.loglog(nu, ec_dt_2.sed_flux(nu), lw=2, color=\"crimson\", label=r\"$r=10^{20}\\,{\\rm cm}$\")\n",
    "plt.loglog(nu, ec_dt_3.sed_flux(nu), lw=2, color=\"dodgerblue\", label=r\"$r=10^{21}\\,{\\rm cm}$\")\n",
    "plt.ylim(1e-28, 1e-14)\n",
    "plt.xlim(1e16, 1e29)\n",
    "plt.xlabel(sed_x_label)\n",
    "plt.ylabel(sed_y_label)\n",
    "plt.legend()\n",
    "plt.show()"
   ]
  }
 ],
 "metadata": {
  "kernelspec": {
   "display_name": "Python 3",
   "language": "python",
   "name": "python3"
  },
  "language_info": {
   "codemirror_mode": {
    "name": "ipython",
    "version": 3
   },
   "file_extension": ".py",
   "mimetype": "text/x-python",
   "name": "python",
   "nbconvert_exporter": "python",
   "pygments_lexer": "ipython3",
   "version": "3.7.4"
  }
 },
 "nbformat": 4,
 "nbformat_minor": 2
}
