{
 "cells": [
  {
   "cell_type": "code",
   "execution_count": 1,
   "metadata": {},
   "outputs": [],
   "source": [
    "import sys\n",
    "sys.path.append(\"../\")\n",
    "import numpy as np\n",
    "import astropy.units as u\n",
    "import astropy.constants as const\n",
    "from astropy.coordinates import Distance\n",
    "from agnpy.emission_region import Blob\n",
    "from agnpy.synchrotron import Synchrotron\n",
    "import matplotlib.pyplot as plt"
   ]
  },
  {
   "cell_type": "code",
   "execution_count": 2,
   "metadata": {},
   "outputs": [],
   "source": [
    "sed_x_label = r\"$\\nu\\,/\\,Hz$\"\n",
    "sed_y_label = r\"$\\nu F_{\\nu}\\,/\\,(\\mathrm{erg}\\,\\mathrm{cm}^{-2}\\,\\mathrm{s}^{-1})$\""
   ]
  },
  {
   "cell_type": "code",
   "execution_count": 3,
   "metadata": {},
   "outputs": [
    {
     "name": "stdout",
     "output_type": "stream",
     "text": [
      "normalising power-law to total energy density u_e: 2.39e-01 erg / cm3\n",
      "total density 1.30e+03 1 / cm3\n",
      "total energy 1.00e+48 erg\n"
     ]
    }
   ],
   "source": [
    "spectrum_norm = 1e48 * u.Unit(\"erg\")\n",
    "parameters = {\"p\": 2.8, \"gamma_min\": 1e2, \"gamma_max\": 1e7}\n",
    "spectrum_dict = {\"type\": \"PowerLaw\", \"parameters\": parameters}\n",
    "R_b = 1e16 * u.cm\n",
    "B = 1 * u.G\n",
    "z = Distance(1e27, unit=u.cm).z\n",
    "delta_D = 10\n",
    "Gamma = 10\n",
    "blob = Blob(R_b, z, delta_D, Gamma, B, spectrum_norm, spectrum_dict)\n",
    "print(f\"total density {blob.norm:.2e}\")\n",
    "print(f\"total energy {blob.W_e:.2e}\")"
   ]
  },
  {
   "cell_type": "code",
   "execution_count": 4,
   "metadata": {},
   "outputs": [
    {
     "name": "stdout",
     "output_type": "stream",
     "text": [
      "* spherical emission region\n",
      " - R_b (radius of the blob): 1.00e+16 cm\n",
      " - V_b (volume of the blob): 4.19e+48 cm3\n",
      " - z (source redshift): 0.07\n",
      " - d_L (source luminosity distance):1.00e+27 cm\n",
      " - delta_D (blob Doppler factor): 1.00e+01\n",
      " - Gamma (blob Lorentz factor): 1.00e+01\n",
      " - Beta (blob relativistic velocity): 9.95e-01\n",
      " - mu_s (cosine of the jet viewing angle): 9.95e-01\n",
      " - B (magnetic field tangled to the jet): 1.00e+00 G\n",
      " - electron spectra:\n",
      "  |- normalisation: 1.00e+48 erg\n",
      "  |- spectral function: PowerLaw\n",
      "  |- gamma_min (minimum Lorentz factor): 1.00e+02\n",
      "  '- gamma_max (maximum Lorentz factor): 1.00e+07\n",
      "\n"
     ]
    }
   ],
   "source": [
    "print(blob)"
   ]
  },
  {
   "cell_type": "code",
   "execution_count": 5,
   "metadata": {},
   "outputs": [],
   "source": [
    "synch = Synchrotron(blob)"
   ]
  },
  {
   "cell_type": "code",
   "execution_count": 6,
   "metadata": {},
   "outputs": [
    {
     "name": "stderr",
     "output_type": "stream",
     "text": [
      "../agnpy/synchrotron.py:38: NumbaWarning: \n",
      "Compilation is falling back to object mode WITH looplifting enabled because Function \"_com_sed_emissivity\" failed type inference due to: Invalid use of Function(<function trapz at 0x1145a7950>) with argument(s) of type(s): (array(float64, 2d, C), array(float64, 1d, C), axis=Literal[int](0))\n",
      " * parameterized\n",
      "In definition 0:\n",
      "    TypeError: np_trapz() got an unexpected keyword argument 'axis'\n",
      "    raised from /Users/cosimo/software/miniconda3/lib/python3.7/site-packages/numba/typing/templates.py:517\n",
      "In definition 1:\n",
      "    TypeError: np_trapz() got an unexpected keyword argument 'axis'\n",
      "    raised from /Users/cosimo/software/miniconda3/lib/python3.7/site-packages/numba/typing/templates.py:517\n",
      "This error is usually caused by passing an argument of a type that is unsupported by the named function.\n",
      "[1] During: resolving callee type: Function(<function trapz at 0x1145a7950>)\n",
      "[2] During: typing of call at ../agnpy/synchrotron.py (60)\n",
      "\n",
      "\n",
      "File \"../agnpy/synchrotron.py\", line 60:\n",
      "def _com_sed_emissivity(epsilon, gamma, N_e, B):\n",
      "    <source elided>\n",
      "    integrand = _N_e * R(x)\n",
      "    integral = np.trapz(integrand, gamma, axis=0)\n",
      "    ^\n",
      "\n",
      "  @jit(cache=True, parallel=True)\n",
      "/Users/cosimo/software/miniconda3/lib/python3.7/site-packages/numba/object_mode_passes.py:178: NumbaWarning: Function \"_com_sed_emissivity\" was compiled in object mode without forceobj=True.\n",
      "\n",
      "File \"../agnpy/synchrotron.py\", line 39:\n",
      "@jit(cache=True, parallel=True)\n",
      "def _com_sed_emissivity(epsilon, gamma, N_e, B):\n",
      "^\n",
      "\n",
      "  state.func_ir.loc))\n",
      "/Users/cosimo/software/miniconda3/lib/python3.7/site-packages/numba/object_mode_passes.py:187: NumbaDeprecationWarning: \n",
      "Fall-back from the nopython compilation path to the object mode compilation path has been detected, this is deprecated behaviour.\n",
      "\n",
      "For more information visit http://numba.pydata.org/numba-doc/latest/reference/deprecation.html#deprecation-of-object-mode-fall-back-behaviour-when-using-jit\n",
      "\n",
      "File \"../agnpy/synchrotron.py\", line 39:\n",
      "@jit(cache=True, parallel=True)\n",
      "def _com_sed_emissivity(epsilon, gamma, N_e, B):\n",
      "^\n",
      "\n",
      "  warnings.warn(errors.NumbaDeprecationWarning(msg, state.func_ir.loc))\n"
     ]
    },
    {
     "data": {
      "image/png": "[encoded data removed]",
      "text/plain": [
       "<Figure size 432x288 with 1 Axes>"
      ]
     },
     "metadata": {
      "needs_background": "light"
     },
     "output_type": "display_data"
    }
   ],
   "source": [
    "nu = np.logspace(8, 23) * u.Hz\n",
    "plt.loglog(nu, synch.sed_flux(nu), lw=2, color=\"k\", label=\"synchr.\")\n",
    "plt.loglog(nu, synch.sed_flux(nu, SSA=True), lw=2, ls=\"--\", color=\"gray\", label=\"self absorbed synchr.\")\n",
    "plt.xlabel(sed_x_label, fontsize=12)\n",
    "plt.ylabel(sed_y_label, fontsize=12)\n",
    "plt.legend()\n",
    "plt.show()"
   ]
  },
  {
   "cell_type": "code",
   "execution_count": 7,
   "metadata": {},
   "outputs": [
    {
     "name": "stdout",
     "output_type": "stream",
     "text": [
      "1.09 ms ± 8.55 µs per loop (mean ± std. dev. of 7 runs, 1000 loops each)\n"
     ]
    }
   ],
   "source": [
    "%%timeit \n",
    "synch.sed_flux(nu)"
   ]
  },
  {
   "cell_type": "code",
   "execution_count": 8,
   "metadata": {},
   "outputs": [
    {
     "name": "stdout",
     "output_type": "stream",
     "text": [
      "1.97 ms ± 22.6 µs per loop (mean ± std. dev. of 7 runs, 100 loops each)\n"
     ]
    }
   ],
   "source": [
    "%%timeit \n",
    "synch.sed_flux(nu, SSA=True)"
   ]
  },
  {
   "cell_type": "code",
   "execution_count": null,
   "metadata": {},
   "outputs": [],
   "source": []
  }
 ],
 "metadata": {
  "kernelspec": {
   "display_name": "Python 3",
   "language": "python",
   "name": "python3"
  },
  "language_info": {
   "codemirror_mode": {
    "name": "ipython",
    "version": 3
   },
   "file_extension": ".py",
   "mimetype": "text/x-python",
   "name": "python",
   "nbconvert_exporter": "python",
   "pygments_lexer": "ipython3",
   "version": "3.7.4"
  }
 },
 "nbformat": 4,
 "nbformat_minor": 2
}
