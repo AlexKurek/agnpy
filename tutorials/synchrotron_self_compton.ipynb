{
 "cells": [
  {
   "cell_type": "markdown",
   "metadata": {},
   "source": [
    "## Synchrotron and Synchrotron Self Compton"
   ]
  },
  {
   "cell_type": "code",
   "execution_count": 1,
   "metadata": {},
   "outputs": [],
   "source": [
    "import sys\n",
    "sys.path.append(\"../\")\n",
    "import numpy as np\n",
    "import astropy.units as u\n",
    "import astropy.constants as const\n",
    "from astropy.coordinates import Distance\n",
    "import matplotlib.pyplot as plt"
   ]
  },
  {
   "cell_type": "code",
   "execution_count": 2,
   "metadata": {},
   "outputs": [],
   "source": [
    "from agnpy.emission_regions import Blob\n",
    "from agnpy.synchrotron import Synchrotron\n",
    "from agnpy.compton import SynchrotronSelfCompton"
   ]
  },
  {
   "cell_type": "code",
   "execution_count": 3,
   "metadata": {},
   "outputs": [],
   "source": [
    "# matplotlib adjustments and axes labels\n",
    "plt.rc(\"figure\", figsize=(7.5, 5.5))\n",
    "plt.rc(\"font\", size=12)\n",
    "plt.rc(\"axes\", grid=True)\n",
    "plt.rc(\"grid\", ls=\":\")\n",
    "sed_x_label = r\"$\\nu\\,/\\,Hz$\"\n",
    "sed_y_label = r\"$\\nu F_{\\nu}\\,/\\,(\\mathrm{erg}\\,\\mathrm{cm}^{-2}\\,\\mathrm{s}^{-1})$\""
   ]
  },
  {
   "cell_type": "code",
   "execution_count": 7,
   "metadata": {},
   "outputs": [
    {
     "name": "stdout",
     "output_type": "stream",
     "text": [
      "normalising power-law to total energy density u_e: 2.39e-01 erg / cm3\n",
      "total particle number: 5.45e+51\n",
      "total energy in electrons: 1.00e+48 erg\n"
     ]
    }
   ],
   "source": [
    "spectrum_norm = 1e48 * u.Unit(\"erg\") \n",
    "spectrum_dict = {\n",
    "    \"type\": \"PowerLaw\", \n",
    "    \"parameters\": {\n",
    "        \"p\": 2.8, \n",
    "        \"gamma_min\": 1e2, \n",
    "        \"gamma_max\": 1e7\n",
    "    }\n",
    "}\n",
    "R_b = 1e16 * u.cm\n",
    "B = 1 * u.G\n",
    "z = Distance(1e27, unit=u.cm).z\n",
    "delta_D = 10\n",
    "Gamma = 10\n",
    "blob = Blob(R_b, z, delta_D, Gamma, B, spectrum_norm, spectrum_dict)\n",
    "print(f\"total particle number: {blob.N_e_tot:.2e}\")\n",
    "print(f\"total energy in electrons: {blob.W_e:.2e}\")"
   ]
  },
  {
   "cell_type": "code",
   "execution_count": 8,
   "metadata": {},
   "outputs": [
    {
     "name": "stdout",
     "output_type": "stream",
     "text": [
      "* spherical emission region\n",
      " - R_b (radius of the blob): 1.00e+16 cm\n",
      " - V_b (volume of the blob): 4.19e+48 cm3\n",
      " - z (source redshift): 0.07\n",
      " - d_L (source luminosity distance):1.00e+27 cm\n",
      " - delta_D (blob Doppler factor): 1.00e+01\n",
      " - Gamma (blob Lorentz factor): 1.00e+01\n",
      " - Beta (blob relativistic velocity): 9.95e-01\n",
      " - mu_s (cosine of the jet viewing angle): 9.95e-01\n",
      " - B (magnetic field tangled to the jet): 1.00e+00 G\n",
      "* electron spectrum\n",
      " - power law\n",
      " - k_e: 9.29e+06 1 / cm3\n",
      " - p: 2.80\n",
      " - gamma_min: 1.00e+02\n",
      " - gamma_max: 1.00e+07\n",
      "\n"
     ]
    }
   ],
   "source": [
    "print(blob)"
   ]
  },
  {
   "cell_type": "code",
   "execution_count": 6,
   "metadata": {},
   "outputs": [
    {
     "data": {
      "text/latex": [
       "$4.4806375 \\times 10^{44} \\; \\mathrm{\\frac{erg}{s}}$"
      ],
      "text/plain": [
       "<Quantity 4.48063752e+44 erg / s>"
      ]
     },
     "execution_count": 6,
     "metadata": {},
     "output_type": "execute_result"
    }
   ],
   "source": [
    "blob.P_jet_e"
   ]
  },
  {
   "cell_type": "code",
   "execution_count": 9,
   "metadata": {},
   "outputs": [
    {
     "data": {
      "text/latex": [
       "$7.4572432 \\times 10^{43} \\; \\mathrm{\\frac{erg}{s}}$"
      ],
      "text/plain": [
       "<Quantity 7.45724324e+43 erg / s>"
      ]
     },
     "execution_count": 9,
     "metadata": {},
     "output_type": "execute_result"
    }
   ],
   "source": [
    "blob.P_jet_B"
   ]
  },
  {
   "cell_type": "code",
   "execution_count": null,
   "metadata": {},
   "outputs": [],
   "source": [
    "synch = Synchrotron(blob)"
   ]
  },
  {
   "cell_type": "code",
   "execution_count": null,
   "metadata": {},
   "outputs": [],
   "source": [
    "nu_syn = np.logspace(8, 23) * u.Hz"
   ]
  },
  {
   "cell_type": "code",
   "execution_count": null,
   "metadata": {},
   "outputs": [],
   "source": [
    "%%timeit \n",
    "synch.sed_flux(nu_syn)"
   ]
  },
  {
   "cell_type": "code",
   "execution_count": null,
   "metadata": {},
   "outputs": [],
   "source": [
    "%%timeit \n",
    "synch.sed_flux(nu_syn, SSA=True)"
   ]
  },
  {
   "cell_type": "code",
   "execution_count": null,
   "metadata": {},
   "outputs": [],
   "source": [
    "plt.loglog(nu_syn, synch.sed_flux(nu_syn), color=\"k\", lw=2, label=\"synchr.\")\n",
    "plt.loglog(nu_syn, synch.sed_flux(nu_syn, SSA=True), lw=2, ls=\"--\", color=\"gray\", label=\"self absorbed synchr.\")\n",
    "plt.xlabel(sed_x_label)\n",
    "plt.ylabel(sed_y_label)\n",
    "plt.legend()\n",
    "plt.show()"
   ]
  },
  {
   "cell_type": "code",
   "execution_count": null,
   "metadata": {},
   "outputs": [],
   "source": [
    "ssc = SynchrotronSelfCompton(blob, synch)"
   ]
  },
  {
   "cell_type": "code",
   "execution_count": null,
   "metadata": {},
   "outputs": [],
   "source": [
    "nu_ssc = np.logspace(15, 30) * u.Hz"
   ]
  },
  {
   "cell_type": "code",
   "execution_count": null,
   "metadata": {},
   "outputs": [],
   "source": [
    "%%timeit\n",
    "ssc.sed_flux(nu_ssc)"
   ]
  },
  {
   "cell_type": "code",
   "execution_count": null,
   "metadata": {},
   "outputs": [],
   "source": [
    "plt.loglog(nu_ssc, ssc.sed_flux(nu_ssc), lw=2, color=\"k\", label=\"SSC\")\n",
    "plt.xlabel(sed_x_label)\n",
    "plt.ylabel(sed_y_label)\n",
    "plt.legend()\n",
    "plt.show()"
   ]
  },
  {
   "cell_type": "markdown",
   "metadata": {},
   "source": [
    "### reproduce Figure 7.4 of Dermer and Menon (2009)\n",
    "<img src=\"figures/figure_7_4_dermer_2009.png\" style=\"float: left;\" width=\"500\"/>"
   ]
  },
  {
   "cell_type": "code",
   "execution_count": null,
   "metadata": {},
   "outputs": [],
   "source": [
    "spectrum_dict[\"parameters\"][\"gamma_max\"] = 1e5\n",
    "blob2 = Blob(R_b, z, delta_D, Gamma, B, spectrum_norm, spectrum_dict)\n",
    "synch2 = Synchrotron(blob2)\n",
    "ssc2 = SynchrotronSelfCompton(blob2, synch)"
   ]
  },
  {
   "cell_type": "code",
   "execution_count": null,
   "metadata": {},
   "outputs": [],
   "source": [
    "plt.loglog(nu_syn, synch.sed_flux(nu_syn), lw=2, color=\"k\", label=r\"${\\rm synch},\\,\\gamma_{\\rm max}=10^7$\")\n",
    "plt.loglog(nu_ssc, ssc.sed_flux(nu_ssc), lw=2, color=\"k\", label=r\"${\\rm SSC},\\,\\gamma_{\\rm max}=10^7$\")\n",
    "plt.loglog(nu_syn, synch2.sed_flux(nu_syn), lw=2, color=\"crimson\", label=r\"${\\rm synch},\\,\\gamma_{\\rm max}=10^5$\")\n",
    "plt.loglog(nu_ssc, ssc2.sed_flux(nu_ssc), lw=2, color=\"crimson\", label=r\"${\\rm SSC},\\,\\gamma_{\\rm max}=10^5$\")\n",
    "plt.xlabel(sed_x_label)\n",
    "plt.ylabel(sed_y_label)\n",
    "plt.xlim([1e9, 1e30])\n",
    "plt.ylim([1e-12, 1e-9])\n",
    "plt.legend(loc=2)\n",
    "plt.show()"
   ]
  }
 ],
 "metadata": {
  "kernelspec": {
   "display_name": "Python 3",
   "language": "python",
   "name": "python3"
  },
  "language_info": {
   "codemirror_mode": {
    "name": "ipython",
    "version": 3
   },
   "file_extension": ".py",
   "mimetype": "text/x-python",
   "name": "python",
   "nbconvert_exporter": "python",
   "pygments_lexer": "ipython3",
   "version": "3.7.4"
  }
 },
 "nbformat": 4,
 "nbformat_minor": 2
}
