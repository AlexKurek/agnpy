{
 "cells": [
  {
   "cell_type": "code",
   "execution_count": 1,
   "metadata": {},
   "outputs": [],
   "source": [
    "import numpy as np\n",
    "import astropy.units as u\n",
    "from astropy.constants import m_e, M_sun, h, c \n",
    "from agnpy.emission_regions import Blob\n",
    "from agnpy.targets import SSDisk, SphericalShellBLR, RingDustTorus\n",
    "from agnpy.compton import cos_psi\n",
    "from agnpy.absorption import sigma, Absorption\n",
    "import matplotlib.pyplot as plt\n",
    "from matplotlib import ticker, cm"
   ]
  },
  {
   "cell_type": "code",
   "execution_count": 2,
   "metadata": {},
   "outputs": [],
   "source": [
    "mec2 = m_e.to(\"erg\", equivalencies=u.mass_energy())\n",
    "# equivalency to transform frequencies to energies in electron rest mass units\n",
    "epsilon_equivalency = [\n",
    "    (u.Hz, u.Unit(\"\"), lambda x: h.cgs * x / mec2, lambda x: x * mec2 / h.cgs)\n",
    "]"
   ]
  },
  {
   "cell_type": "code",
   "execution_count": 3,
   "metadata": {},
   "outputs": [],
   "source": [
    "# disk parameters\n",
    "M_BH = 1.2 * 1e9 * M_sun.cgs\n",
    "L_disk = 2 * 1e46 * u.Unit(\"erg s-1\")\n",
    "eta = 1 / 12\n",
    "R_in = 6\n",
    "R_out = 200\n",
    "disk = SSDisk(M_BH, L_disk, eta, R_in, R_out, R_g_units=True)"
   ]
  },
  {
   "cell_type": "code",
   "execution_count": 4,
   "metadata": {},
   "outputs": [],
   "source": [
    "# define energy array\n",
    "E = np.logspace(0, 5) * u.GeV\n",
    "nu = E.to(\"Hz\", equivalencies=u.spectral())\n",
    "epsilon_1 = nu.to(\"\", equivalencies=epsilon_equivalency)"
   ]
  },
  {
   "cell_type": "code",
   "execution_count": 5,
   "metadata": {},
   "outputs": [],
   "source": [
    "# define array of cosines\n",
    "r = 1.1e16 * u.cm\n",
    "r_tilde = (r / disk.R_g).to_value(\"\")\n",
    "mu = disk.mu_from_r_tilde(r_tilde) # range of mu we see at this distance\n",
    "epsilon_disk = disk.epsilon_mu(mu, r_tilde)"
   ]
  },
  {
   "cell_type": "code",
   "execution_count": 6,
   "metadata": {},
   "outputs": [],
   "source": [
    "# define a 2d matrix containing the value of s per each mu and per each E\n",
    "_epsilon_1 = np.reshape(epsilon_1, (epsilon_1.size, 1))\n",
    "_epsilon_disk = np.reshape(epsilon_disk, (1, epsilon_disk.size))\n",
    "_mu = np.reshape(mu, (1, mu.size))\n",
    "s = _epsilon_1 * _epsilon_disk / 2 * (1 - _mu)"
   ]
  },
  {
   "cell_type": "code",
   "execution_count": 8,
   "metadata": {},
   "outputs": [
    {
     "data": {
      "image/png": "[encoded data removed]",
      "text/plain": [
       "<Figure size 720x576 with 2 Axes>"
      ]
     },
     "metadata": {
      "needs_background": "light"
     },
     "output_type": "display_data"
    }
   ],
   "source": [
    "# plot s\n",
    "fig, ax = plt.subplots(figsize=(10,8))\n",
    "extent = [E[0].to_value(\"GeV\"), E[-1].to_value(\"GeV\"), mu[0], mu[-1]]\n",
    "cs = ax.contourf(s, extent=extent, origin=\"lower\", locator=ticker.LogLocator(), cmap=cm.PuBu_r)\n",
    "ax.set_xscale(\"log\")\n",
    "ax.set_xlabel(\"E / GeV\")\n",
    "ax.set_ylabel(r\"$\\mu$\")\n",
    "plt.colorbar(cs)\n",
    "plt.show()"
   ]
  }
 ],
 "metadata": {
  "kernelspec": {
   "display_name": "Python 3",
   "language": "python",
   "name": "python3"
  },
  "language_info": {
   "codemirror_mode": {
    "name": "ipython",
    "version": 3
   },
   "file_extension": ".py",
   "mimetype": "text/x-python",
   "name": "python",
   "nbconvert_exporter": "python",
   "pygments_lexer": "ipython3",
   "version": "3.7.6"
  }
 },
 "nbformat": 4,
 "nbformat_minor": 4
}
