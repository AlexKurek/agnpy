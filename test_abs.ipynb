{
 "cells": [
  {
   "cell_type": "code",
   "execution_count": 1,
   "metadata": {},
   "outputs": [],
   "source": [
    "import numpy as np\n",
    "import astropy.units as u\n",
    "from astropy.constants import m_e, M_sun, h, c \n",
    "from agnpy.emission_regions import Blob\n",
    "from agnpy.targets import SSDisk, SphericalShellBLR, RingDustTorus\n",
    "from agnpy.compton import cos_psi\n",
    "from agnpy.absorption import sigma, Absorption\n",
    "import matplotlib.pyplot as plt"
   ]
  },
  {
   "cell_type": "code",
   "execution_count": 2,
   "metadata": {},
   "outputs": [],
   "source": [
    "mec2 = m_e.to(\"erg\", equivalencies=u.mass_energy())\n",
    "# equivalency to transform frequencies to energies in electron rest mass units\n",
    "epsilon_equivalency = [\n",
    "    (u.Hz, u.Unit(\"\"), lambda x: h.cgs * x / mec2, lambda x: x * mec2 / h.cgs)\n",
    "]"
   ]
  },
  {
   "cell_type": "code",
   "execution_count": 3,
   "metadata": {},
   "outputs": [],
   "source": [
    "# define the blob\n",
    "spectrum_norm = 1e47 * u.erg\n",
    "spectrum_dict = {\"type\": \"PowerLaw\", \"parameters\": {\"p\": 2.8, \"gamma_min\": 10, \"gamma_max\": 1e6}}\n",
    "blob = Blob(\n",
    "    R_b=1e16 * u.cm, \n",
    "    z=0, \n",
    "    delta_D=40, \n",
    "    Gamma=40, \n",
    "    B=0.56 * u.G, \n",
    "    spectrum_norm=spectrum_norm, \n",
    "    spectrum_dict=spectrum_dict\n",
    ")\n",
    "\n",
    "# disk parameters\n",
    "M_BH = 1.2 * 1e9 * M_sun.cgs\n",
    "L_disk = 2 * 1e46 * u.Unit(\"erg s-1\")\n",
    "eta = 1 / 12\n",
    "R_in = 6\n",
    "R_out = 200\n",
    "disk = SSDisk(M_BH, L_disk, eta, R_in, R_out, R_g_units=True)"
   ]
  },
  {
   "cell_type": "code",
   "execution_count": 4,
   "metadata": {},
   "outputs": [
    {
     "name": "stdout",
     "output_type": "stream",
     "text": [
      "* Shakura Sunyaev accretion disk:\n",
      " - M_BH (central black hole mass): 2.39e+42 g\n",
      " - L_disk (disk luminosity): 2.00e+46 erg / s\n",
      " - eta (accretion efficiency): 8.33e-02\n",
      " - dot(m) (mass accretion rate): 2.67e+26 g / s\n",
      " - R_in (disk inner radius): 1.06e+15 cm\n",
      " - R_out (disk inner radius): 3.54e+16 cm\n"
     ]
    }
   ],
   "source": [
    "print(disk)"
   ]
  },
  {
   "cell_type": "code",
   "execution_count": 5,
   "metadata": {},
   "outputs": [],
   "source": [
    "# define energy array\n",
    "E = np.logspace(0, 5) * u.GeV\n",
    "nu = E.to(\"Hz\", equivalencies=u.spectral())\n",
    "epsilon_1 = nu.to(\"\", equivalencies=epsilon_equivalency) * (1 + blob.z)"
   ]
  },
  {
   "cell_type": "code",
   "execution_count": 6,
   "metadata": {},
   "outputs": [
    {
     "name": "stdout",
     "output_type": "stream",
     "text": [
      "62.07849948671599\n"
     ]
    }
   ],
   "source": [
    "# define array of distances \n",
    "r = 1.1e16 * u.cm # distance from BH\n",
    "r_tilde = (r / disk.R_g).to_value(\"\") \n",
    "print(r_tilde)"
   ]
  },
  {
   "cell_type": "code",
   "execution_count": 7,
   "metadata": {},
   "outputs": [
    {
     "name": "stdout",
     "output_type": "stream",
     "text": [
      "[  62.07849949  744.94199384 1427.80548819 2110.66898255 2793.5324769\n",
      " 3476.39597126 4159.25946561 4842.12295996 5524.98645432 6207.84994867]\n"
     ]
    }
   ],
   "source": [
    "l_tilde_values = np.linspace(r_tilde, 100 * r_tilde, 10)\n",
    "print(l_tilde_values)"
   ]
  },
  {
   "cell_type": "code",
   "execution_count": 8,
   "metadata": {},
   "outputs": [],
   "source": [
    "def tau(epsilon):\n",
    "    integrand_l = []\n",
    "    for l_tilde in l_tilde_values:\n",
    "        # array of m\n",
    "        mu = disk.mu_from_r_tilde(l_tilde)\n",
    "        phi = np.linspace(0, 2 * np.pi, 50)\n",
    "        # axis 0 = phi\n",
    "        # axis 1 = mu\n",
    "        _phi = np.reshape(phi, (phi.size, 1))\n",
    "        _mu = np.reshape(mu, (1, mu.size))\n",
    "        # epsilon and phi have the same dimension of mu\n",
    "        _epsilon_disk = disk.epsilon_mu(_mu, l_tilde)\n",
    "        _phi_disk = disk.phi_disk_mu(_mu, l_tilde)\n",
    "        _cos_psi = cos_psi(blob.mu_s, _mu, _phi)\n",
    "        # compute gamma-gamma cross section\n",
    "        s = _epsilon_disk * epsilon * (1 - _cos_psi) / 2\n",
    "        _sigma = sigma(s).to_value(\"cm2\")\n",
    "        _integrand_denom = _epsilon_disk * np.power(l_tilde, 3) * np.power(np.power(_mu, -2) - 1, 3/2) * _mu\n",
    "        _integrand = _phi_disk / _integrand_denom * (1 - _cos_psi) * _sigma\n",
    "        _integral_phi = np.trapz(_integrand, phi, axis=0)\n",
    "        _integral_mu = np.trapz(_integral_phi, mu, axis=0)\n",
    "        integrand_l.append(_integral_mu)\n",
    "    # integrate over l_tilde\n",
    "    integrand_l = np.asarray(integrand_l)\n",
    "    integral_l = np.trapz(integrand_l, l_tilde_values, axis=0)\n",
    "    # prefactor \n",
    "    prefactor_num = 3 * disk.L_disk\n",
    "    prefactor_denom = np.power(4 * np.pi, 2) * m_e * np.power(c, 3) * disk.R_g * disk.eta\n",
    "    return prefactor_num / prefactor_denom * integral_l"
   ]
  },
  {
   "cell_type": "code",
   "execution_count": 9,
   "metadata": {},
   "outputs": [
    {
     "name": "stderr",
     "output_type": "stream",
     "text": [
      "/Users/cosimo/software/miniconda3/lib/python3.7/site-packages/astropy/units/quantity.py:477: RuntimeWarning: invalid value encountered in sqrt\n",
      "  result = super().__array_ufunc__(function, method, *arrays, **kwargs)\n"
     ]
    }
   ],
   "source": [
    "taus = []\n",
    "for epsilon in epsilon_1:\n",
    "    taus.append(tau(epsilon).to_value(\"cm-2\"))"
   ]
  },
  {
   "cell_type": "code",
   "execution_count": 10,
   "metadata": {},
   "outputs": [
    {
     "data": {
      "text/plain": [
       "[<matplotlib.lines.Line2D at 0x7fa136f4c050>]"
      ]
     },
     "execution_count": 10,
     "metadata": {},
     "output_type": "execute_result"
    },
    {
     "data": {
      "image/png": "[encoded data removed]",
      "text/plain": [
       "<Figure size 432x288 with 1 Axes>"
      ]
     },
     "metadata": {
      "needs_background": "light"
     },
     "output_type": "display_data"
    }
   ],
   "source": [
    "plt.loglog(E.to_value(\"GeV\"), taus)"
   ]
  },
  {
   "cell_type": "code",
   "execution_count": null,
   "metadata": {},
   "outputs": [],
   "source": []
  }
 ],
 "metadata": {
  "kernelspec": {
   "display_name": "Python 3",
   "language": "python",
   "name": "python3"
  },
  "language_info": {
   "codemirror_mode": {
    "name": "ipython",
    "version": 3
   },
   "file_extension": ".py",
   "mimetype": "text/x-python",
   "name": "python",
   "nbconvert_exporter": "python",
   "pygments_lexer": "ipython3",
   "version": "3.7.6"
  }
 },
 "nbformat": 4,
 "nbformat_minor": 4
}
