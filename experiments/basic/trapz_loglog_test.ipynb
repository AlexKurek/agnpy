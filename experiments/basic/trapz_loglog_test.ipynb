{
 "cells": [
  {
   "cell_type": "code",
   "execution_count": null,
   "metadata": {},
   "outputs": [],
   "source": [
    "import sys\n",
    "sys.path.append(\"../../\")\n",
    "import warnings\n",
    "import numpy as np\n",
    "import astropy.units as u\n",
    "from astropy.constants import h, e, m_e, c, sigma_T\n",
    "from agnpy.synchrotron import R, epsilon_equivalency\n",
    "from agnpy.compton import compton_kernel\n",
    "from agnpy.emission_regions import Blob\n",
    "from agnpy.targets import PointSourceBehindJet\n",
    "import matplotlib.pyplot as plt\n",
    "\n",
    "e = e.gauss"
   ]
  },
  {
   "cell_type": "markdown",
   "metadata": {},
   "source": [
    "## my implementation of the trapezoidal rule in log-log space"
   ]
  },
  {
   "cell_type": "code",
   "execution_count": null,
   "metadata": {},
   "outputs": [],
   "source": [
    "def log(x):\n",
    "    # smallest positive float (before 0)\n",
    "    float_tiny = np.finfo(np.float64).tiny\n",
    "    # largest positive float\n",
    "    float_max = np.finfo(np.float64).max\n",
    "    values = np.clip(x, float_tiny, float_max)\n",
    "    return np.log(values)"
   ]
  },
  {
   "cell_type": "code",
   "execution_count": null,
   "metadata": {},
   "outputs": [],
   "source": [
    "def trapz_loglog(y, x, axis=0):\n",
    "    \"\"\"\n",
    "    Integrate along the given axis using the composite trapezoidal rule in\n",
    "    loglog space.\n",
    "\n",
    "    Integrate `y` (`x`) along given axis in loglog space.\n",
    "\n",
    "    Parameters\n",
    "    ----------\n",
    "    y : array_like\n",
    "        Input array to integrate.\n",
    "    x : array_like, optional\n",
    "        Independent variable to integrate over.\n",
    "    axis : int, optional\n",
    "        Specify the axis.\n",
    "\n",
    "    Returns\n",
    "    -------\n",
    "    trapz : float\n",
    "        Definite integral as approximated by trapezoidal rule in loglog space.\n",
    "    \"\"\"\n",
    "    try:\n",
    "        y_unit = y.unit\n",
    "        y = y.value\n",
    "    except AttributeError:\n",
    "        y_unit = 1.0\n",
    "    try:\n",
    "        x_unit = x.unit\n",
    "        x = x.value\n",
    "    except AttributeError:\n",
    "        x_unit = 1.0\n",
    "    \n",
    "    slice_low = [slice(None)] * y.ndim\n",
    "    slice_up = [slice(None)] * y.ndim\n",
    "    # multi-dimensional equivalent of x_low = x[:-1]\n",
    "    slice_low[axis] = slice(None, -1)\n",
    "    # multi-dimensional equivalent of x_up = x[1:]\n",
    "    slice_up[axis] = slice(1, None)\n",
    "\n",
    "    slice_low = tuple(slice_low)\n",
    "    slice_up = tuple(slice_up)\n",
    "\n",
    "    # reshape x to be broadcasted with y\n",
    "    if x.ndim == 1:\n",
    "        shape = [1] * y.ndim\n",
    "        shape[axis] = x.shape[0]\n",
    "        x = x.reshape(shape)\n",
    "        \n",
    "    x_low = x[slice_low] \n",
    "    x_up = x[slice_up]\n",
    "    y_low = y[slice_low]\n",
    "    y_up = y[slice_up]\n",
    "    \n",
    "    log_x_low = log(x_low)\n",
    "    log_x_up = log(x_up)\n",
    "    log_y_low = log(y_low)\n",
    "    log_y_up = log(y_up)\n",
    "    \n",
    "    # index in the bin\n",
    "    m = (log_y_low - log_y_up) / (log_x_low - log_x_up)\n",
    "    vals = y_low / (m + 1) * (x_up * (x_up / x_low) ** m - x_low)\n",
    "    \n",
    "    tozero = (y_low == 0.0) + (y_up == 0.0) + (x_low == x_up)\n",
    "    vals[tozero] = 0.0\n",
    "    \n",
    "    \n",
    "    return np.add.reduce(vals, axis) * x_unit * y_unit"
   ]
  },
  {
   "cell_type": "markdown",
   "metadata": {},
   "source": [
    "## a simple test with a straight line in log-log scale"
   ]
  },
  {
   "cell_type": "code",
   "execution_count": null,
   "metadata": {},
   "outputs": [],
   "source": [
    "def line_loglog(x, m, n):\n",
    "    \"\"\"a straight line in loglog-space\"\"\"\n",
    "    return x ** m * np.e ** n\n",
    "\n",
    "\n",
    "def integral_line_loglog(x_min, x_max, m, n):\n",
    "    \"\"\"analytical integral of the line in log-log space\"\"\"\n",
    "    f_low = line_loglog(x_min, m + 1, n) / (m + 1)\n",
    "    f_up = line_loglog(x_max, m + 1, n) / (m + 1)\n",
    "    return f_up - f_low"
   ]
  },
  {
   "cell_type": "code",
   "execution_count": null,
   "metadata": {},
   "outputs": [],
   "source": [
    "m = 1.5\n",
    "n = -2.0\n",
    "x = np.logspace(2, 5)\n",
    "y = line_loglog(x, m, n)\n",
    "y = np.asarray([y, y])"
   ]
  },
  {
   "cell_type": "code",
   "execution_count": null,
   "metadata": {},
   "outputs": [],
   "source": [
    "trapz_loglog(y.T, x, axis=0)"
   ]
  },
  {
   "cell_type": "code",
   "execution_count": null,
   "metadata": {},
   "outputs": [],
   "source": [
    "integral_line_loglog(x[0], x[-1], m, n)"
   ]
  },
  {
   "cell_type": "code",
   "execution_count": null,
   "metadata": {},
   "outputs": [],
   "source": [
    "np.trapz(y.T, x, axis=0)"
   ]
  },
  {
   "cell_type": "code",
   "execution_count": null,
   "metadata": {},
   "outputs": [],
   "source": [
    "1 - trapz_loglog(y.T, x, axis=0) / integral_line_loglog(x[0], x[-1], m, n)"
   ]
  },
  {
   "cell_type": "code",
   "execution_count": null,
   "metadata": {},
   "outputs": [],
   "source": [
    "1 - np.trapz(y.T, x, axis=0) / integral_line_loglog(x[0], x[-1], m, n)"
   ]
  },
  {
   "cell_type": "markdown",
   "metadata": {},
   "source": [
    "## a test with synchrotron radiation"
   ]
  },
  {
   "cell_type": "code",
   "execution_count": null,
   "metadata": {},
   "outputs": [],
   "source": [
    "blob = Blob()\n",
    "nu = np.logspace(9, 20, 20) * u.Hz\n",
    "\n",
    "# check the blob\n",
    "print(blob)"
   ]
  },
  {
   "cell_type": "code",
   "execution_count": null,
   "metadata": {},
   "outputs": [],
   "source": [
    "def sed_synch(nu, integration):\n",
    "    \"\"\"compute the synchrotron SED\"\"\"\n",
    "    epsilon = nu.to(\"\", equivalencies=epsilon_equivalency)\n",
    "    # correct epsilon to the jet comoving frame\n",
    "    epsilon_prime = (1 + blob.z) * epsilon / blob.delta_D\n",
    "    # electrond distribution lorentz factor\n",
    "    gamma = blob.gamma\n",
    "    N_e = blob.N_e(gamma)\n",
    "    prefactor = np.sqrt(3) * epsilon * np.power(e, 3) * blob.B_cgs / h\n",
    "    # for multidimensional integration\n",
    "    # axis 0: electrons gamma\n",
    "    # axis 1: photons epsilon\n",
    "    # arrays starting with _ are multidimensional and used for integration\n",
    "    _gamma = np.reshape(gamma, (gamma.size, 1))\n",
    "    _N_e = np.reshape(N_e, (N_e.size, 1))\n",
    "    _epsilon = np.reshape(epsilon, (1, epsilon.size))\n",
    "    x_num = 4 * np.pi * _epsilon * np.power(m_e, 2) * np.power(c, 3)\n",
    "    x_denom = 3 * e * blob.B_cgs * h * np.power(_gamma, 2)\n",
    "    x = (x_num / x_denom).to_value(\"\")\n",
    "    integrand = _N_e * R(x)\n",
    "    integral = integration(integrand, gamma, axis=0)\n",
    "    emissivity = (prefactor * integral).to(\"erg s-1\")\n",
    "    sed_conversion = np.power(blob.delta_D, 4) / (\n",
    "        4 * np.pi * np.power(blob.d_L, 2)\n",
    "    )\n",
    "    return (sed_conversion * emissivity).to(\"erg cm-2 s-1\")"
   ]
  },
  {
   "cell_type": "code",
   "execution_count": null,
   "metadata": {},
   "outputs": [],
   "source": [
    "%%timeit\n",
    "sed_synch(nu, np.trapz)"
   ]
  },
  {
   "cell_type": "code",
   "execution_count": null,
   "metadata": {},
   "outputs": [],
   "source": [
    "%%timeit\n",
    "sed_synch(nu, trapz_loglog)"
   ]
  },
  {
   "cell_type": "code",
   "execution_count": null,
   "metadata": {},
   "outputs": [],
   "source": [
    "sed_trapz = sed_synch(nu, np.trapz)\n",
    "sed_trapz_loglog = sed_synch(nu, trapz_loglog)\n",
    "plt.loglog(nu, sed_trapz, marker=\"o\")\n",
    "plt.loglog(nu, sed_trapz_loglog, ls=\"--\", marker=\".\")\n",
    "plt.show()"
   ]
  },
  {
   "cell_type": "markdown",
   "metadata": {},
   "source": [
    "## a test with inverse Compton radiation"
   ]
  },
  {
   "cell_type": "code",
   "execution_count": null,
   "metadata": {},
   "outputs": [],
   "source": [
    "def sed_flux_point_source(nu, target, r, integrate):\n",
    "    \"\"\"SED flux for EC on a point like source behind the jet\n",
    "\n",
    "    Parameters\n",
    "    ----------\n",
    "    nu : `~astropy.units.Quantity`\n",
    "        array of frequencies, in Hz, to compute the sed, **note** these are \n",
    "        observed frequencies (observer frame).\n",
    "    \"\"\"\n",
    "    # define the dimensionless energy\n",
    "    epsilon_s = nu.to(\"\", equivalencies=epsilon_equivalency)\n",
    "    # transform to BH frame\n",
    "    epsilon_s *= 1 + blob.z\n",
    "    # for multidimensional integration\n",
    "    # axis 0: gamma\n",
    "    # axis 1: epsilon_s\n",
    "    # arrays starting with _ are multidimensional and used for integration\n",
    "    gamma = blob.gamma_to_integrate\n",
    "    transformed_N_e = blob.N_e(gamma / blob.delta_D).value\n",
    "    _gamma = np.reshape(gamma, (gamma.size, 1))\n",
    "    _N_e = np.reshape(transformed_N_e, (transformed_N_e.size, 1))\n",
    "    _epsilon_s = np.reshape(epsilon_s, (1, epsilon_s.size))\n",
    "    # define integrating function\n",
    "    # notice once the value of mu = 1, phi can assume any value, we put 0\n",
    "    # convenience\n",
    "    _kernel = compton_kernel(\n",
    "        _gamma, _epsilon_s, target.epsilon_0, blob.mu_s, 1, 0\n",
    "    )\n",
    "    _integrand = np.power(_gamma, -2) * _N_e * _kernel\n",
    "    integral_gamma = integrate(_integrand, gamma, axis=0)\n",
    "    prefactor_num = (\n",
    "        3\n",
    "        * sigma_T\n",
    "        * target.L_0\n",
    "        * np.power(epsilon_s, 2)\n",
    "        * np.power(blob.delta_D, 3)\n",
    "    )\n",
    "    prefactor_denom = (\n",
    "        np.power(2, 7)\n",
    "        * np.power(np.pi, 2)\n",
    "        * np.power(blob.d_L, 2)\n",
    "        * np.power(r, 2)\n",
    "        * np.power(target.epsilon_0, 2)\n",
    "    )\n",
    "    sed = prefactor_num / prefactor_denom * integral_gamma\n",
    "    return sed.to(\"erg cm-2 s-1\")"
   ]
  },
  {
   "cell_type": "code",
   "execution_count": null,
   "metadata": {},
   "outputs": [],
   "source": [
    "# target and distance\n",
    "r = 1e16 * u.cm \n",
    "L_0 = 2e46 * u.Unit(\"erg s-1\")\n",
    "epsilon_0 = 1e-3\n",
    "ps = PointSourceBehindJet(L_0, epsilon_0)\n",
    "\n",
    "nu = np.logspace(20, 30) * u.Hz\n",
    "\n",
    "# increase the size of the gamma grid\n",
    "blob.set_gamma_size(1000)"
   ]
  },
  {
   "cell_type": "code",
   "execution_count": null,
   "metadata": {},
   "outputs": [],
   "source": [
    "%%timeit\n",
    "sed_flux_point_source(nu, ps, r, np.trapz)"
   ]
  },
  {
   "cell_type": "code",
   "execution_count": null,
   "metadata": {},
   "outputs": [],
   "source": [
    "%%timeit\n",
    "sed_flux_point_source(nu, ps, r, trapz_loglog)"
   ]
  },
  {
   "cell_type": "code",
   "execution_count": null,
   "metadata": {},
   "outputs": [],
   "source": [
    "sed_trapz = sed_flux_point_source(nu, ps, r, np.trapz)\n",
    "sed_trapz_loglog = sed_flux_point_source(nu, ps, r, trapz_loglog)\n",
    "plt.loglog(nu, sed_trapz, marker=\"o\")\n",
    "plt.loglog(nu, sed_trapz_loglog, ls=\"--\", marker=\".\")\n",
    "plt.show()"
   ]
  },
  {
   "cell_type": "code",
   "execution_count": null,
   "metadata": {},
   "outputs": [],
   "source": [
    "sed_trapz_loglog"
   ]
  }
 ],
 "metadata": {
  "kernelspec": {
   "display_name": "Python 3",
   "language": "python",
   "name": "python3"
  },
  "language_info": {
   "codemirror_mode": {
    "name": "ipython",
    "version": 3
   },
   "file_extension": ".py",
   "mimetype": "text/x-python",
   "name": "python",
   "nbconvert_exporter": "python",
   "pygments_lexer": "ipython3",
   "version": "3.7.7"
  }
 },
 "nbformat": 4,
 "nbformat_minor": 4
}
