{
 "cells": [
  {
   "cell_type": "markdown",
   "metadata": {},
   "source": [
    "## Simple EC tests\n",
    "The purpose here is to use the EC class of agnpy to calculate simple case which can be compared with back of the envelope calculations"
   ]
  },
  {
   "cell_type": "code",
   "execution_count": 1,
   "metadata": {},
   "outputs": [],
   "source": [
    "# load all the necessary libraries\n",
    "import numpy as np\n",
    "import astropy.units as u\n",
    "import astropy.constants as const\n",
    "from astropy.coordinates import Distance\n",
    "import matplotlib.pyplot as plt\n",
    "import copy\n",
    "import sys\n",
    "sys.path.append(\"../../\")\n",
    "# import agnpy classes\n",
    "from agnpy.emission_regions import Blob\n",
    "from agnpy.compton import ExternalCompton\n",
    "from agnpy.targets import SSDisk, SphericalShellBLR, RingDustTorus"
   ]
  },
  {
   "cell_type": "code",
   "execution_count": 2,
   "metadata": {},
   "outputs": [
    {
     "data": {
      "text/plain": [
       "'/home/jsitarek/anaconda3/envs/agnpy/lib/python3.7/site-packages/agnpy/__init__.py'"
      ]
     },
     "execution_count": 2,
     "metadata": {},
     "output_type": "execute_result"
    }
   ],
   "source": [
    "import agnpy\n",
    "agnpy.__file__"
   ]
  },
  {
   "cell_type": "code",
   "execution_count": 3,
   "metadata": {},
   "outputs": [],
   "source": [
    "# matplotlib adjustments and axes labels\n",
    "plt.rc(\"figure\", figsize=(7.5, 5.5))\n",
    "plt.rc(\"font\", size=12)\n",
    "plt.rc(\"axes\", grid=True)\n",
    "plt.rc(\"grid\", ls=\":\")\n",
    "sed_x_label = r\"$\\nu\\,/\\,Hz$\"\n",
    "sed_y_label = r\"$\\nu F_{\\nu}\\,/\\,(\\mathrm{erg}\\,\\mathrm{cm}^{-2}\\,\\mathrm{s}^{-1})$\""
   ]
  },
  {
   "cell_type": "markdown",
   "metadata": {},
   "source": [
    "### test 1\n",
    "check consistency of EC on BLR with EC on DT"
   ]
  },
  {
   "cell_type": "code",
   "execution_count": 4,
   "metadata": {},
   "outputs": [
    {
     "name": "stdout",
     "output_type": "stream",
     "text": [
      "* spherical emission region\n",
      " - R_b (radius of the blob): 1.00e+16 cm\n",
      " - V_b (volume of the blob): 4.19e+48 cm3\n",
      " - z (source redshift): 0.01\n",
      " - d_L (source luminosity distance):1.38e+26 cm\n",
      " - delta_D (blob Doppler factor): 2.00e+01\n",
      " - Gamma (blob Lorentz factor): 1.70e+01\n",
      " - Beta (blob relativistic velocity): 9.98e-01\n",
      " - theta_s (jet viewing angle): 2.82e+00 deg\n",
      " - B (magnetic field tangled to the jet): 1.00e+00 G\n",
      " - xi (coefficient for 1st order Fermi acceleration) : 1.00e+00\n",
      "* electron spectrum\n",
      " - broken power law\n",
      " - k_e: 4.18e+00 1 / cm3\n",
      " - p1: 2.00\n",
      " - p2: 3.90\n",
      " - gamma_b: 3.00e+02\n",
      " - gamma_min: 2.50e+00\n",
      " - gamma_max: 3.00e+04\n",
      "\n"
     ]
    }
   ],
   "source": [
    "# blob1 with some reasonable parameters\n",
    "norm1 = 1.5e5 * u.Unit(\"cm-3\")\n",
    "parameters1 = {\n",
    "    \"p1\": 2.0,\n",
    "    \"p2\": 3.9,\n",
    "    \"gamma_b\": 300.,\n",
    "    \"gamma_min\": 2.5,\n",
    "    \"gamma_max\": 3.e4,\n",
    "}\n",
    "spectrum_dict = {\"type\": \"BrokenPowerLaw\", \"parameters\": parameters1}\n",
    "R_b = 1.e16 * u.cm\n",
    "B = 1. * u.G\n",
    "z = 0.01\n",
    "delta_D = 20\n",
    "Gamma = 17\n",
    "blob1 = Blob(R_b, z, delta_D, Gamma, B, norm1, spectrum_dict)\n",
    "blob1.set_gamma_size(500)\n",
    "#print(f\"total number {blob_in.N_e_tot:.2e}\")\n",
    "#print(f\"total energy {blob_in.W_e:.2e}\")\n",
    "print(blob1)"
   ]
  },
  {
   "cell_type": "code",
   "execution_count": 5,
   "metadata": {},
   "outputs": [],
   "source": [
    "### EC starts here, first the disk luminosity, \n",
    "L_disk = 1 * 1e45 * u.Unit(\"erg s-1\")\n",
    "\n",
    "# define radiation field\n",
    "dist_in=0.2e17 * u.cm # location of the emission region\n",
    "dist_rad = 1e18 * u.cm # location of the radiation field (>> dist_in)\n",
    "xi = 0.5\n",
    "\n",
    "#now make a BLR \n",
    "#blr = SphericalShellBLR(disk, xi, epsilon_dt, dist_rad)\n",
    "blr = SphericalShellBLR(L_disk, xi, \"Lyalpha\", dist_rad)"
   ]
  },
  {
   "cell_type": "code",
   "execution_count": 6,
   "metadata": {},
   "outputs": [
    {
     "name": "stdout",
     "output_type": "stream",
     "text": [
      "1.9958625603026246e-05\n",
      "43834.29096724084 K\n"
     ]
    }
   ],
   "source": [
    "epsil=blr.epsilon_line # line energy in in m_e c^2 \n",
    "print(epsil)\n",
    "\n",
    "# here define the DT\n",
    "#T_dt = 1e3 * u.K\n",
    "T_dt=(epsil/(2.7 * const.k_B) *  (const.m_e * const.c * const.c)).to(\"K\")\n",
    "print(T_dt)\n",
    "# peak of the BB emission \n",
    "#epsilon_dt = 2.7 * ((const.k_B * T_dt) / (const.m_e * const.c * const.c)).decompose()\n",
    "dt = RingDustTorus(L_disk, xi, T_dt, R_dt=dist_rad)\n",
    "\n",
    "# DT will give nearly the same (except of angles) radiation field as BLR"
   ]
  },
  {
   "cell_type": "code",
   "execution_count": 7,
   "metadata": {},
   "outputs": [],
   "source": [
    "# define the array of frequencies over which to calculate the SED \n",
    "nu1 = np.logspace(15, 30) * u.Hz\n",
    "ec_blr1 = ExternalCompton(blob1, blr, r=dist_in)\n",
    "ec_dt1 = ExternalCompton(blob1, dt, dist_in)\n",
    "# compute the SEDs\n",
    "ec_dt1_sed = ec_dt1.sed_flux(nu1)\n",
    "ec_blr1_sed = ec_blr1.sed_flux(nu1)"
   ]
  },
  {
   "cell_type": "code",
   "execution_count": 10,
   "metadata": {},
   "outputs": [
    {
     "name": "stdout",
     "output_type": "stream",
     "text": [
      "7.41355501623236e+25 Hz\n",
      "DT u_ph = 0.0013266786932417394 erg / cm3 , BLR u_ph =  [0.00132739] erg / cm3 , ratio =  [0.99946642]\n"
     ]
    },
    {
     "data": {
      "image/png": "[encoded data removed]",
      "text/plain": [
       "<Figure size 540x396 with 1 Axes>"
      ]
     },
     "metadata": {
      "needs_background": "light"
     },
     "output_type": "display_data"
    }
   ],
   "source": [
    "# maximum electron energies:\n",
    "print((parameters1['gamma_max']*delta_D*511.e3*u.eV/const.h).to(\"Hz\"))\n",
    "\n",
    "\n",
    "dt_u_ph=dt.u(dist_in)\n",
    "blr_u_ph=blr.u(dist_in)\n",
    "\n",
    "print(\"DT u_ph =\", dt_u_ph, \", BLR u_ph = \", blr_u_ph, \", ratio = \", dt_u_ph/blr_u_ph)\n",
    "\n",
    "plt.loglog(nu1, ec_blr1_sed, lw=2, ls='-', color=\"k\", label=\"BLR\")\n",
    "plt.loglog(nu1, ec_dt1_sed, lw=2, ls='-', color=\"r\", label=\"DT\")\n",
    "\n",
    "plt.ylim(1e-12, 3e-6)\n",
    "plt.xlim(1e14, 1e26)\n",
    "plt.xlabel(sed_x_label)\n",
    "plt.ylabel(sed_y_label)\n",
    "plt.legend(ncol=2)\n",
    "plt.show()\n",
    "# both curves are similar BLR is a bit broader probably because of the broader range of angles of the radiation\n",
    "# radiation density also matches "
   ]
  },
  {
   "cell_type": "markdown",
   "metadata": {},
   "source": [
    "### test 2\n",
    "check level of EC emission in the Thomson regime for a simple slow blob case (no beaming), comparing with back-of-the-envelope calculations."
   ]
  },
  {
   "cell_type": "code",
   "execution_count": 11,
   "metadata": {},
   "outputs": [
    {
     "name": "stdout",
     "output_type": "stream",
     "text": [
      "total number 4.20e+53\n",
      "* spherical emission region\n",
      " - R_b (radius of the blob): 1.00e+16 cm\n",
      " - V_b (volume of the blob): 4.19e+48 cm3\n",
      " - z (source redshift): 0.01\n",
      " - d_L (source luminosity distance):1.38e+26 cm\n",
      " - delta_D (blob Doppler factor): 1.02e+00\n",
      " - Gamma (blob Lorentz factor): 1.01e+00\n",
      " - Beta (blob relativistic velocity): 1.40e-01\n",
      " - theta_s (jet viewing angle): 7.79e+01 deg\n",
      " - B (magnetic field tangled to the jet): 1.00e+00 G\n",
      " - xi (coefficient for 1st order Fermi acceleration) : 1.00e+00\n",
      "* electron spectrum\n",
      " - power law\n",
      " - k_e: 4.96e+07 1 / cm3\n",
      " - p: 2.00\n",
      " - gamma_min: 9.00e+01\n",
      " - gamma_max: 1.10e+02\n",
      "\n"
     ]
    }
   ],
   "source": [
    "# blob2 with mono-energetic electrons\n",
    "norm2 = 1.e5 * u.Unit(\"cm-3\")\n",
    "parameters2 = {\n",
    "    \"p\": 2.0,\n",
    "    \"gamma_min\": 90.,\n",
    "    \"gamma_max\": 110.,\n",
    "}\n",
    "spectrum_dict = {\"type\": \"PowerLaw\", \"parameters\": parameters2}\n",
    "R_b = 1.e16 * u.cm\n",
    "B = 1. * u.G\n",
    "z = 0.01\n",
    "delta_D = 1.02\n",
    "Gamma = 1.01\n",
    "blob2 = Blob(R_b, z, delta_D, Gamma, B, norm2, spectrum_dict)\n",
    "blob2.set_gamma_size(500)\n",
    "print(f\"total number {blob2.N_e_tot:.2e}\")\n",
    "#print(f\"total energy {blob2.W_e:.2e}\")\n",
    "print(blob2)"
   ]
  },
  {
   "cell_type": "code",
   "execution_count": 12,
   "metadata": {},
   "outputs": [],
   "source": [
    "dist_in=0.2e17 * u.cm # location of the emission region\n",
    "dist_rad = 1e18 * u.cm # location of the radiation field (>> dist_in)\n",
    "\n",
    "# we only consider DT here (the calculation are simpler and faster)\n",
    "T_dt = 1e3 * u.K\n",
    "# peak of the BB emission \n",
    "xi = 0.5\n",
    "dt2 = RingDustTorus(L_disk, xi, T_dt, R_dt=dist_rad)"
   ]
  },
  {
   "cell_type": "code",
   "execution_count": 13,
   "metadata": {},
   "outputs": [],
   "source": [
    "nu2 = np.logspace(15, 25,200) * u.Hz\n",
    "ec_dt2 = ExternalCompton(blob2, dt2, dist_in)\n",
    "ec_dt2_sed = ec_dt2.sed_flux(nu2)"
   ]
  },
  {
   "cell_type": "code",
   "execution_count": 14,
   "metadata": {},
   "outputs": [],
   "source": [
    "# very simple trapesoid integration of SED to get absolute flux\n",
    "def integrate_flux(nu, sed):\n",
    "    flux=0\n",
    "    dnu=nu[1:]-nu[:-1] # difference to next one\n",
    "    dNdE=sed/(nu*nu*const.h)\n",
    "    dN = 0.5*(dNdE[:-1]+dNdE[1:]) * dnu\n",
    "    return np.sum(dN.to(\"cm-2 s-1\"))"
   ]
  },
  {
   "cell_type": "code",
   "execution_count": 15,
   "metadata": {},
   "outputs": [
    {
     "name": "stdout",
     "output_type": "stream",
     "text": [
      "Ee= 50843753.562085725 eV Eg= 2303.4131809714063 eV\n",
      "Eg/Ee= 4.53037594511721e-05\n"
     ]
    }
   ],
   "source": [
    "# now calculate the emission by hand. we have soft photons with energy epsilon_dt, and no beaming \n",
    "epsilon2 = 2.7 * ((const.k_B * T_dt) / (const.m_e * const.c * const.c)).decompose()\n",
    "\n",
    "mec2=(const.m_e*const.c**2).to(\"eV\") \n",
    "gamma=np.sqrt(parameters2['gamma_max'] * parameters2['gamma_min'])\n",
    "Ee=gamma * mec2 # electron energy\n",
    "Eg=epsilon2*mec2*gamma**2 # photons coming from the side and no beaming, so just gamma^2 times epsilon\n",
    "# check Blumenthal & Gould 1970, eq 2.8 and 2.6\n",
    "print(\"Ee=\",Ee, \"Eg=\",Eg)\n",
    "print(\"Eg/Ee=\", Eg/Ee)\n",
    "# we are far in the Thomson region\n",
    "#(parameters1['gamma_max']*delta_D*511.e3*u.eV/const.h).to(\"Hz\")"
   ]
  },
  {
   "cell_type": "code",
   "execution_count": 16,
   "metadata": {},
   "outputs": [
    {
     "data": {
      "image/png": "[encoded data removed]",
      "text/plain": [
       "<Figure size 540x396 with 1 Axes>"
      ]
     },
     "metadata": {
      "needs_background": "light"
     },
     "output_type": "display_data"
    }
   ],
   "source": [
    "plt.loglog(nu2, ec_dt2_sed, lw=2, ls='-', marker='o', color=\"r\", label=\"DT\")\n",
    "\n",
    "#plt.ylim(1e-13, 1e-2)\n",
    "nug2=(Eg/const.h).to(\"Hz\")\n",
    "plt.xlim(nug2.value/100, nug2.value*100)\n",
    "plt.xlabel(sed_x_label)\n",
    "plt.ylabel(sed_y_label)\n",
    "plt.legend(ncol=2)\n",
    "plt.show()"
   ]
  },
  {
   "cell_type": "code",
   "execution_count": 17,
   "metadata": {},
   "outputs": [
    {
     "name": "stdout",
     "output_type": "stream",
     "text": [
      "maximum of 7.492648086626283e-13 erg / (cm2 s) at [1.84642494e+18] Hz\n",
      "Expected peak at:  5.5696282916654605e+17 Hz\n",
      "peak position obtained / expected:  [3.31516727]\n"
     ]
    }
   ],
   "source": [
    "# get the maximum of obtained SED\n",
    "sedmax_obt=np.amax(ec_dt2_sed)\n",
    "numax_obt=nu2[np.where(ec_dt2_sed==sedmax_obt)]\n",
    "print(\"maximum of\",sedmax_obt, \"at\",numax_obt)\n",
    "\n",
    "numax_exp=(Eg/const.h).to(\"Hz\")\n",
    "print(\"Expected peak at: \",numax_exp)\n",
    "\n",
    "print(\"peak position obtained / expected: \", numax_obt/numax_exp)\n",
    "\n",
    "# the computed peak is at factor 3.3 higher value, \n",
    "# probably partially because it assumes that the photons are coming head-head \n",
    "# (which will be the case when there is some actual beaming), but this gives a factor 2, \n",
    "# remaining factor of 1.6 from some other simplifications ?? "
   ]
  },
  {
   "cell_type": "code",
   "execution_count": 19,
   "metadata": {
    "scrolled": true
   },
   "outputs": [
    {
     "name": "stdout",
     "output_type": "stream",
     "text": [
      "observed flux of photons =  0.00012450556167777345 1 / (cm2 s)\n",
      "Nsoft = 3560347517.5081673 1 / cm3 Nsoft from dt.u_ph= 3558923947.9289956 1 / cm3\n",
      "Nsoft obtained / Nsoft expected =  0.9996001599360256\n",
      "flux expected =  0.0001249142806841723 1 / (cm2 s)\n",
      "flux obtained / expected:  0.9967280041628528\n"
     ]
    }
   ],
   "source": [
    "# now check the absolute level of flux from the (number) flux of photons from the obtained SED, \n",
    "# rough estimation dividing SED by peak energy \n",
    "#flux_obt = (sedmax_obt/ (numax_obt*const.h)).to(\"cm-2 s-1\")\n",
    "# a proper integral\n",
    "flux_obt=integrate_flux(nu2, ec_dt2_sed)\n",
    "print(\"observed flux of photons = \",flux_obt)\n",
    "\n",
    "# first calculate the number density of soft photons in blob\n",
    "# L_d *xi /epsilon of photons is sent per unit of time, \n",
    "# now just divide it by 4pi dist^2 to get the flux \n",
    "# and by c to convert to number density \n",
    "nsoft=L_disk*dt2.xi_dt/(dt2.epsilon_dt*mec2.to(\"erg\")) / (4*np.pi*dt2.R_dt**2*const.c.to(\"cm s-1\"))\n",
    "\n",
    "# compute the same using a function in the class:\n",
    "nsoft_class = dt.u(dist_in)/(dt2.epsilon_dt*mec2.to(\"erg\"))\n",
    "print(\"Nsoft =\",nsoft, \"Nsoft from dt.u_ph=\", nsoft_class)\n",
    "print(\"Nsoft obtained / Nsoft expected = \",nsoft_class/nsoft)\n",
    "\n",
    "# each electron produces sigma_T*nsoft*c photons per second (no angular dependence since photons coming from the side)\n",
    "# then we need to multiply it by number of electrons in the blob\n",
    "# and divide it by 4 pi d_L^2\n",
    "\n",
    "flux_exp=const.sigma_T.to(\"cm2\")*nsoft*const.c.to(\"cm s-1\") * blob2.N_e_tot / (4*np.pi*blob2.d_L**2)\n",
    "print(\"flux expected = \",flux_exp)\n",
    "\n",
    "print(\"flux obtained / expected: \", flux_obt/flux_exp)\n",
    "# difference of a factor 2, and it should be independent of the previous difference of the peak position\n",
    "# it comes already in the density of the soft photons"
   ]
  },
  {
   "cell_type": "markdown",
   "metadata": {},
   "source": [
    "### test 3\n",
    "like test 2, but deep in Klein-Nishina regime, still no beaming!"
   ]
  },
  {
   "cell_type": "code",
   "execution_count": 20,
   "metadata": {},
   "outputs": [
    {
     "name": "stdout",
     "output_type": "stream",
     "text": [
      "* spherical emission region\n",
      " - R_b (radius of the blob): 1.00e+16 cm\n",
      " - V_b (volume of the blob): 4.19e+48 cm3\n",
      " - z (source redshift): 0.01\n",
      " - d_L (source luminosity distance):1.38e+26 cm\n",
      " - delta_D (blob Doppler factor): 1.02e+00\n",
      " - Gamma (blob Lorentz factor): 1.01e+00\n",
      " - Beta (blob relativistic velocity): 1.40e-01\n",
      " - theta_s (jet viewing angle): 7.79e+01 deg\n",
      " - B (magnetic field tangled to the jet): 1.00e+00 G\n",
      " - xi (coefficient for 1st order Fermi acceleration) : 1.00e+00\n",
      "* electron spectrum\n",
      " - power law\n",
      " - k_e: 4.96e+11 1 / cm3\n",
      " - p: 2.00\n",
      " - gamma_min: 9.00e+05\n",
      " - gamma_max: 1.10e+06\n",
      "\n"
     ]
    }
   ],
   "source": [
    "# blob3 with mono-energetic electrons\n",
    "norm3 = 1.e5 * u.Unit(\"cm-3\")\n",
    "parameters3 = {\n",
    "    \"p\": 2.0,\n",
    "    \"gamma_min\": 0.9e6,\n",
    "    \"gamma_max\": 1.1e6,\n",
    "}\n",
    "spectrum_dict = {\"type\": \"PowerLaw\", \"parameters\": parameters3}\n",
    "R_b = 1.e16 * u.cm\n",
    "B = 1. * u.G\n",
    "z = 0.01\n",
    "delta_D = 1.02\n",
    "Gamma = 1.01\n",
    "blob3 = Blob(R_b, z, delta_D, Gamma, B, norm3, spectrum_dict)\n",
    "blob3.set_gamma_size(500)\n",
    "print(blob3)"
   ]
  },
  {
   "cell_type": "code",
   "execution_count": 21,
   "metadata": {},
   "outputs": [],
   "source": [
    "# reuse the same disk \n",
    "dist_in=0.2e17 * u.cm # location of the emission region\n",
    "dist_rad = 1e18 * u.cm # location of the radiation field (>> dist_in)\n",
    "\n",
    "# 100 times larger temperature for the test\n",
    "T_dt = 1e3 * u.K * 100\n",
    "# peak of the BB emission \n",
    "epsilon3 = 2.7 * ((const.k_B * T_dt) / (const.m_e * const.c * const.c)).decompose()\n",
    "xi = 0.5\n",
    "dt3 = RingDustTorus(L_disk, xi, T_dt, R_dt=dist_rad)"
   ]
  },
  {
   "cell_type": "code",
   "execution_count": 22,
   "metadata": {},
   "outputs": [],
   "source": [
    "nu3 = np.logspace(20, 30,200) * u.Hz\n",
    "ec_dt3 = ExternalCompton(blob3, dt3, dist_in)\n",
    "ec_dt3_sed = ec_dt3.sed_flux(nu3)"
   ]
  },
  {
   "cell_type": "code",
   "execution_count": 23,
   "metadata": {},
   "outputs": [
    {
     "name": "stdout",
     "output_type": "stream",
     "text": [
      "Ee= 508437535620.85724 eV Eg= 23034131809714.066 eV\n",
      "Eg/Ee= 45.303759451172105\n",
      "1.2293964914034002e+26 Hz\n"
     ]
    }
   ],
   "source": [
    "# now calculate the emission by hand. we have soft photons with energy epsilon_dt, and no beaming  \n",
    "gamma=np.sqrt(parameters3['gamma_max'] * parameters3['gamma_min'])\n",
    "Ee=gamma * mec2 # electron energy\n",
    "Eg=epsilon3*mec2*gamma**2 # photons coming from the side and no beaming, so just gamma^2 times epsilon\n",
    "print(\"Ee=\",Ee, \"Eg=\",Eg)\n",
    "print(\"Eg/Ee=\", Eg/Ee)\n",
    "# we are far in the K-N region, so in fact Eg~Ee now\n",
    "nug3=(gamma*mec2/const.h).to(\"Hz\")\n",
    "print(nug3)"
   ]
  },
  {
   "cell_type": "code",
   "execution_count": 24,
   "metadata": {},
   "outputs": [
    {
     "data": {
      "image/png": "[encoded data removed]",
      "text/plain": [
       "<Figure size 540x396 with 1 Axes>"
      ]
     },
     "metadata": {
      "needs_background": "light"
     },
     "output_type": "display_data"
    }
   ],
   "source": [
    "plt.loglog(nu3, ec_dt3_sed, lw=2, ls='-', marker='o', color=\"r\", label=\"DT\")\n",
    "\n",
    "#plt.ylim(1e-13, 1e-2)\n",
    "plt.xlim(nug3.value/100, nug3.value*100)\n",
    "plt.xlabel(sed_x_label)\n",
    "plt.ylabel(sed_y_label)\n",
    "plt.legend(ncol=2)\n",
    "plt.show()"
   ]
  },
  {
   "cell_type": "code",
   "execution_count": 25,
   "metadata": {},
   "outputs": [
    {
     "name": "stdout",
     "output_type": "stream",
     "text": [
      "maximum of 8.230011837483587e-08 erg / (cm2 s) at [1.20337784e+26] Hz\n",
      "Expected peak at:  1.2293964914034002e+26 Hz\n",
      "peak position obtained / expected:  [0.97883624]\n"
     ]
    }
   ],
   "source": [
    "# get the maximum of obtained SED\n",
    "sedmax_obt=np.amax(ec_dt3_sed)\n",
    "numax_obt=nu3[np.where(ec_dt3_sed==sedmax_obt)]\n",
    "print(\"maximum of\",sedmax_obt, \"at\",numax_obt)\n",
    "\n",
    "print(\"Expected peak at: \",nug3)\n",
    "\n",
    "print(\"peak position obtained / expected: \", numax_obt/nug3)\n",
    "\n",
    "# this agrees nicely, in KN you are limitted by the energy of electrons"
   ]
  },
  {
   "cell_type": "code",
   "execution_count": 26,
   "metadata": {
    "scrolled": true
   },
   "outputs": [
    {
     "name": "stdout",
     "output_type": "stream",
     "text": [
      "observed flux of photons =  4.280288179953388e-08 1 / (cm2 s)\n",
      "Nsoft = 35603475.17508168 1 / cm3 , Nsoft from dt.u_ph= 35589239.47928996 1 / cm3 , predicted to simulated= 1.0004000000000002\n",
      "Scattered photon energy in m_e units in electron frame: 45.303759451172105\n",
      "0.04057537761110685\n",
      "flux expected =  5.066891675379446e-08 1 / (cm2 s)\n",
      "flux obtained / expected:  0.8447562044303718\n"
     ]
    }
   ],
   "source": [
    "# now check the absolute level of flux from the (number) flux of photons from the obtained SED, \n",
    "# rough estimation dividing SED by peak energy \n",
    "#flux_obt = (sedmax_obt/ (numax_obt*const.h)).to(\"cm-2 s-1\")\n",
    "# a proper integral\n",
    "flux_obt=integrate_flux(nu3, ec_dt3_sed)\n",
    "print(\"observed flux of photons = \",flux_obt)\n",
    "\n",
    "# first calculate the number density of soft photons in blob\n",
    "# L_d *xi /epsilon of photons is sent per unit of time, \n",
    "# now just divide it by 4pi dist^2 to get the flux \n",
    "# and by c to convert to number density \n",
    "nsoft=L_disk*dt3.xi_dt/(dt3.epsilon_dt*mec2.to(\"erg\")) / (4*np.pi*dt3.R_dt**2*const.c.to(\"cm s-1\"))\n",
    "\n",
    "# same using the class \n",
    "nsoft_class = dt3.u(dist_in)/(dt3.epsilon_dt*mec2.to(\"erg\"))\n",
    "print(\"Nsoft =\",nsoft, \", Nsoft from dt.u_ph=\", nsoft_class, \", predicted to simulated=\",nsoft/nsoft_class)\n",
    "\n",
    "\n",
    "#\n",
    "w=gamma*epsilon3 \n",
    "print(\"Scattered photon energy in m_e units in electron frame:\",w)\n",
    "# correction for KN effect\n",
    "KN = 0.75 * ((1+w)*(2*w*(1+w)/(1+2*w)-np.log(1+2*w))/np.power(w,3) + np.log(1+2*w)/(2*w) - (1+3*w)/np.power(1+2*w,2));\n",
    "print(KN)\n",
    "# calculated the same way as in Test 2, but with additional correction for KN effect\n",
    "flux_exp=KN*const.sigma_T.to(\"cm2\")*nsoft*const.c.to(\"cm s-1\") * blob3.N_e_tot / (4*np.pi*blob3.d_L**2)\n",
    "print(\"flux expected = \",flux_exp)\n",
    "\n",
    "print(\"flux obtained / expected: \", flux_obt/flux_exp)"
   ]
  },
  {
   "cell_type": "markdown",
   "metadata": {},
   "source": [
    "## test 4\n",
    "like test 2(EC in Thomson range on DT photons), but with beaming "
   ]
  },
  {
   "cell_type": "code",
   "execution_count": 27,
   "metadata": {},
   "outputs": [
    {
     "name": "stdout",
     "output_type": "stream",
     "text": [
      "15.984557382940189\n"
     ]
    }
   ],
   "source": [
    "# make a copy of blob2, but set a higher beaming\n",
    "blob4=copy.deepcopy(blob2)\n",
    "blob4.set_delta_D(10,0.05*u.rad)\n",
    "delta4=blob4.delta_D\n",
    "print(delta4)\n",
    "\n",
    "\n",
    "ec_dt4 = ExternalCompton(blob4, dt2, dist_in)\n",
    "ec_dt4_sed = ec_dt4.sed_flux(nu2)"
   ]
  },
  {
   "cell_type": "code",
   "execution_count": 28,
   "metadata": {},
   "outputs": [
    {
     "data": {
      "image/png": "[encoded data removed]",
      "text/plain": [
       "<Figure size 540x396 with 1 Axes>"
      ]
     },
     "metadata": {
      "needs_background": "light"
     },
     "output_type": "display_data"
    }
   ],
   "source": [
    "plt.loglog(nu2, ec_dt2_sed, lw=2, ls='-', marker='o', color=\"r\", label=\"DT no beaming\")\n",
    "plt.loglog(nu2, ec_dt4_sed, lw=2, ls='-', marker='o', color=\"b\", label=\"DT, with beaming\")\n",
    "\n",
    "#plt.ylim(1e-13, 1e-2)\n",
    "plt.xlim(1.e16, 1.e21)\n",
    "plt.xlabel(sed_x_label)\n",
    "plt.ylabel(sed_y_label)\n",
    "plt.legend(ncol=2)\n",
    "plt.show()"
   ]
  },
  {
   "cell_type": "code",
   "execution_count": 29,
   "metadata": {},
   "outputs": [
    {
     "name": "stdout",
     "output_type": "stream",
     "text": [
      "maximum of 1.1514483946118636e-05 erg / (cm2 s) at [2.38168555e+20] Hz\n",
      "Expected peak at:  1.780560860595474e+20 Hz\n",
      "peak position obtained / expected:  [1.33760413]\n"
     ]
    }
   ],
   "source": [
    "# get the maximum of obtained SED\n",
    "sedmax_obt=np.amax(ec_dt4_sed)\n",
    "numax_obt=nu2[np.where(ec_dt4_sed==sedmax_obt)]\n",
    "print(\"maximum of\",sedmax_obt, \"at\",numax_obt)\n",
    "\n",
    "# in the frame of the BH, radiation field is almost perpendicular do the blob direction\n",
    "# so the doppler factor 1/(Gamma +beta*mu') is ~ Gamma\n",
    "doppler_dt=blob4.Gamma\n",
    "\n",
    "epsilon4=dt2.epsilon_dt*mec2 * doppler_dt # energy of DT photons in the frame of the jet\n",
    "# in frame of the blob photons are coming head-head (hence *2) \n",
    "# and then boosted back to observer's frame with blob's doppler factor \n",
    "gamma=np.sqrt(parameters2['gamma_max'] * parameters2['gamma_min'])\n",
    "Eg=epsilon4 * 2 * gamma**2 * blob4.delta_D \n",
    "numax_exp=(Eg/const.h).to(\"Hz\")\n",
    "print(\"Expected peak at: \",numax_exp)\n",
    "\n",
    "print(\"peak position obtained / expected: \", numax_obt/numax_exp)\n",
    "\n",
    "# in the slow blob case we had a difference of ~3.3, out of which a factor ~2 could be understood \n",
    "# as a simplification for fast blobs, so we had ~1.6 left. Here we get even closer value ~1.3\n",
    "# again, maybe there are more simplifications that fail in the case of slow blob, but still work for fast ones? \n",
    "# or there are two mistakes that nearly cancel each other :-)"
   ]
  },
  {
   "cell_type": "code",
   "execution_count": 31,
   "metadata": {
    "scrolled": true
   },
   "outputs": [
    {
     "name": "stdout",
     "output_type": "stream",
     "text": [
      "observed flux of photons =  8.872086565925649 1 / (cm2 s)\n",
      "Nsoft = 35603475175.08167 1 / cm3\n",
      "flux expected =  10.203376969500145 1 / (cm2 s)\n",
      "flux obtained / expected:  0.869524530206619\n"
     ]
    }
   ],
   "source": [
    "# now check the absolute level of flux from the (number) flux of photons from the obtained SED, \n",
    "# rough estimation dividing SED by peak energy \n",
    "#flux_obt = (sedmax_obt/ (numax_obt*const.h)).to(\"cm-2 s-1\")\n",
    "# a proper integral\n",
    "flux_obt=integrate_flux(nu2, ec_dt4_sed)\n",
    "print(\"observed flux of photons = \",flux_obt)\n",
    "\n",
    "# first calculate the number density of soft photons in blob\n",
    "# first without beaming\n",
    "# L_d *xi /epsilon of photons is sent per unit of time, \n",
    "# now just divide it by 4pi dist^2 to get the flux \n",
    "# and by c to convert to number density \n",
    "nsoft=L_disk*dt2.xi_dt/(dt2.epsilon_dt*mec2.to(\"erg\")) / (4*np.pi*dt2.R_dt**2*const.c.to(\"cm s-1\"))\n",
    "# energy density would scale as doppler_dt^3 \n",
    "# beaming for a perpendicular case will boost the number density by Gamma (just the transformation of volume) \n",
    "# note that the energy density of isotropic radiation is upscaled by ~Gamma^2 \n",
    "#( eq 10 in https://iopscience.iop.org/article/10.1086/341431), and this includes upscaling of energy by ~doppler_dt\n",
    "nsoft*=blob4.Gamma\n",
    "print(\"Nsoft =\",nsoft)\n",
    "\n",
    "# each electron produces 2*sigma_T*nsoft*c photons per second \n",
    "# (because of beaming photons coming head-head in the blob's frame)\n",
    "# then we need to multiply it by number of electrons in the blob\n",
    "# and divide it by 4 pi d_L^2\n",
    "#first without beaming\n",
    "flux_exp=2* const.sigma_T.to(\"cm2\")*nsoft*const.c.to(\"cm s-1\") * blob2.N_e_tot / (4*np.pi*blob2.d_L**2)\n",
    "# and now beaming will increase the flux of photons by blob's D to the power of 3 (2 from the angles, 1 from the time)\n",
    "flux_exp*=blob4.delta_D**3\n",
    "print(\"flux expected = \",flux_exp)\n",
    "\n",
    "print(\"flux obtained / expected: \", flux_obt/flux_exp)"
   ]
  },
  {
   "cell_type": "code",
   "execution_count": null,
   "metadata": {},
   "outputs": [],
   "source": []
  }
 ],
 "metadata": {
  "kernelspec": {
   "display_name": "Python 3",
   "language": "python",
   "name": "python3"
  },
  "language_info": {
   "codemirror_mode": {
    "name": "ipython",
    "version": 3
   },
   "file_extension": ".py",
   "mimetype": "text/x-python",
   "name": "python",
   "nbconvert_exporter": "python",
   "pygments_lexer": "ipython3",
   "version": "3.7.9"
  }
 },
 "nbformat": 4,
 "nbformat_minor": 2
}
